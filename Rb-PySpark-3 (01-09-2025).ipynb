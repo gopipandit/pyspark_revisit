{
 "cells": [
  {
   "cell_type": "code",
   "execution_count": 0,
   "metadata": {
    "application/vnd.databricks.v1+cell": {
     "cellMetadata": {
      "byteLimit": 2048000,
      "rowLimit": 10000
     },
     "inputWidgets": {},
     "nuid": "3cdf87b7-431c-4dfe-a928-b4a21696470b",
     "showTitle": false,
     "tableResultSettingsMap": {},
     "title": ""
    }
   },
   "outputs": [],
   "source": [
    "from pyspark.sql.functions import *\n",
    "from pyspark.sql.types import *"
   ]
  },
  {
   "cell_type": "code",
   "execution_count": 0,
   "metadata": {
    "application/vnd.databricks.v1+cell": {
     "cellMetadata": {
      "byteLimit": 2048000,
      "rowLimit": 10000
     },
     "inputWidgets": {},
     "nuid": "9c9eecbc-51a9-4858-ad85-bd9bba1ec25a",
     "showTitle": false,
     "tableResultSettingsMap": {},
     "title": ""
    }
   },
   "outputs": [],
   "source": [
    "employees_data = [\n",
    "    (1, \"Rahul\", \"Sharma\", \"1988-05-12\", \"IT\", 75000.00, \"2015-06-10\", \"rahul.sharma@company.com\", \"9876543210\"),\n",
    "    (2, \"Ananya\", \"Iyer\", \"1990-11-23\", \"Finance\", 65000.00, \"2017-04-22\", \"ananya.iyer@company.com\", \"9123456789\"),\n",
    "    (3, \"Vikram\", \"Singh\", \"1985-03-15\", \"HR\", 58000.00, \"2018-01-05\", \"vikram.singh@company.com\", \"9988776655\"),\n",
    "    (4, \"Priya\", \"Mehta\", \"1992-07-09\", \"Marketing\", 72000.00, \"2019-07-18\", \"priya.mehta@company.com\", \"9765432109\"),\n",
    "    (5, \"Rohit\", \"Verma\", \"1987-12-30\", \"Operations\", 69000.00, \"2016-10-12\", \"rohit.verma@company.com\", \"9098765432\"),\n",
    "    (6, \"Sneha\", \"Nair\", \"1991-02-18\", \"Sales\", 60000.00, \"2020-02-20\", \"sneha.nair@company.com\", \"9345678901\"),\n",
    "    (7, \"Amit\", \"Patel\", \"1984-08-03\", \"IT\", 85000.00, \"2014-03-14\", \"amit.patel@company.com\", \"9012345678\"),\n",
    "    (8, \"Neha\", \"Kapoor\", \"1993-01-25\", \"Finance\", 56000.00, \"2021-09-09\", \"neha.kapoor@company.com\", \"9871203456\"),\n",
    "    (9, \"Karan\", \"Malhotra\", \"1989-09-10\", \"Marketing\", 70000.00, \"2018-06-11\", \"karan.malhotra@company.com\", \"9988012345\"),\n",
    "    (10, \"Divya\", \"Reddy\", \"1994-04-05\", \"HR\", 55000.00, \"2022-01-17\", \"divya.reddy@company.com\", \"9123009876\"),\n",
    "    (11, \"Arjun\", \"Joshi\", \"1986-07-20\", \"IT\", 90000.00, \"2013-08-25\", \"arjun.joshi@company.com\", \"9801234567\"),\n",
    "    (12, \"Meera\", \"Desai\", \"1991-12-12\", \"Finance\", 67000.00, \"2017-11-19\", \"meera.desai@company.com\", \"9321456789\"),\n",
    "    (13, \"Suresh\", \"Pillai\", \"1983-10-08\", \"Operations\", 78000.00, \"2012-05-29\", \"suresh.pillai@company.com\", \"9765432190\"),\n",
    "    (14, \"Ritika\", \"Gupta\", \"1995-03-27\", \"Sales\", 52000.00, \"2023-03-15\", \"ritika.gupta@company.com\", \"9887766554\"),\n",
    "    (15, \"Manoj\", \"Chopra\", \"1987-09-14\", \"IT\", 81000.00, \"2016-12-01\", \"manoj.chopra@company.com\", \"9234567810\"),\n",
    "    (16, \"Pooja\", \"Rastogi\", \"1990-05-21\", \"Finance\", 63000.00, \"2019-04-04\", \"pooja.rastogi@company.com\", \"9345671234\"),\n",
    "    (17, \"Deepak\", \"Bansal\", \"1984-11-11\", \"Marketing\", 72000.00, \"2015-09-10\", \"deepak.bansal@company.com\", \"9011223344\"),\n",
    "    (18, \"Shalini\", \"Roy\", \"1992-06-16\", \"HR\", 57000.00, \"2020-08-12\", \"shalini.roy@company.com\", \"9776655443\"),\n",
    "    (19, \"Nikhil\", \"Agarwal\", \"1988-01-30\", \"Operations\", 74000.00, \"2017-01-29\", \"nikhil.agarwal@company.com\", \"9456789012\"),\n",
    "    (20, \"Kavya\", \"Menon\", \"1993-08-08\", \"Sales\", 61000.00, \"2021-06-06\", \"kavya.menon@company.com\", \"9988772211\"),\n",
    "    (21, \"Gopi\", \"Nath\", \"1993-08-08\", \"IT\", 161000.00, \"2025-06-21\", \"gopi.nath@company.com\", \"9988772345\"),\n",
    "]"
   ]
  },
  {
   "cell_type": "code",
   "execution_count": 0,
   "metadata": {
    "application/vnd.databricks.v1+cell": {
     "cellMetadata": {
      "byteLimit": 2048000,
      "rowLimit": 10000
     },
     "inputWidgets": {},
     "nuid": "47195f81-8848-49d5-bec8-9b9bb32dbfea",
     "showTitle": false,
     "tableResultSettingsMap": {},
     "title": ""
    }
   },
   "outputs": [],
   "source": [
    "_schema = StructType([\n",
    "    StructField(\"emp_id\", IntegerType(), False),\n",
    "    StructField(\"first_name\", StringType(), True),\n",
    "    StructField(\"last_name\", StringType(), True),\n",
    "    StructField(\"dob\", StringType(), True),\n",
    "    StructField(\"department\", StringType(), True),\n",
    "    StructField(\"salary\", DoubleType(), True),\n",
    "    StructField(\"joining_date\", StringType(), True),\n",
    "    StructField(\"email\", StringType(), True),\n",
    "    StructField(\"phone_number\", StringType(), True)\n",
    "])"
   ]
  },
  {
   "cell_type": "code",
   "execution_count": 0,
   "metadata": {
    "application/vnd.databricks.v1+cell": {
     "cellMetadata": {
      "byteLimit": 2048000,
      "rowLimit": 10000
     },
     "inputWidgets": {},
     "nuid": "306acf16-f375-402e-b5a8-fd58b85ab151",
     "showTitle": false,
     "tableResultSettingsMap": {},
     "title": ""
    }
   },
   "outputs": [],
   "source": [
    "employee = spark.createDataFrame(employees_data,_schema)"
   ]
  },
  {
   "cell_type": "code",
   "execution_count": 0,
   "metadata": {
    "application/vnd.databricks.v1+cell": {
     "cellMetadata": {
      "byteLimit": 2048000,
      "rowLimit": 10000
     },
     "inputWidgets": {},
     "nuid": "09e87c1a-aa01-4077-a1ea-6aa2ac24135c",
     "showTitle": false,
     "tableResultSettingsMap": {},
     "title": ""
    }
   },
   "outputs": [
    {
     "output_type": "stream",
     "name": "stdout",
     "output_type": "stream",
     "text": [
      "root\n |-- emp_id: integer (nullable = false)\n |-- first_name: string (nullable = true)\n |-- last_name: string (nullable = true)\n |-- dob: string (nullable = true)\n |-- department: string (nullable = true)\n |-- salary: double (nullable = true)\n |-- joining_date: string (nullable = true)\n |-- email: string (nullable = true)\n |-- phone_number: string (nullable = true)\n\n"
     ]
    }
   ],
   "source": [
    "employee.printSchema()"
   ]
  },
  {
   "cell_type": "code",
   "execution_count": 0,
   "metadata": {
    "application/vnd.databricks.v1+cell": {
     "cellMetadata": {
      "byteLimit": 2048000,
      "rowLimit": 10000
     },
     "inputWidgets": {},
     "nuid": "fd98cdcc-e687-495c-8804-f3e464707021",
     "showTitle": false,
     "tableResultSettingsMap": {},
     "title": ""
    }
   },
   "outputs": [],
   "source": [
    "#casting the string columns to date\n",
    "employee = employee.withColumn(\"dob\", to_date(col(\"dob\"))).withColumn(\"joining_date\", to_date(col(\"dob\")))"
   ]
  },
  {
   "cell_type": "markdown",
   "metadata": {
    "application/vnd.databricks.v1+cell": {
     "cellMetadata": {},
     "inputWidgets": {},
     "nuid": "7507fac3-f749-40f7-8da4-0922737a4152",
     "showTitle": false,
     "tableResultSettingsMap": {},
     "title": ""
    }
   },
   "source": [
    "###  *1. Date transformation*"
   ]
  },
  {
   "cell_type": "code",
   "execution_count": 0,
   "metadata": {
    "application/vnd.databricks.v1+cell": {
     "cellMetadata": {
      "byteLimit": 2048000,
      "rowLimit": 10000
     },
     "inputWidgets": {},
     "nuid": "9990edec-f5f8-4f28-a8e0-17cf1b19d252",
     "showTitle": false,
     "tableResultSettingsMap": {},
     "title": ""
    }
   },
   "outputs": [
    {
     "output_type": "stream",
     "name": "stdout",
     "output_type": "stream",
     "text": [
      "Out[11]: ['emp_id',\n 'first_name',\n 'last_name',\n 'dob',\n 'department',\n 'salary',\n 'joining_date',\n 'email',\n 'phone_number']"
     ]
    }
   ],
   "source": [
    "employee.columns"
   ]
  },
  {
   "cell_type": "code",
   "execution_count": 0,
   "metadata": {
    "application/vnd.databricks.v1+cell": {
     "cellMetadata": {
      "byteLimit": 2048000,
      "rowLimit": 10000
     },
     "inputWidgets": {},
     "nuid": "ee256448-e777-4170-af5c-262646fe88cb",
     "showTitle": false,
     "tableResultSettingsMap": {},
     "title": ""
    }
   },
   "outputs": [],
   "source": [
    "#Extract day, month and year\n",
    "employee2  = employee.select('emp_id','first_name','last_name','joining_date').withColumn(\"joining_day\", dayofmonth(col(\"joining_date\"))).withColumn(\"joining_month\", month(col(\"joining_date\"))).withColumn(\"joining_year\", year(col(\"joining_date\")))"
   ]
  },
  {
   "cell_type": "code",
   "execution_count": 0,
   "metadata": {
    "application/vnd.databricks.v1+cell": {
     "cellMetadata": {
      "byteLimit": 2048000,
      "rowLimit": 10000
     },
     "inputWidgets": {},
     "nuid": "04987a45-86af-44f5-a0d6-e994755f1e80",
     "showTitle": false,
     "tableResultSettingsMap": {},
     "title": ""
    }
   },
   "outputs": [
    {
     "output_type": "display_data",
     "data": {
      "text/html": [
       "<style scoped>\n",
       "  .table-result-container {\n",
       "    max-height: 300px;\n",
       "    overflow: auto;\n",
       "  }\n",
       "  table, th, td {\n",
       "    border: 1px solid black;\n",
       "    border-collapse: collapse;\n",
       "  }\n",
       "  th, td {\n",
       "    padding: 5px;\n",
       "  }\n",
       "  th {\n",
       "    text-align: left;\n",
       "  }\n",
       "</style><div class='table-result-container'><table class='table-result'><thead style='background-color: white'><tr><th>emp_id</th><th>first_name</th><th>last_name</th><th>joining_date</th><th>joining_day</th><th>joining_month</th><th>joining_year</th></tr></thead><tbody><tr><td>1</td><td>Rahul</td><td>Sharma</td><td>1988-05-12</td><td>12</td><td>5</td><td>1988</td></tr><tr><td>2</td><td>Ananya</td><td>Iyer</td><td>1990-11-23</td><td>23</td><td>11</td><td>1990</td></tr><tr><td>3</td><td>Vikram</td><td>Singh</td><td>1985-03-15</td><td>15</td><td>3</td><td>1985</td></tr><tr><td>4</td><td>Priya</td><td>Mehta</td><td>1992-07-09</td><td>9</td><td>7</td><td>1992</td></tr><tr><td>5</td><td>Rohit</td><td>Verma</td><td>1987-12-30</td><td>30</td><td>12</td><td>1987</td></tr><tr><td>6</td><td>Sneha</td><td>Nair</td><td>1991-02-18</td><td>18</td><td>2</td><td>1991</td></tr><tr><td>7</td><td>Amit</td><td>Patel</td><td>1984-08-03</td><td>3</td><td>8</td><td>1984</td></tr><tr><td>8</td><td>Neha</td><td>Kapoor</td><td>1993-01-25</td><td>25</td><td>1</td><td>1993</td></tr><tr><td>9</td><td>Karan</td><td>Malhotra</td><td>1989-09-10</td><td>10</td><td>9</td><td>1989</td></tr><tr><td>10</td><td>Divya</td><td>Reddy</td><td>1994-04-05</td><td>5</td><td>4</td><td>1994</td></tr><tr><td>11</td><td>Arjun</td><td>Joshi</td><td>1986-07-20</td><td>20</td><td>7</td><td>1986</td></tr><tr><td>12</td><td>Meera</td><td>Desai</td><td>1991-12-12</td><td>12</td><td>12</td><td>1991</td></tr><tr><td>13</td><td>Suresh</td><td>Pillai</td><td>1983-10-08</td><td>8</td><td>10</td><td>1983</td></tr><tr><td>14</td><td>Ritika</td><td>Gupta</td><td>1995-03-27</td><td>27</td><td>3</td><td>1995</td></tr><tr><td>15</td><td>Manoj</td><td>Chopra</td><td>1987-09-14</td><td>14</td><td>9</td><td>1987</td></tr><tr><td>16</td><td>Pooja</td><td>Rastogi</td><td>1990-05-21</td><td>21</td><td>5</td><td>1990</td></tr><tr><td>17</td><td>Deepak</td><td>Bansal</td><td>1984-11-11</td><td>11</td><td>11</td><td>1984</td></tr><tr><td>18</td><td>Shalini</td><td>Roy</td><td>1992-06-16</td><td>16</td><td>6</td><td>1992</td></tr><tr><td>19</td><td>Nikhil</td><td>Agarwal</td><td>1988-01-30</td><td>30</td><td>1</td><td>1988</td></tr><tr><td>20</td><td>Kavya</td><td>Menon</td><td>1993-08-08</td><td>8</td><td>8</td><td>1993</td></tr></tbody></table></div>"
      ]
     },
     "metadata": {
      "application/vnd.databricks.v1+output": {
       "addedWidgets": {},
       "aggData": [],
       "aggError": "",
       "aggOverflow": false,
       "aggSchema": [],
       "aggSeriesLimitReached": false,
       "aggType": "",
       "arguments": {},
       "columnCustomDisplayInfos": {},
       "data": [
        [
         1,
         "Rahul",
         "Sharma",
         "1988-05-12",
         12,
         5,
         1988
        ],
        [
         2,
         "Ananya",
         "Iyer",
         "1990-11-23",
         23,
         11,
         1990
        ],
        [
         3,
         "Vikram",
         "Singh",
         "1985-03-15",
         15,
         3,
         1985
        ],
        [
         4,
         "Priya",
         "Mehta",
         "1992-07-09",
         9,
         7,
         1992
        ],
        [
         5,
         "Rohit",
         "Verma",
         "1987-12-30",
         30,
         12,
         1987
        ],
        [
         6,
         "Sneha",
         "Nair",
         "1991-02-18",
         18,
         2,
         1991
        ],
        [
         7,
         "Amit",
         "Patel",
         "1984-08-03",
         3,
         8,
         1984
        ],
        [
         8,
         "Neha",
         "Kapoor",
         "1993-01-25",
         25,
         1,
         1993
        ],
        [
         9,
         "Karan",
         "Malhotra",
         "1989-09-10",
         10,
         9,
         1989
        ],
        [
         10,
         "Divya",
         "Reddy",
         "1994-04-05",
         5,
         4,
         1994
        ],
        [
         11,
         "Arjun",
         "Joshi",
         "1986-07-20",
         20,
         7,
         1986
        ],
        [
         12,
         "Meera",
         "Desai",
         "1991-12-12",
         12,
         12,
         1991
        ],
        [
         13,
         "Suresh",
         "Pillai",
         "1983-10-08",
         8,
         10,
         1983
        ],
        [
         14,
         "Ritika",
         "Gupta",
         "1995-03-27",
         27,
         3,
         1995
        ],
        [
         15,
         "Manoj",
         "Chopra",
         "1987-09-14",
         14,
         9,
         1987
        ],
        [
         16,
         "Pooja",
         "Rastogi",
         "1990-05-21",
         21,
         5,
         1990
        ],
        [
         17,
         "Deepak",
         "Bansal",
         "1984-11-11",
         11,
         11,
         1984
        ],
        [
         18,
         "Shalini",
         "Roy",
         "1992-06-16",
         16,
         6,
         1992
        ],
        [
         19,
         "Nikhil",
         "Agarwal",
         "1988-01-30",
         30,
         1,
         1988
        ],
        [
         20,
         "Kavya",
         "Menon",
         "1993-08-08",
         8,
         8,
         1993
        ]
       ],
       "datasetInfos": [],
       "dbfsResultPath": null,
       "isJsonSchema": true,
       "metadata": {},
       "overflow": false,
       "plotOptions": {
        "customPlotOptions": {},
        "displayType": "table",
        "pivotAggregation": null,
        "pivotColumns": null,
        "xColumns": null,
        "yColumns": null
       },
       "removedWidgets": [],
       "schema": [
        {
         "metadata": "{}",
         "name": "emp_id",
         "type": "\"integer\""
        },
        {
         "metadata": "{}",
         "name": "first_name",
         "type": "\"string\""
        },
        {
         "metadata": "{}",
         "name": "last_name",
         "type": "\"string\""
        },
        {
         "metadata": "{}",
         "name": "joining_date",
         "type": "\"date\""
        },
        {
         "metadata": "{}",
         "name": "joining_day",
         "type": "\"integer\""
        },
        {
         "metadata": "{}",
         "name": "joining_month",
         "type": "\"integer\""
        },
        {
         "metadata": "{}",
         "name": "joining_year",
         "type": "\"integer\""
        }
       ],
       "type": "table"
      }
     },
     "output_type": "display_data"
    }
   ],
   "source": [
    "display(employee2)"
   ]
  },
  {
   "cell_type": "code",
   "execution_count": 0,
   "metadata": {
    "application/vnd.databricks.v1+cell": {
     "cellMetadata": {
      "byteLimit": 2048000,
      "rowLimit": 10000
     },
     "inputWidgets": {},
     "nuid": "6b91680d-2f73-4ac8-bad8-f5c303b5688e",
     "showTitle": false,
     "tableResultSettingsMap": {},
     "title": ""
    }
   },
   "outputs": [],
   "source": [
    "#extract day name and month name\n",
    "employee2  = employee2.withColumn(\"day_name\", date_format(col(\"joining_date\"),\"EEE\")).withColumn(\"month_name\", date_format(col(\"joining_date\"),\"MMM\"))\n"
   ]
  },
  {
   "cell_type": "code",
   "execution_count": 0,
   "metadata": {
    "application/vnd.databricks.v1+cell": {
     "cellMetadata": {
      "byteLimit": 2048000,
      "rowLimit": 10000
     },
     "inputWidgets": {},
     "nuid": "25a89ad8-83dd-49df-aeeb-1f813b3ad68a",
     "showTitle": false,
     "tableResultSettingsMap": {},
     "title": ""
    }
   },
   "outputs": [],
   "source": [
    "# 1.Get day of year (1–365).\n",
    "# 2.Find the last day of month for a given date.\n",
    "employee2 = employee2.withColumn(\"day_of_the_year\", dayofyear(col(\"joining_date\"))).withColumn(\"last_day_of_the_month\", last_day(col(\"joining_date\")))"
   ]
  },
  {
   "cell_type": "code",
   "execution_count": 0,
   "metadata": {
    "application/vnd.databricks.v1+cell": {
     "cellMetadata": {
      "byteLimit": 2048000,
      "rowLimit": 10000
     },
     "inputWidgets": {},
     "nuid": "4481c0e7-ee95-4059-b6d4-369a9f4c14bd",
     "showTitle": false,
     "tableResultSettingsMap": {},
     "title": ""
    }
   },
   "outputs": [
    {
     "output_type": "display_data",
     "data": {
      "text/html": [
       "<style scoped>\n",
       "  .table-result-container {\n",
       "    max-height: 300px;\n",
       "    overflow: auto;\n",
       "  }\n",
       "  table, th, td {\n",
       "    border: 1px solid black;\n",
       "    border-collapse: collapse;\n",
       "  }\n",
       "  th, td {\n",
       "    padding: 5px;\n",
       "  }\n",
       "  th {\n",
       "    text-align: left;\n",
       "  }\n",
       "</style><div class='table-result-container'><table class='table-result'><thead style='background-color: white'><tr><th>emp_id</th><th>first_name</th><th>last_name</th><th>joining_date</th><th>joining_day</th><th>joining_month</th><th>joining_year</th><th>day_name</th><th>month_name</th><th>day_of_the_year</th><th>last_day_of_the_month</th></tr></thead><tbody><tr><td>1</td><td>Rahul</td><td>Sharma</td><td>1988-05-12</td><td>12</td><td>5</td><td>1988</td><td>Thu</td><td>May</td><td>133</td><td>1988-05-31</td></tr><tr><td>2</td><td>Ananya</td><td>Iyer</td><td>1990-11-23</td><td>23</td><td>11</td><td>1990</td><td>Fri</td><td>Nov</td><td>327</td><td>1990-11-30</td></tr><tr><td>3</td><td>Vikram</td><td>Singh</td><td>1985-03-15</td><td>15</td><td>3</td><td>1985</td><td>Fri</td><td>Mar</td><td>74</td><td>1985-03-31</td></tr><tr><td>4</td><td>Priya</td><td>Mehta</td><td>1992-07-09</td><td>9</td><td>7</td><td>1992</td><td>Thu</td><td>Jul</td><td>191</td><td>1992-07-31</td></tr><tr><td>5</td><td>Rohit</td><td>Verma</td><td>1987-12-30</td><td>30</td><td>12</td><td>1987</td><td>Wed</td><td>Dec</td><td>364</td><td>1987-12-31</td></tr><tr><td>6</td><td>Sneha</td><td>Nair</td><td>1991-02-18</td><td>18</td><td>2</td><td>1991</td><td>Mon</td><td>Feb</td><td>49</td><td>1991-02-28</td></tr><tr><td>7</td><td>Amit</td><td>Patel</td><td>1984-08-03</td><td>3</td><td>8</td><td>1984</td><td>Fri</td><td>Aug</td><td>216</td><td>1984-08-31</td></tr><tr><td>8</td><td>Neha</td><td>Kapoor</td><td>1993-01-25</td><td>25</td><td>1</td><td>1993</td><td>Mon</td><td>Jan</td><td>25</td><td>1993-01-31</td></tr><tr><td>9</td><td>Karan</td><td>Malhotra</td><td>1989-09-10</td><td>10</td><td>9</td><td>1989</td><td>Sun</td><td>Sep</td><td>253</td><td>1989-09-30</td></tr><tr><td>10</td><td>Divya</td><td>Reddy</td><td>1994-04-05</td><td>5</td><td>4</td><td>1994</td><td>Tue</td><td>Apr</td><td>95</td><td>1994-04-30</td></tr><tr><td>11</td><td>Arjun</td><td>Joshi</td><td>1986-07-20</td><td>20</td><td>7</td><td>1986</td><td>Sun</td><td>Jul</td><td>201</td><td>1986-07-31</td></tr><tr><td>12</td><td>Meera</td><td>Desai</td><td>1991-12-12</td><td>12</td><td>12</td><td>1991</td><td>Thu</td><td>Dec</td><td>346</td><td>1991-12-31</td></tr><tr><td>13</td><td>Suresh</td><td>Pillai</td><td>1983-10-08</td><td>8</td><td>10</td><td>1983</td><td>Sat</td><td>Oct</td><td>281</td><td>1983-10-31</td></tr><tr><td>14</td><td>Ritika</td><td>Gupta</td><td>1995-03-27</td><td>27</td><td>3</td><td>1995</td><td>Mon</td><td>Mar</td><td>86</td><td>1995-03-31</td></tr><tr><td>15</td><td>Manoj</td><td>Chopra</td><td>1987-09-14</td><td>14</td><td>9</td><td>1987</td><td>Mon</td><td>Sep</td><td>257</td><td>1987-09-30</td></tr><tr><td>16</td><td>Pooja</td><td>Rastogi</td><td>1990-05-21</td><td>21</td><td>5</td><td>1990</td><td>Mon</td><td>May</td><td>141</td><td>1990-05-31</td></tr><tr><td>17</td><td>Deepak</td><td>Bansal</td><td>1984-11-11</td><td>11</td><td>11</td><td>1984</td><td>Sun</td><td>Nov</td><td>316</td><td>1984-11-30</td></tr><tr><td>18</td><td>Shalini</td><td>Roy</td><td>1992-06-16</td><td>16</td><td>6</td><td>1992</td><td>Tue</td><td>Jun</td><td>168</td><td>1992-06-30</td></tr><tr><td>19</td><td>Nikhil</td><td>Agarwal</td><td>1988-01-30</td><td>30</td><td>1</td><td>1988</td><td>Sat</td><td>Jan</td><td>30</td><td>1988-01-31</td></tr><tr><td>20</td><td>Kavya</td><td>Menon</td><td>1993-08-08</td><td>8</td><td>8</td><td>1993</td><td>Sun</td><td>Aug</td><td>220</td><td>1993-08-31</td></tr></tbody></table></div>"
      ]
     },
     "metadata": {
      "application/vnd.databricks.v1+output": {
       "addedWidgets": {},
       "aggData": [],
       "aggError": "",
       "aggOverflow": false,
       "aggSchema": [],
       "aggSeriesLimitReached": false,
       "aggType": "",
       "arguments": {},
       "columnCustomDisplayInfos": {},
       "data": [
        [
         1,
         "Rahul",
         "Sharma",
         "1988-05-12",
         12,
         5,
         1988,
         "Thu",
         "May",
         133,
         "1988-05-31"
        ],
        [
         2,
         "Ananya",
         "Iyer",
         "1990-11-23",
         23,
         11,
         1990,
         "Fri",
         "Nov",
         327,
         "1990-11-30"
        ],
        [
         3,
         "Vikram",
         "Singh",
         "1985-03-15",
         15,
         3,
         1985,
         "Fri",
         "Mar",
         74,
         "1985-03-31"
        ],
        [
         4,
         "Priya",
         "Mehta",
         "1992-07-09",
         9,
         7,
         1992,
         "Thu",
         "Jul",
         191,
         "1992-07-31"
        ],
        [
         5,
         "Rohit",
         "Verma",
         "1987-12-30",
         30,
         12,
         1987,
         "Wed",
         "Dec",
         364,
         "1987-12-31"
        ],
        [
         6,
         "Sneha",
         "Nair",
         "1991-02-18",
         18,
         2,
         1991,
         "Mon",
         "Feb",
         49,
         "1991-02-28"
        ],
        [
         7,
         "Amit",
         "Patel",
         "1984-08-03",
         3,
         8,
         1984,
         "Fri",
         "Aug",
         216,
         "1984-08-31"
        ],
        [
         8,
         "Neha",
         "Kapoor",
         "1993-01-25",
         25,
         1,
         1993,
         "Mon",
         "Jan",
         25,
         "1993-01-31"
        ],
        [
         9,
         "Karan",
         "Malhotra",
         "1989-09-10",
         10,
         9,
         1989,
         "Sun",
         "Sep",
         253,
         "1989-09-30"
        ],
        [
         10,
         "Divya",
         "Reddy",
         "1994-04-05",
         5,
         4,
         1994,
         "Tue",
         "Apr",
         95,
         "1994-04-30"
        ],
        [
         11,
         "Arjun",
         "Joshi",
         "1986-07-20",
         20,
         7,
         1986,
         "Sun",
         "Jul",
         201,
         "1986-07-31"
        ],
        [
         12,
         "Meera",
         "Desai",
         "1991-12-12",
         12,
         12,
         1991,
         "Thu",
         "Dec",
         346,
         "1991-12-31"
        ],
        [
         13,
         "Suresh",
         "Pillai",
         "1983-10-08",
         8,
         10,
         1983,
         "Sat",
         "Oct",
         281,
         "1983-10-31"
        ],
        [
         14,
         "Ritika",
         "Gupta",
         "1995-03-27",
         27,
         3,
         1995,
         "Mon",
         "Mar",
         86,
         "1995-03-31"
        ],
        [
         15,
         "Manoj",
         "Chopra",
         "1987-09-14",
         14,
         9,
         1987,
         "Mon",
         "Sep",
         257,
         "1987-09-30"
        ],
        [
         16,
         "Pooja",
         "Rastogi",
         "1990-05-21",
         21,
         5,
         1990,
         "Mon",
         "May",
         141,
         "1990-05-31"
        ],
        [
         17,
         "Deepak",
         "Bansal",
         "1984-11-11",
         11,
         11,
         1984,
         "Sun",
         "Nov",
         316,
         "1984-11-30"
        ],
        [
         18,
         "Shalini",
         "Roy",
         "1992-06-16",
         16,
         6,
         1992,
         "Tue",
         "Jun",
         168,
         "1992-06-30"
        ],
        [
         19,
         "Nikhil",
         "Agarwal",
         "1988-01-30",
         30,
         1,
         1988,
         "Sat",
         "Jan",
         30,
         "1988-01-31"
        ],
        [
         20,
         "Kavya",
         "Menon",
         "1993-08-08",
         8,
         8,
         1993,
         "Sun",
         "Aug",
         220,
         "1993-08-31"
        ]
       ],
       "datasetInfos": [],
       "dbfsResultPath": null,
       "isJsonSchema": true,
       "metadata": {},
       "overflow": false,
       "plotOptions": {
        "customPlotOptions": {},
        "displayType": "table",
        "pivotAggregation": null,
        "pivotColumns": null,
        "xColumns": null,
        "yColumns": null
       },
       "removedWidgets": [],
       "schema": [
        {
         "metadata": "{}",
         "name": "emp_id",
         "type": "\"integer\""
        },
        {
         "metadata": "{}",
         "name": "first_name",
         "type": "\"string\""
        },
        {
         "metadata": "{}",
         "name": "last_name",
         "type": "\"string\""
        },
        {
         "metadata": "{}",
         "name": "joining_date",
         "type": "\"date\""
        },
        {
         "metadata": "{}",
         "name": "joining_day",
         "type": "\"integer\""
        },
        {
         "metadata": "{}",
         "name": "joining_month",
         "type": "\"integer\""
        },
        {
         "metadata": "{}",
         "name": "joining_year",
         "type": "\"integer\""
        },
        {
         "metadata": "{}",
         "name": "day_name",
         "type": "\"string\""
        },
        {
         "metadata": "{}",
         "name": "month_name",
         "type": "\"string\""
        },
        {
         "metadata": "{}",
         "name": "day_of_the_year",
         "type": "\"integer\""
        },
        {
         "metadata": "{}",
         "name": "last_day_of_the_month",
         "type": "\"date\""
        }
       ],
       "type": "table"
      }
     },
     "output_type": "display_data"
    }
   ],
   "source": [
    "display(employee2)"
   ]
  },
  {
   "cell_type": "markdown",
   "metadata": {
    "application/vnd.databricks.v1+cell": {
     "cellMetadata": {},
     "inputWidgets": {},
     "nuid": "d4373fc2-8d83-424e-8197-70c62e40d081",
     "showTitle": false,
     "tableResultSettingsMap": {},
     "title": ""
    }
   },
   "source": [
    "Add or subtract a certain number of days, months, or years from a date.\n",
    "\n",
    "Calculate the difference between two dates (e.g., tenure = joining_date → today).\n",
    "\n",
    "Add a column with age based on dob."
   ]
  },
  {
   "cell_type": "code",
   "execution_count": 0,
   "metadata": {
    "application/vnd.databricks.v1+cell": {
     "cellMetadata": {
      "byteLimit": 2048000,
      "rowLimit": 10000
     },
     "inputWidgets": {},
     "nuid": "f39cdc85-946a-4f0f-afc5-2c7567699944",
     "showTitle": false,
     "tableResultSettingsMap": {},
     "title": ""
    }
   },
   "outputs": [
    {
     "output_type": "stream",
     "name": "stdout",
     "output_type": "stream",
     "text": [
      "Out[31]: ['emp_id',\n 'first_name',\n 'last_name',\n 'dob',\n 'department',\n 'salary',\n 'joining_date',\n 'email',\n 'phone_number']"
     ]
    }
   ],
   "source": [
    "employee.columns"
   ]
  },
  {
   "cell_type": "code",
   "execution_count": 0,
   "metadata": {
    "application/vnd.databricks.v1+cell": {
     "cellMetadata": {
      "byteLimit": 2048000,
      "rowLimit": 10000
     },
     "inputWidgets": {},
     "nuid": "c3cb7626-f8dd-44c5-ab5b-b3e93b156034",
     "showTitle": false,
     "tableResultSettingsMap": {},
     "title": ""
    }
   },
   "outputs": [],
   "source": [
    "employee3 = employee.select(\"emp_id\",\"first_name\",\"last_name\",\"dob\",\"joining_date\").withColumn(\"age\", floor(months_between(current_date(), col(\"dob\"))/12)).withColumn(\"tenure\", floor(months_between(current_date(), col(\"joining_date\"))))"
   ]
  },
  {
   "cell_type": "code",
   "execution_count": 0,
   "metadata": {
    "application/vnd.databricks.v1+cell": {
     "cellMetadata": {
      "byteLimit": 2048000,
      "rowLimit": 10000
     },
     "inputWidgets": {},
     "nuid": "7255c00b-d073-4b51-acea-5a21c0f4a73c",
     "showTitle": false,
     "tableResultSettingsMap": {},
     "title": ""
    }
   },
   "outputs": [
    {
     "output_type": "stream",
     "name": "stdout",
     "output_type": "stream",
     "text": [
      "+------+----------+---------+----------+------------+---+------+\n|emp_id|first_name|last_name|       dob|joining_date|age|tenure|\n+------+----------+---------+----------+------------+---+------+\n|     1|     Rahul|   Sharma|1988-05-12|  2015-06-10| 37|   122|\n|     2|    Ananya|     Iyer|1990-11-23|  2017-04-22| 34|   100|\n|     3|    Vikram|    Singh|1985-03-15|  2018-01-05| 40|    91|\n|     4|     Priya|    Mehta|1992-07-09|  2019-07-18| 33|    73|\n|     5|     Rohit|    Verma|1987-12-30|  2016-10-12| 37|   106|\n|     6|     Sneha|     Nair|1991-02-18|  2020-02-20| 34|    66|\n|     7|      Amit|    Patel|1984-08-03|  2014-03-14| 41|   137|\n|     8|      Neha|   Kapoor|1993-01-25|  2021-09-09| 32|    47|\n|     9|     Karan| Malhotra|1989-09-10|  2018-06-11| 35|    86|\n|    10|     Divya|    Reddy|1994-04-05|  2022-01-17| 31|    43|\n|    11|     Arjun|    Joshi|1986-07-20|  2013-08-25| 39|   144|\n|    12|     Meera|    Desai|1991-12-12|  2017-11-19| 33|    93|\n|    13|    Suresh|   Pillai|1983-10-08|  2012-05-29| 41|   159|\n|    14|    Ritika|    Gupta|1995-03-27|  2023-03-15| 30|    29|\n|    15|     Manoj|   Chopra|1987-09-14|  2016-12-01| 37|   105|\n|    16|     Pooja|  Rastogi|1990-05-21|  2019-04-04| 35|    76|\n|    17|    Deepak|   Bansal|1984-11-11|  2015-09-10| 40|   119|\n|    18|   Shalini|      Roy|1992-06-16|  2020-08-12| 33|    60|\n|    19|    Nikhil|  Agarwal|1988-01-30|  2017-01-29| 37|   103|\n|    20|     Kavya|    Menon|1993-08-08|  2021-06-06| 32|    50|\n+------+----------+---------+----------+------------+---+------+\nonly showing top 20 rows\n\n"
     ]
    }
   ],
   "source": [
    "employee3.show()"
   ]
  },
  {
   "cell_type": "markdown",
   "metadata": {
    "application/vnd.databricks.v1+cell": {
     "cellMetadata": {},
     "inputWidgets": {},
     "nuid": "e5e8ae65-0203-4591-99b9-553af85a7302",
     "showTitle": false,
     "tableResultSettingsMap": {},
     "title": ""
    }
   },
   "source": [
    "_**Convert a date into a different string format (e.g., 2025-08-31 → 31-Aug-2025).**_"
   ]
  },
  {
   "cell_type": "code",
   "execution_count": 0,
   "metadata": {
    "application/vnd.databricks.v1+cell": {
     "cellMetadata": {
      "byteLimit": 2048000,
      "rowLimit": 10000
     },
     "inputWidgets": {},
     "nuid": "1acf0817-44dd-41f2-b2e7-c9e5d46f1c27",
     "showTitle": false,
     "tableResultSettingsMap": {},
     "title": ""
    }
   },
   "outputs": [],
   "source": [
    "employee3 = employee3.withColumn(\"joining_date\", date_format(col(\"joining_date\"), \"dd-MMM-yyyy\" ))"
   ]
  },
  {
   "cell_type": "code",
   "execution_count": 0,
   "metadata": {
    "application/vnd.databricks.v1+cell": {
     "cellMetadata": {
      "byteLimit": 2048000,
      "rowLimit": 10000
     },
     "inputWidgets": {},
     "nuid": "ebe7f585-f091-48fe-bf85-653771347656",
     "showTitle": false,
     "tableResultSettingsMap": {},
     "title": ""
    }
   },
   "outputs": [
    {
     "output_type": "stream",
     "name": "stdout",
     "output_type": "stream",
     "text": [
      "+------+----------+---------+----------+------------+---+------+\n|emp_id|first_name|last_name|       dob|joining_date|age|tenure|\n+------+----------+---------+----------+------------+---+------+\n|     1|     Rahul|   Sharma|1988-05-12| 10-Jun-2015| 37|   122|\n|     2|    Ananya|     Iyer|1990-11-23| 22-Apr-2017| 34|   100|\n|     3|    Vikram|    Singh|1985-03-15| 05-Jan-2018| 40|    91|\n|     4|     Priya|    Mehta|1992-07-09| 18-Jul-2019| 33|    73|\n|     5|     Rohit|    Verma|1987-12-30| 12-Oct-2016| 37|   106|\n|     6|     Sneha|     Nair|1991-02-18| 20-Feb-2020| 34|    66|\n|     7|      Amit|    Patel|1984-08-03| 14-Mar-2014| 41|   137|\n|     8|      Neha|   Kapoor|1993-01-25| 09-Sep-2021| 32|    47|\n|     9|     Karan| Malhotra|1989-09-10| 11-Jun-2018| 35|    86|\n|    10|     Divya|    Reddy|1994-04-05| 17-Jan-2022| 31|    43|\n|    11|     Arjun|    Joshi|1986-07-20| 25-Aug-2013| 39|   144|\n|    12|     Meera|    Desai|1991-12-12| 19-Nov-2017| 33|    93|\n|    13|    Suresh|   Pillai|1983-10-08| 29-May-2012| 41|   159|\n|    14|    Ritika|    Gupta|1995-03-27| 15-Mar-2023| 30|    29|\n|    15|     Manoj|   Chopra|1987-09-14| 01-Dec-2016| 37|   105|\n|    16|     Pooja|  Rastogi|1990-05-21| 04-Apr-2019| 35|    76|\n|    17|    Deepak|   Bansal|1984-11-11| 10-Sep-2015| 40|   119|\n|    18|   Shalini|      Roy|1992-06-16| 12-Aug-2020| 33|    60|\n|    19|    Nikhil|  Agarwal|1988-01-30| 29-Jan-2017| 37|   103|\n|    20|     Kavya|    Menon|1993-08-08| 06-Jun-2021| 32|    50|\n+------+----------+---------+----------+------------+---+------+\nonly showing top 20 rows\n\n"
     ]
    }
   ],
   "source": [
    "employee3.show()"
   ]
  },
  {
   "cell_type": "markdown",
   "metadata": {
    "application/vnd.databricks.v1+cell": {
     "cellMetadata": {},
     "inputWidgets": {},
     "nuid": "f535fefc-6fc7-41a0-8997-aee7a57f8b76",
     "showTitle": false,
     "tableResultSettingsMap": {},
     "title": ""
    }
   },
   "source": [
    "**Check if a date falls on a weekend vs weekday.**"
   ]
  },
  {
   "cell_type": "code",
   "execution_count": 0,
   "metadata": {
    "application/vnd.databricks.v1+cell": {
     "cellMetadata": {
      "byteLimit": 2048000,
      "rowLimit": 10000
     },
     "inputWidgets": {},
     "nuid": "b779fac1-e65b-4ba9-b8f4-9924dbfb2fe2",
     "showTitle": false,
     "tableResultSettingsMap": {},
     "title": ""
    }
   },
   "outputs": [],
   "source": [
    "employee3 = employee3.withColumn(\"is_weekend\", \n",
    "                     when(dayofweek(col(\"dob\")).isin(1, 7), True).otherwise(False)\n",
    ")"
   ]
  },
  {
   "cell_type": "code",
   "execution_count": 0,
   "metadata": {
    "application/vnd.databricks.v1+cell": {
     "cellMetadata": {
      "byteLimit": 2048000,
      "rowLimit": 10000
     },
     "inputWidgets": {},
     "nuid": "d28705c1-acd7-4529-8d06-ce7b9f8e270c",
     "showTitle": false,
     "tableResultSettingsMap": {},
     "title": ""
    }
   },
   "outputs": [
    {
     "output_type": "display_data",
     "data": {
      "text/html": [
       "<style scoped>\n",
       "  .table-result-container {\n",
       "    max-height: 300px;\n",
       "    overflow: auto;\n",
       "  }\n",
       "  table, th, td {\n",
       "    border: 1px solid black;\n",
       "    border-collapse: collapse;\n",
       "  }\n",
       "  th, td {\n",
       "    padding: 5px;\n",
       "  }\n",
       "  th {\n",
       "    text-align: left;\n",
       "  }\n",
       "</style><div class='table-result-container'><table class='table-result'><thead style='background-color: white'><tr><th>emp_id</th><th>first_name</th><th>last_name</th><th>dob</th><th>joining_date</th><th>age</th><th>tenure</th><th>is_weekend</th></tr></thead><tbody><tr><td>1</td><td>Rahul</td><td>Sharma</td><td>1988-05-12</td><td>10-Jun-2015</td><td>37</td><td>122</td><td>false</td></tr><tr><td>2</td><td>Ananya</td><td>Iyer</td><td>1990-11-23</td><td>22-Apr-2017</td><td>34</td><td>100</td><td>false</td></tr><tr><td>3</td><td>Vikram</td><td>Singh</td><td>1985-03-15</td><td>05-Jan-2018</td><td>40</td><td>91</td><td>false</td></tr><tr><td>4</td><td>Priya</td><td>Mehta</td><td>1992-07-09</td><td>18-Jul-2019</td><td>33</td><td>73</td><td>false</td></tr><tr><td>5</td><td>Rohit</td><td>Verma</td><td>1987-12-30</td><td>12-Oct-2016</td><td>37</td><td>106</td><td>false</td></tr><tr><td>6</td><td>Sneha</td><td>Nair</td><td>1991-02-18</td><td>20-Feb-2020</td><td>34</td><td>66</td><td>false</td></tr><tr><td>7</td><td>Amit</td><td>Patel</td><td>1984-08-03</td><td>14-Mar-2014</td><td>41</td><td>137</td><td>false</td></tr><tr><td>8</td><td>Neha</td><td>Kapoor</td><td>1993-01-25</td><td>09-Sep-2021</td><td>32</td><td>47</td><td>false</td></tr><tr><td>9</td><td>Karan</td><td>Malhotra</td><td>1989-09-10</td><td>11-Jun-2018</td><td>35</td><td>86</td><td>true</td></tr><tr><td>10</td><td>Divya</td><td>Reddy</td><td>1994-04-05</td><td>17-Jan-2022</td><td>31</td><td>43</td><td>false</td></tr><tr><td>11</td><td>Arjun</td><td>Joshi</td><td>1986-07-20</td><td>25-Aug-2013</td><td>39</td><td>144</td><td>true</td></tr><tr><td>12</td><td>Meera</td><td>Desai</td><td>1991-12-12</td><td>19-Nov-2017</td><td>33</td><td>93</td><td>false</td></tr><tr><td>13</td><td>Suresh</td><td>Pillai</td><td>1983-10-08</td><td>29-May-2012</td><td>41</td><td>159</td><td>true</td></tr><tr><td>14</td><td>Ritika</td><td>Gupta</td><td>1995-03-27</td><td>15-Mar-2023</td><td>30</td><td>29</td><td>false</td></tr><tr><td>15</td><td>Manoj</td><td>Chopra</td><td>1987-09-14</td><td>01-Dec-2016</td><td>37</td><td>105</td><td>false</td></tr><tr><td>16</td><td>Pooja</td><td>Rastogi</td><td>1990-05-21</td><td>04-Apr-2019</td><td>35</td><td>76</td><td>false</td></tr><tr><td>17</td><td>Deepak</td><td>Bansal</td><td>1984-11-11</td><td>10-Sep-2015</td><td>40</td><td>119</td><td>true</td></tr><tr><td>18</td><td>Shalini</td><td>Roy</td><td>1992-06-16</td><td>12-Aug-2020</td><td>33</td><td>60</td><td>false</td></tr><tr><td>19</td><td>Nikhil</td><td>Agarwal</td><td>1988-01-30</td><td>29-Jan-2017</td><td>37</td><td>103</td><td>true</td></tr><tr><td>20</td><td>Kavya</td><td>Menon</td><td>1993-08-08</td><td>06-Jun-2021</td><td>32</td><td>50</td><td>true</td></tr><tr><td>21</td><td>Gopi</td><td>Nath</td><td>1993-08-08</td><td>21-Jun-2025</td><td>32</td><td>2</td><td>true</td></tr></tbody></table></div>"
      ]
     },
     "metadata": {
      "application/vnd.databricks.v1+output": {
       "addedWidgets": {},
       "aggData": [],
       "aggError": "",
       "aggOverflow": false,
       "aggSchema": [],
       "aggSeriesLimitReached": false,
       "aggType": "",
       "arguments": {},
       "columnCustomDisplayInfos": {},
       "data": [
        [
         1,
         "Rahul",
         "Sharma",
         "1988-05-12",
         "10-Jun-2015",
         37,
         122,
         false
        ],
        [
         2,
         "Ananya",
         "Iyer",
         "1990-11-23",
         "22-Apr-2017",
         34,
         100,
         false
        ],
        [
         3,
         "Vikram",
         "Singh",
         "1985-03-15",
         "05-Jan-2018",
         40,
         91,
         false
        ],
        [
         4,
         "Priya",
         "Mehta",
         "1992-07-09",
         "18-Jul-2019",
         33,
         73,
         false
        ],
        [
         5,
         "Rohit",
         "Verma",
         "1987-12-30",
         "12-Oct-2016",
         37,
         106,
         false
        ],
        [
         6,
         "Sneha",
         "Nair",
         "1991-02-18",
         "20-Feb-2020",
         34,
         66,
         false
        ],
        [
         7,
         "Amit",
         "Patel",
         "1984-08-03",
         "14-Mar-2014",
         41,
         137,
         false
        ],
        [
         8,
         "Neha",
         "Kapoor",
         "1993-01-25",
         "09-Sep-2021",
         32,
         47,
         false
        ],
        [
         9,
         "Karan",
         "Malhotra",
         "1989-09-10",
         "11-Jun-2018",
         35,
         86,
         true
        ],
        [
         10,
         "Divya",
         "Reddy",
         "1994-04-05",
         "17-Jan-2022",
         31,
         43,
         false
        ],
        [
         11,
         "Arjun",
         "Joshi",
         "1986-07-20",
         "25-Aug-2013",
         39,
         144,
         true
        ],
        [
         12,
         "Meera",
         "Desai",
         "1991-12-12",
         "19-Nov-2017",
         33,
         93,
         false
        ],
        [
         13,
         "Suresh",
         "Pillai",
         "1983-10-08",
         "29-May-2012",
         41,
         159,
         true
        ],
        [
         14,
         "Ritika",
         "Gupta",
         "1995-03-27",
         "15-Mar-2023",
         30,
         29,
         false
        ],
        [
         15,
         "Manoj",
         "Chopra",
         "1987-09-14",
         "01-Dec-2016",
         37,
         105,
         false
        ],
        [
         16,
         "Pooja",
         "Rastogi",
         "1990-05-21",
         "04-Apr-2019",
         35,
         76,
         false
        ],
        [
         17,
         "Deepak",
         "Bansal",
         "1984-11-11",
         "10-Sep-2015",
         40,
         119,
         true
        ],
        [
         18,
         "Shalini",
         "Roy",
         "1992-06-16",
         "12-Aug-2020",
         33,
         60,
         false
        ],
        [
         19,
         "Nikhil",
         "Agarwal",
         "1988-01-30",
         "29-Jan-2017",
         37,
         103,
         true
        ],
        [
         20,
         "Kavya",
         "Menon",
         "1993-08-08",
         "06-Jun-2021",
         32,
         50,
         true
        ],
        [
         21,
         "Gopi",
         "Nath",
         "1993-08-08",
         "21-Jun-2025",
         32,
         2,
         true
        ]
       ],
       "datasetInfos": [],
       "dbfsResultPath": null,
       "isJsonSchema": true,
       "metadata": {},
       "overflow": false,
       "plotOptions": {
        "customPlotOptions": {},
        "displayType": "table",
        "pivotAggregation": null,
        "pivotColumns": null,
        "xColumns": null,
        "yColumns": null
       },
       "removedWidgets": [],
       "schema": [
        {
         "metadata": "{}",
         "name": "emp_id",
         "type": "\"integer\""
        },
        {
         "metadata": "{}",
         "name": "first_name",
         "type": "\"string\""
        },
        {
         "metadata": "{}",
         "name": "last_name",
         "type": "\"string\""
        },
        {
         "metadata": "{}",
         "name": "dob",
         "type": "\"string\""
        },
        {
         "metadata": "{}",
         "name": "joining_date",
         "type": "\"string\""
        },
        {
         "metadata": "{}",
         "name": "age",
         "type": "\"long\""
        },
        {
         "metadata": "{}",
         "name": "tenure",
         "type": "\"long\""
        },
        {
         "metadata": "{}",
         "name": "is_weekend",
         "type": "\"boolean\""
        }
       ],
       "type": "table"
      }
     },
     "output_type": "display_data"
    }
   ],
   "source": [
    "display(employee3)"
   ]
  },
  {
   "cell_type": "code",
   "execution_count": 0,
   "metadata": {
    "application/vnd.databricks.v1+cell": {
     "cellMetadata": {
      "byteLimit": 2048000,
      "rowLimit": 10000
     },
     "inputWidgets": {},
     "nuid": "f06b355f-24c8-42c0-ac50-a1272599811a",
     "showTitle": false,
     "tableResultSettingsMap": {},
     "title": ""
    }
   },
   "outputs": [
    {
     "output_type": "stream",
     "name": "stdout",
     "output_type": "stream",
     "text": [
      "+------+----------+---------+----------+------------+---+------+----------+------+\n|emp_id|first_name|last_name|       dob|joining_date|age|tenure|is_weekend|checks|\n+------+----------+---------+----------+------------+---+------+----------+------+\n|     1|     Rahul|   Sharma|1988-05-12| 10-Jun-2015| 37|   122|     false|  null|\n|     2|    Ananya|     Iyer|1990-11-23| 22-Apr-2017| 34|   100|     false|  null|\n|     3|    Vikram|    Singh|1985-03-15| 05-Jan-2018| 40|    91|     false|  null|\n|     4|     Priya|    Mehta|1992-07-09| 18-Jul-2019| 33|    73|     false|  null|\n|     5|     Rohit|    Verma|1987-12-30| 12-Oct-2016| 37|   106|     false|  null|\n|     6|     Sneha|     Nair|1991-02-18| 20-Feb-2020| 34|    66|     false|  null|\n|     7|      Amit|    Patel|1984-08-03| 14-Mar-2014| 41|   137|     false|  null|\n|     8|      Neha|   Kapoor|1993-01-25| 09-Sep-2021| 32|    47|     false|  null|\n|     9|     Karan| Malhotra|1989-09-10| 11-Jun-2018| 35|    86|      true|  null|\n|    10|     Divya|    Reddy|1994-04-05| 17-Jan-2022| 31|    43|     false|  null|\n|    11|     Arjun|    Joshi|1986-07-20| 25-Aug-2013| 39|   144|      true|  null|\n|    12|     Meera|    Desai|1991-12-12| 19-Nov-2017| 33|    93|     false|  null|\n|    13|    Suresh|   Pillai|1983-10-08| 29-May-2012| 41|   159|      true|  null|\n|    14|    Ritika|    Gupta|1995-03-27| 15-Mar-2023| 30|    29|     false|  null|\n|    15|     Manoj|   Chopra|1987-09-14| 01-Dec-2016| 37|   105|     false|  null|\n|    16|     Pooja|  Rastogi|1990-05-21| 04-Apr-2019| 35|    76|     false|  null|\n|    17|    Deepak|   Bansal|1984-11-11| 10-Sep-2015| 40|   119|      true|  null|\n|    18|   Shalini|      Roy|1992-06-16| 12-Aug-2020| 33|    60|     false|  null|\n|    19|    Nikhil|  Agarwal|1988-01-30| 29-Jan-2017| 37|   103|      true|  null|\n|    20|     Kavya|    Menon|1993-08-08| 06-Jun-2021| 32|    50|      true|  null|\n+------+----------+---------+----------+------------+---+------+----------+------+\nonly showing top 20 rows\n\n"
     ]
    }
   ],
   "source": [
    "employee3.withColumn(\"checks\",dayofweek(col(\"joining_date\"))).show()"
   ]
  },
  {
   "cell_type": "markdown",
   "metadata": {
    "application/vnd.databricks.v1+cell": {
     "cellMetadata": {},
     "inputWidgets": {},
     "nuid": "b2b6cc39-f332-4a89-a13a-60d1d84c4a76",
     "showTitle": false,
     "tableResultSettingsMap": {},
     "title": ""
    }
   },
   "source": [
    "_**some datefunctions doesn't work if the date is in `10-Jun-2015` format (It is in string format)**_"
   ]
  },
  {
   "cell_type": "code",
   "execution_count": 0,
   "metadata": {
    "application/vnd.databricks.v1+cell": {
     "cellMetadata": {
      "byteLimit": 2048000,
      "rowLimit": 10000
     },
     "inputWidgets": {},
     "nuid": "fe9e7935-50e5-482c-9b6a-ca10585cfa62",
     "showTitle": false,
     "tableResultSettingsMap": {},
     "title": ""
    }
   },
   "outputs": [
    {
     "output_type": "stream",
     "name": "stdout",
     "output_type": "stream",
     "text": [
      "root\n |-- emp_id: integer (nullable = false)\n |-- first_name: string (nullable = true)\n |-- last_name: string (nullable = true)\n |-- dob: string (nullable = true)\n |-- joining_date: string (nullable = true)\n |-- age: long (nullable = true)\n |-- tenure: long (nullable = true)\n |-- is_weekend: boolean (nullable = false)\n\n"
     ]
    }
   ],
   "source": [
    "employee3.printSchema()"
   ]
  }
 ],
 "metadata": {
  "application/vnd.databricks.v1+notebook": {
   "computePreferences": null,
   "dashboards": [],
   "environmentMetadata": {
    "base_environment": "",
    "environment_version": "1"
   },
   "inputWidgetPreferences": null,
   "language": "python",
   "notebookMetadata": {
    "pythonIndentUnit": 4
   },
   "notebookName": "Rb-PySpark-3 (01-09-2025)",
   "widgets": {}
  }
 },
 "nbformat": 4,
 "nbformat_minor": 0
}
{
 "cells": [
  {
   "cell_type": "code",
   "execution_count": 0,
   "metadata": {
    "application/vnd.databricks.v1+cell": {
     "cellMetadata": {
      "byteLimit": 2048000,
      "rowLimit": 10000
     },
     "inputWidgets": {},
     "nuid": "6f2ac58e-4848-4bd1-aafb-7f1318d5575f",
     "showTitle": false,
     "tableResultSettingsMap": {},
     "title": ""
    }
   },
   "outputs": [],
   "source": [
    "from pyspark.sql.functions import *"
   ]
  },
  {
   "cell_type": "code",
   "execution_count": 0,
   "metadata": {
    "application/vnd.databricks.v1+cell": {
     "cellMetadata": {
      "byteLimit": 2048000,
      "rowLimit": 10000
     },
     "inputWidgets": {},
     "nuid": "cdfed8bb-e131-4d97-a701-4bbe9fd86e5f",
     "showTitle": false,
     "tableResultSettingsMap": {},
     "title": ""
    }
   },
   "outputs": [],
   "source": [
    "employees_data = [\n",
    "    (1, \"Rahul\", \"Sharma\", \"1988-05-12\", \"IT\", 75000.00, \"2015-06-10\", \"rahul.sharma@company.com\", \"9876543210\"),\n",
    "    (2, \"Ananya\", \"Iyer\", \"1990-11-23\", \"Finance\", 65000.00, \"2017-04-22\", \"ananya.iyer@company.com\", \"9123456789\"),\n",
    "    (3, \"Vikram\", \"Singh\", \"1985-03-15\", \"HR\", 58000.00, \"2018-01-05\", \"vikram.singh@company.com\", \"9988776655\"),\n",
    "    (4, \"Priya\", \"Mehta\", \"1992-07-09\", \"Marketing\", 72000.00, \"2019-07-18\", \"priya.mehta@company.com\", \"9765432109\"),\n",
    "    (5, \"Rohit\", \"Verma\", \"1987-12-30\", \"Operations\", 69000.00, \"2016-10-12\", \"rohit.verma@company.com\", \"9098765432\"),\n",
    "    (6, \"Sneha\", \"Nair\", \"1991-02-18\", \"Sales\", 60000.00, \"2020-02-20\", \"sneha.nair@company.com\", \"9345678901\"),\n",
    "    (7, \"Amit\", \"Patel\", \"1984-08-03\", \"IT\", 85000.00, \"2014-03-14\", \"amit.patel@company.com\", \"9012345678\"),\n",
    "    (8, \"Neha\", \"Kapoor\", \"1993-01-25\", \"Finance\", 56000.00, \"2021-09-09\", \"neha.kapoor@company.com\", \"9871203456\"),\n",
    "    (9, \"Karan\", \"Malhotra\", \"1989-09-10\", \"Marketing\", 70000.00, \"2018-06-11\", \"karan.malhotra@company.com\", \"9988012345\"),\n",
    "    (10, \"Divya\", \"Reddy\", \"1994-04-05\", \"HR\", 55000.00, \"2022-01-17\", \"divya.reddy@company.com\", \"9123009876\"),\n",
    "    (11, \"Arjun\", \"Joshi\", \"1986-07-20\", \"IT\", 90000.00, \"2013-08-25\", \"arjun.joshi@company.com\", \"9801234567\"),\n",
    "    (12, \"Meera\", \"Desai\", \"1991-12-12\", \"Finance\", 67000.00, \"2017-11-19\", \"meera.desai@company.com\", \"9321456789\"),\n",
    "    (13, \"Suresh\", \"Pillai\", \"1983-10-08\", \"Operations\", 78000.00, \"2012-05-29\", \"suresh.pillai@company.com\", \"9765432190\"),\n",
    "    (14, \"Ritika\", \"Gupta\", \"1995-03-27\", \"Sales\", 52000.00, \"2023-03-15\", \"ritika.gupta@company.com\", \"9887766554\"),\n",
    "    (15, \"Manoj\", \"Chopra\", \"1987-09-14\", \"IT\", 81000.00, \"2016-12-01\", \"manoj.chopra@company.com\", \"9234567810\"),\n",
    "    (16, \"Pooja\", \"Rastogi\", \"1990-05-21\", \"Finance\", 63000.00, \"2019-04-04\", \"pooja.rastogi@company.com\", \"9345671234\"),\n",
    "    (17, \"Deepak\", \"Bansal\", \"1984-11-11\", \"Marketing\", 72000.00, \"2015-09-10\", \"deepak.bansal@company.com\", \"9011223344\"),\n",
    "    (18, \"Shalini\", \"Roy\", \"1992-06-16\", \"HR\", 57000.00, \"2020-08-12\", \"shalini.roy@company.com\", \"9776655443\"),\n",
    "    (19, \"Nikhil\", \"Agarwal\", \"1988-01-30\", \"Operations\", 74000.00, \"2017-01-29\", \"nikhil.agarwal@company.com\", \"9456789012\"),\n",
    "    (20, \"Kavya\", \"Menon\", \"1993-08-08\", \"Sales\", 61000.00, \"2021-06-06\", \"kavya.menon@company.com\", \"9988772211\"),\n",
    "]"
   ]
  },
  {
   "cell_type": "code",
   "execution_count": 0,
   "metadata": {
    "application/vnd.databricks.v1+cell": {
     "cellMetadata": {
      "byteLimit": 2048000,
      "rowLimit": 10000
     },
     "inputWidgets": {},
     "nuid": "c037fef6-027c-4d18-8b37-ce235e5f94de",
     "showTitle": false,
     "tableResultSettingsMap": {},
     "title": ""
    }
   },
   "outputs": [],
   "source": [
    "from pyspark.sql.types import *"
   ]
  },
  {
   "cell_type": "code",
   "execution_count": 0,
   "metadata": {
    "application/vnd.databricks.v1+cell": {
     "cellMetadata": {
      "byteLimit": 2048000,
      "rowLimit": 10000
     },
     "inputWidgets": {},
     "nuid": "35bf1973-ffe0-46b2-9b69-8e315298900b",
     "showTitle": false,
     "tableResultSettingsMap": {},
     "title": ""
    }
   },
   "outputs": [],
   "source": [
    "_schema = StructType([\n",
    "    StructField(\"emp_id\", IntegerType(), False),\n",
    "    StructField(\"first_name\", StringType(), True),\n",
    "    StructField(\"last_name\", StringType(), True),\n",
    "    StructField(\"dob\", StringType(), True),\n",
    "    StructField(\"department\", StringType(), True),\n",
    "    StructField(\"salary\", DoubleType(), True),\n",
    "    StructField(\"joining_date\", StringType(), True),\n",
    "    StructField(\"email\", StringType(), True),\n",
    "    StructField(\"phone_number\", StringType(), True)\n",
    "])"
   ]
  },
  {
   "cell_type": "code",
   "execution_count": 0,
   "metadata": {
    "application/vnd.databricks.v1+cell": {
     "cellMetadata": {
      "byteLimit": 2048000,
      "rowLimit": 10000
     },
     "inputWidgets": {},
     "nuid": "aa9e2bcf-94d7-442c-9a3d-b238ae15516d",
     "showTitle": false,
     "tableResultSettingsMap": {},
     "title": ""
    }
   },
   "outputs": [],
   "source": [
    "employee = spark.createDataFrame(employees_data,_schema)"
   ]
  },
  {
   "cell_type": "code",
   "execution_count": 0,
   "metadata": {
    "application/vnd.databricks.v1+cell": {
     "cellMetadata": {
      "byteLimit": 2048000,
      "rowLimit": 10000
     },
     "inputWidgets": {},
     "nuid": "da3ed9a2-d7de-4f9a-bb3a-87a67cd80e2b",
     "showTitle": false,
     "tableResultSettingsMap": {},
     "title": ""
    }
   },
   "outputs": [
    {
     "output_type": "display_data",
     "data": {
      "text/html": [
       "<style scoped>\n",
       "  .table-result-container {\n",
       "    max-height: 300px;\n",
       "    overflow: auto;\n",
       "  }\n",
       "  table, th, td {\n",
       "    border: 1px solid black;\n",
       "    border-collapse: collapse;\n",
       "  }\n",
       "  th, td {\n",
       "    padding: 5px;\n",
       "  }\n",
       "  th {\n",
       "    text-align: left;\n",
       "  }\n",
       "</style><div class='table-result-container'><table class='table-result'><thead style='background-color: white'><tr><th>emp_id</th><th>first_name</th><th>last_name</th><th>dob</th><th>department</th><th>salary</th><th>joining_date</th><th>email</th><th>phone_number</th></tr></thead><tbody><tr><td>1</td><td>Rahul</td><td>Sharma</td><td>1988-05-12</td><td>IT</td><td>75000.0</td><td>2015-06-10</td><td>rahul.sharma@company.com</td><td>9876543210</td></tr><tr><td>2</td><td>Ananya</td><td>Iyer</td><td>1990-11-23</td><td>Finance</td><td>65000.0</td><td>2017-04-22</td><td>ananya.iyer@company.com</td><td>9123456789</td></tr><tr><td>3</td><td>Vikram</td><td>Singh</td><td>1985-03-15</td><td>HR</td><td>58000.0</td><td>2018-01-05</td><td>vikram.singh@company.com</td><td>9988776655</td></tr><tr><td>4</td><td>Priya</td><td>Mehta</td><td>1992-07-09</td><td>Marketing</td><td>72000.0</td><td>2019-07-18</td><td>priya.mehta@company.com</td><td>9765432109</td></tr><tr><td>5</td><td>Rohit</td><td>Verma</td><td>1987-12-30</td><td>Operations</td><td>69000.0</td><td>2016-10-12</td><td>rohit.verma@company.com</td><td>9098765432</td></tr><tr><td>6</td><td>Sneha</td><td>Nair</td><td>1991-02-18</td><td>Sales</td><td>60000.0</td><td>2020-02-20</td><td>sneha.nair@company.com</td><td>9345678901</td></tr><tr><td>7</td><td>Amit</td><td>Patel</td><td>1984-08-03</td><td>IT</td><td>85000.0</td><td>2014-03-14</td><td>amit.patel@company.com</td><td>9012345678</td></tr><tr><td>8</td><td>Neha</td><td>Kapoor</td><td>1993-01-25</td><td>Finance</td><td>56000.0</td><td>2021-09-09</td><td>neha.kapoor@company.com</td><td>9871203456</td></tr><tr><td>9</td><td>Karan</td><td>Malhotra</td><td>1989-09-10</td><td>Marketing</td><td>70000.0</td><td>2018-06-11</td><td>karan.malhotra@company.com</td><td>9988012345</td></tr><tr><td>10</td><td>Divya</td><td>Reddy</td><td>1994-04-05</td><td>HR</td><td>55000.0</td><td>2022-01-17</td><td>divya.reddy@company.com</td><td>9123009876</td></tr><tr><td>11</td><td>Arjun</td><td>Joshi</td><td>1986-07-20</td><td>IT</td><td>90000.0</td><td>2013-08-25</td><td>arjun.joshi@company.com</td><td>9801234567</td></tr><tr><td>12</td><td>Meera</td><td>Desai</td><td>1991-12-12</td><td>Finance</td><td>67000.0</td><td>2017-11-19</td><td>meera.desai@company.com</td><td>9321456789</td></tr><tr><td>13</td><td>Suresh</td><td>Pillai</td><td>1983-10-08</td><td>Operations</td><td>78000.0</td><td>2012-05-29</td><td>suresh.pillai@company.com</td><td>9765432190</td></tr><tr><td>14</td><td>Ritika</td><td>Gupta</td><td>1995-03-27</td><td>Sales</td><td>52000.0</td><td>2023-03-15</td><td>ritika.gupta@company.com</td><td>9887766554</td></tr><tr><td>15</td><td>Manoj</td><td>Chopra</td><td>1987-09-14</td><td>IT</td><td>81000.0</td><td>2016-12-01</td><td>manoj.chopra@company.com</td><td>9234567810</td></tr><tr><td>16</td><td>Pooja</td><td>Rastogi</td><td>1990-05-21</td><td>Finance</td><td>63000.0</td><td>2019-04-04</td><td>pooja.rastogi@company.com</td><td>9345671234</td></tr><tr><td>17</td><td>Deepak</td><td>Bansal</td><td>1984-11-11</td><td>Marketing</td><td>72000.0</td><td>2015-09-10</td><td>deepak.bansal@company.com</td><td>9011223344</td></tr><tr><td>18</td><td>Shalini</td><td>Roy</td><td>1992-06-16</td><td>HR</td><td>57000.0</td><td>2020-08-12</td><td>shalini.roy@company.com</td><td>9776655443</td></tr><tr><td>19</td><td>Nikhil</td><td>Agarwal</td><td>1988-01-30</td><td>Operations</td><td>74000.0</td><td>2017-01-29</td><td>nikhil.agarwal@company.com</td><td>9456789012</td></tr><tr><td>20</td><td>Kavya</td><td>Menon</td><td>1993-08-08</td><td>Sales</td><td>61000.0</td><td>2021-06-06</td><td>kavya.menon@company.com</td><td>9988772211</td></tr></tbody></table></div>"
      ]
     },
     "metadata": {
      "application/vnd.databricks.v1+output": {
       "addedWidgets": {},
       "aggData": [],
       "aggError": "",
       "aggOverflow": false,
       "aggSchema": [],
       "aggSeriesLimitReached": false,
       "aggType": "",
       "arguments": {},
       "columnCustomDisplayInfos": {},
       "data": [
        [
         1,
         "Rahul",
         "Sharma",
         "1988-05-12",
         "IT",
         75000.0,
         "2015-06-10",
         "rahul.sharma@company.com",
         "9876543210"
        ],
        [
         2,
         "Ananya",
         "Iyer",
         "1990-11-23",
         "Finance",
         65000.0,
         "2017-04-22",
         "ananya.iyer@company.com",
         "9123456789"
        ],
        [
         3,
         "Vikram",
         "Singh",
         "1985-03-15",
         "HR",
         58000.0,
         "2018-01-05",
         "vikram.singh@company.com",
         "9988776655"
        ],
        [
         4,
         "Priya",
         "Mehta",
         "1992-07-09",
         "Marketing",
         72000.0,
         "2019-07-18",
         "priya.mehta@company.com",
         "9765432109"
        ],
        [
         5,
         "Rohit",
         "Verma",
         "1987-12-30",
         "Operations",
         69000.0,
         "2016-10-12",
         "rohit.verma@company.com",
         "9098765432"
        ],
        [
         6,
         "Sneha",
         "Nair",
         "1991-02-18",
         "Sales",
         60000.0,
         "2020-02-20",
         "sneha.nair@company.com",
         "9345678901"
        ],
        [
         7,
         "Amit",
         "Patel",
         "1984-08-03",
         "IT",
         85000.0,
         "2014-03-14",
         "amit.patel@company.com",
         "9012345678"
        ],
        [
         8,
         "Neha",
         "Kapoor",
         "1993-01-25",
         "Finance",
         56000.0,
         "2021-09-09",
         "neha.kapoor@company.com",
         "9871203456"
        ],
        [
         9,
         "Karan",
         "Malhotra",
         "1989-09-10",
         "Marketing",
         70000.0,
         "2018-06-11",
         "karan.malhotra@company.com",
         "9988012345"
        ],
        [
         10,
         "Divya",
         "Reddy",
         "1994-04-05",
         "HR",
         55000.0,
         "2022-01-17",
         "divya.reddy@company.com",
         "9123009876"
        ],
        [
         11,
         "Arjun",
         "Joshi",
         "1986-07-20",
         "IT",
         90000.0,
         "2013-08-25",
         "arjun.joshi@company.com",
         "9801234567"
        ],
        [
         12,
         "Meera",
         "Desai",
         "1991-12-12",
         "Finance",
         67000.0,
         "2017-11-19",
         "meera.desai@company.com",
         "9321456789"
        ],
        [
         13,
         "Suresh",
         "Pillai",
         "1983-10-08",
         "Operations",
         78000.0,
         "2012-05-29",
         "suresh.pillai@company.com",
         "9765432190"
        ],
        [
         14,
         "Ritika",
         "Gupta",
         "1995-03-27",
         "Sales",
         52000.0,
         "2023-03-15",
         "ritika.gupta@company.com",
         "9887766554"
        ],
        [
         15,
         "Manoj",
         "Chopra",
         "1987-09-14",
         "IT",
         81000.0,
         "2016-12-01",
         "manoj.chopra@company.com",
         "9234567810"
        ],
        [
         16,
         "Pooja",
         "Rastogi",
         "1990-05-21",
         "Finance",
         63000.0,
         "2019-04-04",
         "pooja.rastogi@company.com",
         "9345671234"
        ],
        [
         17,
         "Deepak",
         "Bansal",
         "1984-11-11",
         "Marketing",
         72000.0,
         "2015-09-10",
         "deepak.bansal@company.com",
         "9011223344"
        ],
        [
         18,
         "Shalini",
         "Roy",
         "1992-06-16",
         "HR",
         57000.0,
         "2020-08-12",
         "shalini.roy@company.com",
         "9776655443"
        ],
        [
         19,
         "Nikhil",
         "Agarwal",
         "1988-01-30",
         "Operations",
         74000.0,
         "2017-01-29",
         "nikhil.agarwal@company.com",
         "9456789012"
        ],
        [
         20,
         "Kavya",
         "Menon",
         "1993-08-08",
         "Sales",
         61000.0,
         "2021-06-06",
         "kavya.menon@company.com",
         "9988772211"
        ]
       ],
       "datasetInfos": [],
       "dbfsResultPath": null,
       "isJsonSchema": true,
       "metadata": {},
       "overflow": false,
       "plotOptions": {
        "customPlotOptions": {},
        "displayType": "table",
        "pivotAggregation": null,
        "pivotColumns": null,
        "xColumns": null,
        "yColumns": null
       },
       "removedWidgets": [],
       "schema": [
        {
         "metadata": "{}",
         "name": "emp_id",
         "type": "\"integer\""
        },
        {
         "metadata": "{}",
         "name": "first_name",
         "type": "\"string\""
        },
        {
         "metadata": "{}",
         "name": "last_name",
         "type": "\"string\""
        },
        {
         "metadata": "{}",
         "name": "dob",
         "type": "\"string\""
        },
        {
         "metadata": "{}",
         "name": "department",
         "type": "\"string\""
        },
        {
         "metadata": "{}",
         "name": "salary",
         "type": "\"double\""
        },
        {
         "metadata": "{}",
         "name": "joining_date",
         "type": "\"string\""
        },
        {
         "metadata": "{}",
         "name": "email",
         "type": "\"string\""
        },
        {
         "metadata": "{}",
         "name": "phone_number",
         "type": "\"string\""
        }
       ],
       "type": "table"
      }
     },
     "output_type": "display_data"
    }
   ],
   "source": [
    "employee.display()"
   ]
  },
  {
   "cell_type": "code",
   "execution_count": 0,
   "metadata": {
    "application/vnd.databricks.v1+cell": {
     "cellMetadata": {
      "byteLimit": 2048000,
      "rowLimit": 10000
     },
     "inputWidgets": {},
     "nuid": "9c80b990-17fc-432c-9fe4-f22e5caa11df",
     "showTitle": false,
     "tableResultSettingsMap": {},
     "title": ""
    }
   },
   "outputs": [],
   "source": [
    "employee2 = employee.withColumn(\"dob\", col(\"dob\").cast(DateType())).withColumn(\"joining_date\", col(\"joining_date\").cast(DateType()))"
   ]
  },
  {
   "cell_type": "code",
   "execution_count": 0,
   "metadata": {
    "application/vnd.databricks.v1+cell": {
     "cellMetadata": {
      "byteLimit": 2048000,
      "rowLimit": 10000
     },
     "inputWidgets": {},
     "nuid": "0eb92da6-0897-485b-a351-2237422a7878",
     "showTitle": false,
     "tableResultSettingsMap": {},
     "title": ""
    }
   },
   "outputs": [
    {
     "output_type": "display_data",
     "data": {
      "text/html": [
       "<style scoped>\n",
       "  .table-result-container {\n",
       "    max-height: 300px;\n",
       "    overflow: auto;\n",
       "  }\n",
       "  table, th, td {\n",
       "    border: 1px solid black;\n",
       "    border-collapse: collapse;\n",
       "  }\n",
       "  th, td {\n",
       "    padding: 5px;\n",
       "  }\n",
       "  th {\n",
       "    text-align: left;\n",
       "  }\n",
       "</style><div class='table-result-container'><table class='table-result'><thead style='background-color: white'><tr><th>emp_id</th><th>first_name</th><th>last_name</th><th>dob</th><th>department</th><th>salary</th><th>joining_date</th><th>email</th><th>phone_number</th></tr></thead><tbody><tr><td>1</td><td>Rahul</td><td>Sharma</td><td>1988-05-12</td><td>IT</td><td>75000.0</td><td>2015-06-10</td><td>rahul.sharma@company.com</td><td>9876543210</td></tr><tr><td>2</td><td>Ananya</td><td>Iyer</td><td>1990-11-23</td><td>Finance</td><td>65000.0</td><td>2017-04-22</td><td>ananya.iyer@company.com</td><td>9123456789</td></tr><tr><td>3</td><td>Vikram</td><td>Singh</td><td>1985-03-15</td><td>HR</td><td>58000.0</td><td>2018-01-05</td><td>vikram.singh@company.com</td><td>9988776655</td></tr><tr><td>4</td><td>Priya</td><td>Mehta</td><td>1992-07-09</td><td>Marketing</td><td>72000.0</td><td>2019-07-18</td><td>priya.mehta@company.com</td><td>9765432109</td></tr><tr><td>5</td><td>Rohit</td><td>Verma</td><td>1987-12-30</td><td>Operations</td><td>69000.0</td><td>2016-10-12</td><td>rohit.verma@company.com</td><td>9098765432</td></tr><tr><td>6</td><td>Sneha</td><td>Nair</td><td>1991-02-18</td><td>Sales</td><td>60000.0</td><td>2020-02-20</td><td>sneha.nair@company.com</td><td>9345678901</td></tr><tr><td>7</td><td>Amit</td><td>Patel</td><td>1984-08-03</td><td>IT</td><td>85000.0</td><td>2014-03-14</td><td>amit.patel@company.com</td><td>9012345678</td></tr><tr><td>8</td><td>Neha</td><td>Kapoor</td><td>1993-01-25</td><td>Finance</td><td>56000.0</td><td>2021-09-09</td><td>neha.kapoor@company.com</td><td>9871203456</td></tr><tr><td>9</td><td>Karan</td><td>Malhotra</td><td>1989-09-10</td><td>Marketing</td><td>70000.0</td><td>2018-06-11</td><td>karan.malhotra@company.com</td><td>9988012345</td></tr><tr><td>10</td><td>Divya</td><td>Reddy</td><td>1994-04-05</td><td>HR</td><td>55000.0</td><td>2022-01-17</td><td>divya.reddy@company.com</td><td>9123009876</td></tr><tr><td>11</td><td>Arjun</td><td>Joshi</td><td>1986-07-20</td><td>IT</td><td>90000.0</td><td>2013-08-25</td><td>arjun.joshi@company.com</td><td>9801234567</td></tr><tr><td>12</td><td>Meera</td><td>Desai</td><td>1991-12-12</td><td>Finance</td><td>67000.0</td><td>2017-11-19</td><td>meera.desai@company.com</td><td>9321456789</td></tr><tr><td>13</td><td>Suresh</td><td>Pillai</td><td>1983-10-08</td><td>Operations</td><td>78000.0</td><td>2012-05-29</td><td>suresh.pillai@company.com</td><td>9765432190</td></tr><tr><td>14</td><td>Ritika</td><td>Gupta</td><td>1995-03-27</td><td>Sales</td><td>52000.0</td><td>2023-03-15</td><td>ritika.gupta@company.com</td><td>9887766554</td></tr><tr><td>15</td><td>Manoj</td><td>Chopra</td><td>1987-09-14</td><td>IT</td><td>81000.0</td><td>2016-12-01</td><td>manoj.chopra@company.com</td><td>9234567810</td></tr><tr><td>16</td><td>Pooja</td><td>Rastogi</td><td>1990-05-21</td><td>Finance</td><td>63000.0</td><td>2019-04-04</td><td>pooja.rastogi@company.com</td><td>9345671234</td></tr><tr><td>17</td><td>Deepak</td><td>Bansal</td><td>1984-11-11</td><td>Marketing</td><td>72000.0</td><td>2015-09-10</td><td>deepak.bansal@company.com</td><td>9011223344</td></tr><tr><td>18</td><td>Shalini</td><td>Roy</td><td>1992-06-16</td><td>HR</td><td>57000.0</td><td>2020-08-12</td><td>shalini.roy@company.com</td><td>9776655443</td></tr><tr><td>19</td><td>Nikhil</td><td>Agarwal</td><td>1988-01-30</td><td>Operations</td><td>74000.0</td><td>2017-01-29</td><td>nikhil.agarwal@company.com</td><td>9456789012</td></tr><tr><td>20</td><td>Kavya</td><td>Menon</td><td>1993-08-08</td><td>Sales</td><td>61000.0</td><td>2021-06-06</td><td>kavya.menon@company.com</td><td>9988772211</td></tr></tbody></table></div>"
      ]
     },
     "metadata": {
      "application/vnd.databricks.v1+output": {
       "addedWidgets": {},
       "aggData": [],
       "aggError": "",
       "aggOverflow": false,
       "aggSchema": [],
       "aggSeriesLimitReached": false,
       "aggType": "",
       "arguments": {},
       "columnCustomDisplayInfos": {},
       "data": [
        [
         1,
         "Rahul",
         "Sharma",
         "1988-05-12",
         "IT",
         75000.0,
         "2015-06-10",
         "rahul.sharma@company.com",
         "9876543210"
        ],
        [
         2,
         "Ananya",
         "Iyer",
         "1990-11-23",
         "Finance",
         65000.0,
         "2017-04-22",
         "ananya.iyer@company.com",
         "9123456789"
        ],
        [
         3,
         "Vikram",
         "Singh",
         "1985-03-15",
         "HR",
         58000.0,
         "2018-01-05",
         "vikram.singh@company.com",
         "9988776655"
        ],
        [
         4,
         "Priya",
         "Mehta",
         "1992-07-09",
         "Marketing",
         72000.0,
         "2019-07-18",
         "priya.mehta@company.com",
         "9765432109"
        ],
        [
         5,
         "Rohit",
         "Verma",
         "1987-12-30",
         "Operations",
         69000.0,
         "2016-10-12",
         "rohit.verma@company.com",
         "9098765432"
        ],
        [
         6,
         "Sneha",
         "Nair",
         "1991-02-18",
         "Sales",
         60000.0,
         "2020-02-20",
         "sneha.nair@company.com",
         "9345678901"
        ],
        [
         7,
         "Amit",
         "Patel",
         "1984-08-03",
         "IT",
         85000.0,
         "2014-03-14",
         "amit.patel@company.com",
         "9012345678"
        ],
        [
         8,
         "Neha",
         "Kapoor",
         "1993-01-25",
         "Finance",
         56000.0,
         "2021-09-09",
         "neha.kapoor@company.com",
         "9871203456"
        ],
        [
         9,
         "Karan",
         "Malhotra",
         "1989-09-10",
         "Marketing",
         70000.0,
         "2018-06-11",
         "karan.malhotra@company.com",
         "9988012345"
        ],
        [
         10,
         "Divya",
         "Reddy",
         "1994-04-05",
         "HR",
         55000.0,
         "2022-01-17",
         "divya.reddy@company.com",
         "9123009876"
        ],
        [
         11,
         "Arjun",
         "Joshi",
         "1986-07-20",
         "IT",
         90000.0,
         "2013-08-25",
         "arjun.joshi@company.com",
         "9801234567"
        ],
        [
         12,
         "Meera",
         "Desai",
         "1991-12-12",
         "Finance",
         67000.0,
         "2017-11-19",
         "meera.desai@company.com",
         "9321456789"
        ],
        [
         13,
         "Suresh",
         "Pillai",
         "1983-10-08",
         "Operations",
         78000.0,
         "2012-05-29",
         "suresh.pillai@company.com",
         "9765432190"
        ],
        [
         14,
         "Ritika",
         "Gupta",
         "1995-03-27",
         "Sales",
         52000.0,
         "2023-03-15",
         "ritika.gupta@company.com",
         "9887766554"
        ],
        [
         15,
         "Manoj",
         "Chopra",
         "1987-09-14",
         "IT",
         81000.0,
         "2016-12-01",
         "manoj.chopra@company.com",
         "9234567810"
        ],
        [
         16,
         "Pooja",
         "Rastogi",
         "1990-05-21",
         "Finance",
         63000.0,
         "2019-04-04",
         "pooja.rastogi@company.com",
         "9345671234"
        ],
        [
         17,
         "Deepak",
         "Bansal",
         "1984-11-11",
         "Marketing",
         72000.0,
         "2015-09-10",
         "deepak.bansal@company.com",
         "9011223344"
        ],
        [
         18,
         "Shalini",
         "Roy",
         "1992-06-16",
         "HR",
         57000.0,
         "2020-08-12",
         "shalini.roy@company.com",
         "9776655443"
        ],
        [
         19,
         "Nikhil",
         "Agarwal",
         "1988-01-30",
         "Operations",
         74000.0,
         "2017-01-29",
         "nikhil.agarwal@company.com",
         "9456789012"
        ],
        [
         20,
         "Kavya",
         "Menon",
         "1993-08-08",
         "Sales",
         61000.0,
         "2021-06-06",
         "kavya.menon@company.com",
         "9988772211"
        ]
       ],
       "datasetInfos": [],
       "dbfsResultPath": null,
       "isJsonSchema": true,
       "metadata": {},
       "overflow": false,
       "plotOptions": {
        "customPlotOptions": {},
        "displayType": "table",
        "pivotAggregation": null,
        "pivotColumns": null,
        "xColumns": null,
        "yColumns": null
       },
       "removedWidgets": [],
       "schema": [
        {
         "metadata": "{}",
         "name": "emp_id",
         "type": "\"integer\""
        },
        {
         "metadata": "{}",
         "name": "first_name",
         "type": "\"string\""
        },
        {
         "metadata": "{}",
         "name": "last_name",
         "type": "\"string\""
        },
        {
         "metadata": "{}",
         "name": "dob",
         "type": "\"date\""
        },
        {
         "metadata": "{}",
         "name": "department",
         "type": "\"string\""
        },
        {
         "metadata": "{}",
         "name": "salary",
         "type": "\"double\""
        },
        {
         "metadata": "{}",
         "name": "joining_date",
         "type": "\"date\""
        },
        {
         "metadata": "{}",
         "name": "email",
         "type": "\"string\""
        },
        {
         "metadata": "{}",
         "name": "phone_number",
         "type": "\"string\""
        }
       ],
       "type": "table"
      }
     },
     "output_type": "display_data"
    }
   ],
   "source": [
    "employee2.display()"
   ]
  },
  {
   "cell_type": "code",
   "execution_count": 0,
   "metadata": {
    "application/vnd.databricks.v1+cell": {
     "cellMetadata": {
      "byteLimit": 2048000,
      "rowLimit": 10000
     },
     "inputWidgets": {},
     "nuid": "a5fbd6ec-7e9b-4a35-833c-d8709371d7ac",
     "showTitle": false,
     "tableResultSettingsMap": {},
     "title": ""
    }
   },
   "outputs": [
    {
     "output_type": "stream",
     "name": "stdout",
     "output_type": "stream",
     "text": [
      "+----------+----------+\n|max_salary|min_salary|\n+----------+----------+\n|   90000.0|   52000.0|\n+----------+----------+\n\n"
     ]
    }
   ],
   "source": [
    "employee2.select(max(\"salary\").alias(\"max_salary\"),min(\"salary\").alias(\"min_salary\")).show()"
   ]
  },
  {
   "cell_type": "code",
   "execution_count": 0,
   "metadata": {
    "application/vnd.databricks.v1+cell": {
     "cellMetadata": {
      "byteLimit": 2048000,
      "rowLimit": 10000
     },
     "inputWidgets": {},
     "nuid": "266a5110-4ee2-450a-8c42-75ee968422bf",
     "showTitle": false,
     "tableResultSettingsMap": {},
     "title": ""
    }
   },
   "outputs": [
    {
     "output_type": "stream",
     "name": "stdout",
     "output_type": "stream",
     "text": [
      "+------+----------+---------+----------+----------+-------+------------+--------------------+------------+\n|emp_id|first_name|last_name|       dob|department| salary|joining_date|               email|phone_number|\n+------+----------+---------+----------+----------+-------+------------+--------------------+------------+\n|     2|    Ananya|     Iyer|1990-11-23|   Finance|65000.0|  2017-04-22|ananya.iyer@compa...|  9123456789|\n|     3|    Vikram|    Singh|1985-03-15|        HR|58000.0|  2018-01-05|vikram.singh@comp...|  9988776655|\n|     5|     Rohit|    Verma|1987-12-30|Operations|69000.0|  2016-10-12|rohit.verma@compa...|  9098765432|\n|     6|     Sneha|     Nair|1991-02-18|     Sales|60000.0|  2020-02-20|sneha.nair@compan...|  9345678901|\n|     8|      Neha|   Kapoor|1993-01-25|   Finance|56000.0|  2021-09-09|neha.kapoor@compa...|  9871203456|\n|     9|     Karan| Malhotra|1989-09-10| Marketing|70000.0|  2018-06-11|karan.malhotra@co...|  9988012345|\n|    10|     Divya|    Reddy|1994-04-05|        HR|55000.0|  2022-01-17|divya.reddy@compa...|  9123009876|\n|    12|     Meera|    Desai|1991-12-12|   Finance|67000.0|  2017-11-19|meera.desai@compa...|  9321456789|\n|    14|    Ritika|    Gupta|1995-03-27|     Sales|52000.0|  2023-03-15|ritika.gupta@comp...|  9887766554|\n|    16|     Pooja|  Rastogi|1990-05-21|   Finance|63000.0|  2019-04-04|pooja.rastogi@com...|  9345671234|\n|    18|   Shalini|      Roy|1992-06-16|        HR|57000.0|  2020-08-12|shalini.roy@compa...|  9776655443|\n|    20|     Kavya|    Menon|1993-08-08|     Sales|61000.0|  2021-06-06|kavya.menon@compa...|  9988772211|\n+------+----------+---------+----------+----------+-------+------------+--------------------+------------+\n\n"
     ]
    }
   ],
   "source": [
    "employee2.filter(col(\"salary\") <= 70000).show()"
   ]
  },
  {
   "cell_type": "code",
   "execution_count": 0,
   "metadata": {
    "application/vnd.databricks.v1+cell": {
     "cellMetadata": {
      "byteLimit": 2048000,
      "rowLimit": 10000
     },
     "inputWidgets": {},
     "nuid": "bd29ae8d-ffc4-4e4d-92df-fb9e9d261e0a",
     "showTitle": false,
     "tableResultSettingsMap": {},
     "title": ""
    }
   },
   "outputs": [
    {
     "output_type": "stream",
     "name": "stdout",
     "output_type": "stream",
     "text": [
      "+------+----------+---------+----------+----------+-------+------------+--------------------+------------+\n|emp_id|first_name|last_name|       dob|department| salary|joining_date|               email|phone_number|\n+------+----------+---------+----------+----------+-------+------------+--------------------+------------+\n|     1|     Rahul|   Sharma|1988-05-12|        IT|75000.0|  2015-06-10|rahul.sharma@comp...|  9876543210|\n|     4|     Priya|    Mehta|1992-07-09| Marketing|72000.0|  2019-07-18|priya.mehta@compa...|  9765432109|\n|     7|      Amit|    Patel|1984-08-03|        IT|85000.0|  2014-03-14|amit.patel@compan...|  9012345678|\n|    11|     Arjun|    Joshi|1986-07-20|        IT|90000.0|  2013-08-25|arjun.joshi@compa...|  9801234567|\n|    13|    Suresh|   Pillai|1983-10-08|Operations|78000.0|  2012-05-29|suresh.pillai@com...|  9765432190|\n|    15|     Manoj|   Chopra|1987-09-14|        IT|81000.0|  2016-12-01|manoj.chopra@comp...|  9234567810|\n|    17|    Deepak|   Bansal|1984-11-11| Marketing|72000.0|  2015-09-10|deepak.bansal@com...|  9011223344|\n|    19|    Nikhil|  Agarwal|1988-01-30|Operations|74000.0|  2017-01-29|nikhil.agarwal@co...|  9456789012|\n+------+----------+---------+----------+----------+-------+------------+--------------------+------------+\n\n"
     ]
    }
   ],
   "source": [
    "employee2.where(\"salary > 70000\").show()"
   ]
  },
  {
   "cell_type": "markdown",
   "metadata": {
    "application/vnd.databricks.v1+cell": {
     "cellMetadata": {},
     "inputWidgets": {},
     "nuid": "cf232b4a-ee0d-43ac-ac2f-08616c41ca6a",
     "showTitle": false,
     "tableResultSettingsMap": {},
     "title": ""
    }
   },
   "source": [
    "**_Practice Question 1. Get the employee who is gettng maxing in the repective department_**"
   ]
  },
  {
   "cell_type": "code",
   "execution_count": 0,
   "metadata": {
    "application/vnd.databricks.v1+cell": {
     "cellMetadata": {
      "byteLimit": 2048000,
      "rowLimit": 10000
     },
     "inputWidgets": {},
     "nuid": "eb4404ee-6665-4c76-942b-1e222c7f477e",
     "showTitle": false,
     "tableResultSettingsMap": {},
     "title": ""
    }
   },
   "outputs": [],
   "source": [
    "from pyspark.sql.window import Window"
   ]
  },
  {
   "cell_type": "code",
   "execution_count": 0,
   "metadata": {
    "application/vnd.databricks.v1+cell": {
     "cellMetadata": {
      "byteLimit": 2048000,
      "rowLimit": 10000
     },
     "inputWidgets": {},
     "nuid": "e1c5acba-104a-4664-8dd1-1ee572f108f9",
     "showTitle": false,
     "tableResultSettingsMap": {},
     "title": ""
    }
   },
   "outputs": [
    {
     "output_type": "stream",
     "name": "stdout",
     "output_type": "stream",
     "text": [
      "Out[22]: ['emp_id',\n 'first_name',\n 'last_name',\n 'dob',\n 'department',\n 'salary',\n 'joining_date',\n 'email',\n 'phone_number']"
     ]
    }
   ],
   "source": [
    "employee2.columns"
   ]
  },
  {
   "cell_type": "code",
   "execution_count": 0,
   "metadata": {
    "application/vnd.databricks.v1+cell": {
     "cellMetadata": {
      "byteLimit": 2048000,
      "rowLimit": 10000
     },
     "inputWidgets": {},
     "nuid": "7dffb962-e86f-41e5-90d3-17ca21a7e9b1",
     "showTitle": false,
     "tableResultSettingsMap": {},
     "title": ""
    }
   },
   "outputs": [],
   "source": [
    "window_spec = Window.partitionBy(\"department\").orderBy(col(\"salary\").desc())"
   ]
  },
  {
   "cell_type": "code",
   "execution_count": 0,
   "metadata": {
    "application/vnd.databricks.v1+cell": {
     "cellMetadata": {
      "byteLimit": 2048000,
      "rowLimit": 10000
     },
     "inputWidgets": {},
     "nuid": "e9240f34-3579-449c-87ae-14f61c13c4ef",
     "showTitle": false,
     "tableResultSettingsMap": {},
     "title": ""
    }
   },
   "outputs": [],
   "source": [
    "max_dept_sal = employee2.withColumn(\"rn\", row_number().over(window_spec)).filter(col(\"rn\") == 1).drop(\"rn\")"
   ]
  },
  {
   "cell_type": "code",
   "execution_count": 0,
   "metadata": {
    "application/vnd.databricks.v1+cell": {
     "cellMetadata": {
      "byteLimit": 2048000,
      "rowLimit": 10000
     },
     "inputWidgets": {},
     "nuid": "dbcea6a9-a9a4-4ad2-b682-a6b6675bdebc",
     "showTitle": false,
     "tableResultSettingsMap": {},
     "title": ""
    }
   },
   "outputs": [
    {
     "output_type": "stream",
     "name": "stdout",
     "output_type": "stream",
     "text": [
      "+------+----------+---------+----------+----------+-------+------------+--------------------+------------+\n|emp_id|first_name|last_name|       dob|department| salary|joining_date|               email|phone_number|\n+------+----------+---------+----------+----------+-------+------------+--------------------+------------+\n|    12|     Meera|    Desai|1991-12-12|   Finance|67000.0|  2017-11-19|meera.desai@compa...|  9321456789|\n|     3|    Vikram|    Singh|1985-03-15|        HR|58000.0|  2018-01-05|vikram.singh@comp...|  9988776655|\n|    11|     Arjun|    Joshi|1986-07-20|        IT|90000.0|  2013-08-25|arjun.joshi@compa...|  9801234567|\n|     4|     Priya|    Mehta|1992-07-09| Marketing|72000.0|  2019-07-18|priya.mehta@compa...|  9765432109|\n|    13|    Suresh|   Pillai|1983-10-08|Operations|78000.0|  2012-05-29|suresh.pillai@com...|  9765432190|\n|    20|     Kavya|    Menon|1993-08-08|     Sales|61000.0|  2021-06-06|kavya.menon@compa...|  9988772211|\n+------+----------+---------+----------+----------+-------+------------+--------------------+------------+\n\n"
     ]
    }
   ],
   "source": [
    "max_dept_sal.show()"
   ]
  },
  {
   "cell_type": "markdown",
   "metadata": {
    "application/vnd.databricks.v1+cell": {
     "cellMetadata": {},
     "inputWidgets": {},
     "nuid": "01c381c5-b4c5-45dd-a298-0054b3150055",
     "showTitle": false,
     "tableResultSettingsMap": {},
     "title": ""
    }
   },
   "source": [
    "**_Practice Question 2. Get a list of oldest employee from each departments_**"
   ]
  },
  {
   "cell_type": "code",
   "execution_count": 0,
   "metadata": {
    "application/vnd.databricks.v1+cell": {
     "cellMetadata": {
      "byteLimit": 2048000,
      "rowLimit": 10000
     },
     "inputWidgets": {},
     "nuid": "f676af8b-eaf5-4e78-b1e9-6920fcb58e1e",
     "showTitle": false,
     "tableResultSettingsMap": {},
     "title": ""
    }
   },
   "outputs": [],
   "source": [
    "emp_with_age = employee2.withColumn(\"age\", floor(months_between(current_date(), col(\"dob\"))/12))"
   ]
  },
  {
   "cell_type": "code",
   "execution_count": 0,
   "metadata": {
    "application/vnd.databricks.v1+cell": {
     "cellMetadata": {
      "byteLimit": 2048000,
      "rowLimit": 10000
     },
     "inputWidgets": {},
     "nuid": "a4405754-4aed-4648-90f6-7d9358bc1bb4",
     "showTitle": false,
     "tableResultSettingsMap": {},
     "title": ""
    }
   },
   "outputs": [],
   "source": [
    "window_spec = Window.partitionBy(\"department\").orderBy(col(\"age\").desc())"
   ]
  },
  {
   "cell_type": "code",
   "execution_count": 0,
   "metadata": {
    "application/vnd.databricks.v1+cell": {
     "cellMetadata": {
      "byteLimit": 2048000,
      "rowLimit": 10000
     },
     "inputWidgets": {},
     "nuid": "1cc12453-60c5-452a-8874-e17ff9e75fc1",
     "showTitle": false,
     "tableResultSettingsMap": {},
     "title": ""
    }
   },
   "outputs": [],
   "source": [
    "oldest_emp_dept = emp_with_age.withColumn(\"rn\", row_number().over(window_spec)).filter(col(\"rn\") == 1).drop(\"rn\")"
   ]
  },
  {
   "cell_type": "code",
   "execution_count": 0,
   "metadata": {
    "application/vnd.databricks.v1+cell": {
     "cellMetadata": {
      "byteLimit": 2048000,
      "rowLimit": 10000
     },
     "inputWidgets": {},
     "nuid": "ce36dcdd-18bd-46da-aac2-c3c0fa87f8d9",
     "showTitle": false,
     "tableResultSettingsMap": {},
     "title": ""
    }
   },
   "outputs": [
    {
     "output_type": "stream",
     "name": "stdout",
     "output_type": "stream",
     "text": [
      "+------+----------+---------+----------+----------+-------+------------+--------------------+------------+---+\n|emp_id|first_name|last_name|       dob|department| salary|joining_date|               email|phone_number|age|\n+------+----------+---------+----------+----------+-------+------------+--------------------+------------+---+\n|    16|     Pooja|  Rastogi|1990-05-21|   Finance|63000.0|  2019-04-04|pooja.rastogi@com...|  9345671234| 35|\n|     3|    Vikram|    Singh|1985-03-15|        HR|58000.0|  2018-01-05|vikram.singh@comp...|  9988776655| 40|\n|     7|      Amit|    Patel|1984-08-03|        IT|85000.0|  2014-03-14|amit.patel@compan...|  9012345678| 41|\n|    17|    Deepak|   Bansal|1984-11-11| Marketing|72000.0|  2015-09-10|deepak.bansal@com...|  9011223344| 40|\n|    13|    Suresh|   Pillai|1983-10-08|Operations|78000.0|  2012-05-29|suresh.pillai@com...|  9765432190| 41|\n|     6|     Sneha|     Nair|1991-02-18|     Sales|60000.0|  2020-02-20|sneha.nair@compan...|  9345678901| 34|\n+------+----------+---------+----------+----------+-------+------------+--------------------+------------+---+\n\n"
     ]
    }
   ],
   "source": [
    "oldest_emp_dept.show()"
   ]
  }
 ],
 "metadata": {
  "application/vnd.databricks.v1+notebook": {
   "computePreferences": null,
   "dashboards": [],
   "environmentMetadata": {
    "base_environment": "",
    "environment_version": "1"
   },
   "inputWidgetPreferences": null,
   "language": "python",
   "notebookMetadata": {
    "pythonIndentUnit": 4
   },
   "notebookName": "Rb-PySpark-1 (30-08-2025)",
   "widgets": {}
  }
 },
 "nbformat": 4,
 "nbformat_minor": 0
}
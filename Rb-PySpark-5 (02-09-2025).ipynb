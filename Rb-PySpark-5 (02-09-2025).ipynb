{
 "cells": [
  {
   "cell_type": "code",
   "execution_count": 0,
   "metadata": {
    "application/vnd.databricks.v1+cell": {
     "cellMetadata": {
      "byteLimit": 2048000,
      "rowLimit": 10000
     },
     "inputWidgets": {},
     "nuid": "a53b96ad-f7f1-4cc5-b9ec-3e492687090f",
     "showTitle": false,
     "tableResultSettingsMap": {},
     "title": ""
    }
   },
   "outputs": [],
   "source": [
    "from pyspark.sql.functions import *\n",
    "from pyspark.sql.types import *"
   ]
  },
  {
   "cell_type": "code",
   "execution_count": 0,
   "metadata": {
    "application/vnd.databricks.v1+cell": {
     "cellMetadata": {
      "byteLimit": 2048000,
      "rowLimit": 10000
     },
     "inputWidgets": {},
     "nuid": "ba57919f-7bfe-470c-8e72-a1e24815de85",
     "showTitle": false,
     "tableResultSettingsMap": {},
     "title": ""
    }
   },
   "outputs": [],
   "source": [
    "# Emp Data & Schema\n",
    "\n",
    "emp_data_1 = [\n",
    "    [\"001\",\"101\",\"John Doe\",\"30\",\"Male\",\"50000\",\"2015-01-01\"],\n",
    "    [\"002\",\"101\",\"Jane Smith\",\"25\",\"Female\",\"45000\",\"2016-02-15\"],\n",
    "    [\"003\",\"102\",\"Bob Brown\",\"35\",\"Male\",\"55000\",\"2014-05-01\"],\n",
    "    [\"004\",\"102\",\"Alice Lee\",\"28\",\"Female\",\"48000\",\"2017-09-30\"],\n",
    "    [\"005\",\"103\",\"Jack Chan\",\"40\",\"Male\",\"60000\",\"2013-04-01\"],\n",
    "    [\"006\",\"103\",\"Jill Wong\",\"32\",\"Female\",\"52000\",\"2018-07-01\"],\n",
    "    [\"007\",\"101\",\"James Johnson\",\"42\",\"Male\",\"70000\",\"2012-03-15\"],\n",
    "    [\"008\",\"102\",\"Kate Kim\",\"29\",\"Female\",None,\"2019-10-01\"],\n",
    "    [\"009\",\"103\",\"Tom Tan\",\"33\",\"Male\",\"58000\",\"2016-06-01\"],\n",
    "    [\"010\",\"104\",\"Lisa Lee\",\"27\",\"Female\",\"47000\",\"2018-08-01\"],\n",
    "    [\"020\",\"102\",\"Grace Kim\",\"32\",\"Female\",\"53000\",\"2018-11-01\"]\n",
    "    \n",
    "]\n",
    "\n",
    "emp_data_2 = [\n",
    "    [\"011\",\"104\",\"David Park\",\"38\",\"Male\",\"65000\",\"2015-11-01\"],\n",
    "    [\"012\",\"105\",\"Susan Chen\",\"31\",\"Female\",\"54000\",\"2017-02-15\"],\n",
    "    [\"013\",\"106\",\"Brian Kim\",\"45\",\"Male\",None,\"2011-07-01\"],\n",
    "    [\"014\",\"107\",\"Emily Lee\",\"26\",\"Female\",\"46000\",\"2019-01-01\"],\n",
    "    [\"015\",\"106\",\"Michael Lee\",\"37\",\"Male\",\"63000\",\"2014-09-30\"],\n",
    "    [\"016\",\"107\",\"Kelly Zhang\",\"30\",\"Female\",\"49000\",\"2018-04-01\"],\n",
    "    [\"017\",\"105\",\"George Wang\",\"34\",\"Male\",\"57000\",\"2016-03-15\"],\n",
    "    [\"018\",\"104\",\"Nancy Liu\",\"29\",\"\",\"50000\",\"2017-06-01\"],\n",
    "    [\"019\",\"103\",\"Steven Chen\",\"36\",\"Male\",\"62000\",\"2015-08-01\"],\n",
    "    [\"020\",\"102\",\"Grace Kim\",\"32\",\"Female\",\"53000\",\"2018-11-01\"]\n",
    "]\n",
    "\n",
    "emp_schema = \"employee_id string, department_id string, name string, age string, gender string, salary string, hire_date string\""
   ]
  },
  {
   "cell_type": "code",
   "execution_count": 0,
   "metadata": {
    "application/vnd.databricks.v1+cell": {
     "cellMetadata": {
      "byteLimit": 2048000,
      "rowLimit": 10000
     },
     "inputWidgets": {},
     "nuid": "3b0f4b7e-ac76-4336-a2ef-7cdf1b582599",
     "showTitle": false,
     "tableResultSettingsMap": {},
     "title": ""
    }
   },
   "outputs": [],
   "source": [
    "# Create emp DataFrame\n",
    "\n",
    "emp_data_1 = spark.createDataFrame(data=emp_data_1, schema=emp_schema)\n",
    "emp_data_2 = spark.createDataFrame(data=emp_data_2, schema=emp_schema)"
   ]
  },
  {
   "cell_type": "markdown",
   "metadata": {
    "application/vnd.databricks.v1+cell": {
     "cellMetadata": {},
     "inputWidgets": {},
     "nuid": "b13770d9-0014-48a3-8563-690735517f33",
     "showTitle": false,
     "tableResultSettingsMap": {},
     "title": ""
    }
   },
   "source": [
    "**_Union in Pyspark_** <br>_In PySpark, there is no difference between union and `unionAll` because PySpark only has `.union()`, and it behaves like SQL's UNION ALL—it keeps all rows, including duplicates._"
   ]
  },
  {
   "cell_type": "code",
   "execution_count": 0,
   "metadata": {
    "application/vnd.databricks.v1+cell": {
     "cellMetadata": {
      "byteLimit": 2048000,
      "rowLimit": 10000
     },
     "inputWidgets": {},
     "nuid": "057f6926-aa4f-4583-b3e8-7379458a23f0",
     "showTitle": false,
     "tableResultSettingsMap": {},
     "title": ""
    }
   },
   "outputs": [
    {
     "output_type": "stream",
     "name": "stdout",
     "output_type": "stream",
     "text": [
      "+-----------+-------------+-------------+---+------+------+----------+\n|employee_id|department_id|         name|age|gender|salary| hire_date|\n+-----------+-------------+-------------+---+------+------+----------+\n|        001|          101|     John Doe| 30|  Male| 50000|2015-01-01|\n|        002|          101|   Jane Smith| 25|Female| 45000|2016-02-15|\n|        003|          102|    Bob Brown| 35|  Male| 55000|2014-05-01|\n|        004|          102|    Alice Lee| 28|Female| 48000|2017-09-30|\n|        005|          103|    Jack Chan| 40|  Male| 60000|2013-04-01|\n|        006|          103|    Jill Wong| 32|Female| 52000|2018-07-01|\n|        007|          101|James Johnson| 42|  Male| 70000|2012-03-15|\n|        008|          102|     Kate Kim| 29|Female| 51000|2019-10-01|\n|        009|          103|      Tom Tan| 33|  Male| 58000|2016-06-01|\n|        010|          104|     Lisa Lee| 27|Female| 47000|2018-08-01|\n|        020|          102|    Grace Kim| 32|Female| 53000|2018-11-01|\n+-----------+-------------+-------------+---+------+------+----------+\n\n"
     ]
    }
   ],
   "source": [
    "emp_data_1.show()"
   ]
  },
  {
   "cell_type": "code",
   "execution_count": 0,
   "metadata": {
    "application/vnd.databricks.v1+cell": {
     "cellMetadata": {
      "byteLimit": 2048000,
      "rowLimit": 10000
     },
     "inputWidgets": {},
     "nuid": "207b9e33-609f-493b-860e-9f8ef412debe",
     "showTitle": false,
     "tableResultSettingsMap": {},
     "title": ""
    }
   },
   "outputs": [
    {
     "output_type": "stream",
     "name": "stdout",
     "output_type": "stream",
     "text": [
      "+-----------+-------------+-----------+---+------+------+----------+\n|employee_id|department_id|       name|age|gender|salary| hire_date|\n+-----------+-------------+-----------+---+------+------+----------+\n|        011|          104| David Park| 38|  Male| 65000|2015-11-01|\n|        012|          105| Susan Chen| 31|Female| 54000|2017-02-15|\n|        013|          106|  Brian Kim| 45|  Male| 75000|2011-07-01|\n|        014|          107|  Emily Lee| 26|Female| 46000|2019-01-01|\n|        015|          106|Michael Lee| 37|  Male| 63000|2014-09-30|\n|        016|          107|Kelly Zhang| 30|Female| 49000|2018-04-01|\n|        017|          105|George Wang| 34|  Male| 57000|2016-03-15|\n|        018|          104|  Nancy Liu| 29|      | 50000|2017-06-01|\n|        019|          103|Steven Chen| 36|  Male| 62000|2015-08-01|\n|        020|          102|  Grace Kim| 32|Female| 53000|2018-11-01|\n+-----------+-------------+-----------+---+------+------+----------+\n\n"
     ]
    }
   ],
   "source": [
    "emp_data_2.show()"
   ]
  },
  {
   "cell_type": "code",
   "execution_count": 0,
   "metadata": {
    "application/vnd.databricks.v1+cell": {
     "cellMetadata": {
      "byteLimit": 2048000,
      "rowLimit": 10000
     },
     "inputWidgets": {},
     "nuid": "187b94f0-4066-46f7-ab15-c2a9cbb5bc2c",
     "showTitle": false,
     "tableResultSettingsMap": {},
     "title": ""
    }
   },
   "outputs": [],
   "source": [
    "unioned_df = emp_data_1.unionAll(emp_data_2)"
   ]
  },
  {
   "cell_type": "code",
   "execution_count": 0,
   "metadata": {
    "application/vnd.databricks.v1+cell": {
     "cellMetadata": {
      "byteLimit": 2048000,
      "rowLimit": 10000
     },
     "inputWidgets": {},
     "nuid": "5204e2ed-684d-4032-b490-0a8ac3f7619b",
     "showTitle": false,
     "tableResultSettingsMap": {},
     "title": ""
    }
   },
   "outputs": [
    {
     "output_type": "stream",
     "name": "stdout",
     "output_type": "stream",
     "text": [
      "Out[16]: 21"
     ]
    }
   ],
   "source": [
    "unioned_df.count()"
   ]
  },
  {
   "cell_type": "code",
   "execution_count": 0,
   "metadata": {
    "application/vnd.databricks.v1+cell": {
     "cellMetadata": {
      "byteLimit": 2048000,
      "rowLimit": 10000
     },
     "inputWidgets": {},
     "nuid": "668954b5-13a5-4d16-b5b4-77a985eb9637",
     "showTitle": false,
     "tableResultSettingsMap": {},
     "title": ""
    }
   },
   "outputs": [
    {
     "output_type": "stream",
     "name": "stdout",
     "output_type": "stream",
     "text": [
      "+-----------+-------------+-------------+---+------+------+----------+\n|employee_id|department_id|name         |age|gender|salary|hire_date |\n+-----------+-------------+-------------+---+------+------+----------+\n|001        |101          |John Doe     |30 |Male  |50000 |2015-01-01|\n|002        |101          |Jane Smith   |25 |Female|45000 |2016-02-15|\n|003        |102          |Bob Brown    |35 |Male  |55000 |2014-05-01|\n|004        |102          |Alice Lee    |28 |Female|48000 |2017-09-30|\n|005        |103          |Jack Chan    |40 |Male  |60000 |2013-04-01|\n|006        |103          |Jill Wong    |32 |Female|52000 |2018-07-01|\n|007        |101          |James Johnson|42 |Male  |70000 |2012-03-15|\n|008        |102          |Kate Kim     |29 |Female|51000 |2019-10-01|\n|009        |103          |Tom Tan      |33 |Male  |58000 |2016-06-01|\n|010        |104          |Lisa Lee     |27 |Female|47000 |2018-08-01|\n|020        |102          |Grace Kim    |32 |Female|53000 |2018-11-01|\n|011        |104          |David Park   |38 |Male  |65000 |2015-11-01|\n|012        |105          |Susan Chen   |31 |Female|54000 |2017-02-15|\n|013        |106          |Brian Kim    |45 |Male  |75000 |2011-07-01|\n|014        |107          |Emily Lee    |26 |Female|46000 |2019-01-01|\n|015        |106          |Michael Lee  |37 |Male  |63000 |2014-09-30|\n|016        |107          |Kelly Zhang  |30 |Female|49000 |2018-04-01|\n|017        |105          |George Wang  |34 |Male  |57000 |2016-03-15|\n|018        |104          |Nancy Liu    |29 |      |50000 |2017-06-01|\n|019        |103          |Steven Chen  |36 |Male  |62000 |2015-08-01|\n|020        |102          |Grace Kim    |32 |Female|53000 |2018-11-01|\n+-----------+-------------+-------------+---+------+------+----------+\n\n"
     ]
    }
   ],
   "source": [
    "unioned_df.show(30,False)"
   ]
  },
  {
   "cell_type": "code",
   "execution_count": 0,
   "metadata": {
    "application/vnd.databricks.v1+cell": {
     "cellMetadata": {
      "byteLimit": 2048000,
      "rowLimit": 10000
     },
     "inputWidgets": {},
     "nuid": "ac5c2e32-e144-45be-8cdc-5497dfdbd41a",
     "showTitle": false,
     "tableResultSettingsMap": {},
     "title": ""
    }
   },
   "outputs": [
    {
     "output_type": "stream",
     "name": "stdout",
     "output_type": "stream",
     "text": [
      "Out[19]: ['employee_id',\n 'department_id',\n 'name',\n 'age',\n 'gender',\n 'salary',\n 'hire_date']"
     ]
    }
   ],
   "source": [
    "emp_data_2.columns"
   ]
  },
  {
   "cell_type": "code",
   "execution_count": 0,
   "metadata": {
    "application/vnd.databricks.v1+cell": {
     "cellMetadata": {
      "byteLimit": 2048000,
      "rowLimit": 10000
     },
     "inputWidgets": {},
     "nuid": "83d34e75-599f-481b-8bc4-2300d030ad90",
     "showTitle": false,
     "tableResultSettingsMap": {},
     "title": ""
    }
   },
   "outputs": [],
   "source": [
    "emp2 = emp_data_2.withColumn(\"hire_date\", col(\"hire_date\").cast(DateType()))"
   ]
  },
  {
   "cell_type": "code",
   "execution_count": 0,
   "metadata": {
    "application/vnd.databricks.v1+cell": {
     "cellMetadata": {
      "byteLimit": 2048000,
      "rowLimit": 10000
     },
     "inputWidgets": {},
     "nuid": "a89a8670-ae5f-4f86-9721-b3c63585cade",
     "showTitle": false,
     "tableResultSettingsMap": {},
     "title": ""
    }
   },
   "outputs": [],
   "source": [
    "df_final = emp2.union(emp_data_1)"
   ]
  },
  {
   "cell_type": "code",
   "execution_count": 0,
   "metadata": {
    "application/vnd.databricks.v1+cell": {
     "cellMetadata": {
      "byteLimit": 2048000,
      "rowLimit": 10000
     },
     "inputWidgets": {},
     "nuid": "24140617-74f5-490c-b951-8165fea92fe3",
     "showTitle": false,
     "tableResultSettingsMap": {},
     "title": ""
    }
   },
   "outputs": [
    {
     "output_type": "stream",
     "name": "stdout",
     "output_type": "stream",
     "text": [
      "+-----------+-------------+-------------+---+------+------+----------+\n|employee_id|department_id|         name|age|gender|salary| hire_date|\n+-----------+-------------+-------------+---+------+------+----------+\n|        001|          101|     John Doe| 30|  Male| 50000|2015-01-01|\n|        002|          101|   Jane Smith| 25|Female| 45000|2016-02-15|\n|        003|          102|    Bob Brown| 35|  Male| 55000|2014-05-01|\n|        004|          102|    Alice Lee| 28|Female| 48000|2017-09-30|\n|        005|          103|    Jack Chan| 40|  Male| 60000|2013-04-01|\n|        006|          103|    Jill Wong| 32|Female| 52000|2018-07-01|\n|        007|          101|James Johnson| 42|  Male| 70000|2012-03-15|\n|        008|          102|     Kate Kim| 29|Female| 51000|2019-10-01|\n|        009|          103|      Tom Tan| 33|  Male| 58000|2016-06-01|\n|        010|          104|     Lisa Lee| 27|Female| 47000|2018-08-01|\n|        020|          102|    Grace Kim| 32|Female| 53000|2018-11-01|\n|        011|          104|   David Park| 38|  Male| 65000|2015-11-01|\n|        012|          105|   Susan Chen| 31|Female| 54000|2017-02-15|\n|        013|          106|    Brian Kim| 45|  Male| 75000|2011-07-01|\n|        014|          107|    Emily Lee| 26|Female| 46000|2019-01-01|\n|        015|          106|  Michael Lee| 37|  Male| 63000|2014-09-30|\n|        016|          107|  Kelly Zhang| 30|Female| 49000|2018-04-01|\n|        017|          105|  George Wang| 34|  Male| 57000|2016-03-15|\n|        018|          104|    Nancy Liu| 29|      | 50000|2017-06-01|\n|        019|          103|  Steven Chen| 36|  Male| 62000|2015-08-01|\n+-----------+-------------+-------------+---+------+------+----------+\nonly showing top 20 rows\n\n"
     ]
    }
   ],
   "source": [
    "df_final.show()"
   ]
  },
  {
   "cell_type": "code",
   "execution_count": 0,
   "metadata": {
    "application/vnd.databricks.v1+cell": {
     "cellMetadata": {
      "byteLimit": 2048000,
      "rowLimit": 10000
     },
     "inputWidgets": {},
     "nuid": "713908c2-bec9-408d-b2be-e6518b7da52a",
     "showTitle": false,
     "tableResultSettingsMap": {},
     "title": ""
    }
   },
   "outputs": [
    {
     "output_type": "stream",
     "name": "stdout",
     "output_type": "stream",
     "text": [
      "root\n |-- employee_id: string (nullable = true)\n |-- department_id: string (nullable = true)\n |-- name: string (nullable = true)\n |-- age: string (nullable = true)\n |-- gender: string (nullable = true)\n |-- salary: string (nullable = true)\n |-- hire_date: string (nullable = true)\n\n"
     ]
    }
   ],
   "source": [
    "emp_data_1.printSchema()"
   ]
  },
  {
   "cell_type": "code",
   "execution_count": 0,
   "metadata": {
    "application/vnd.databricks.v1+cell": {
     "cellMetadata": {
      "byteLimit": 2048000,
      "rowLimit": 10000
     },
     "inputWidgets": {},
     "nuid": "5b89f79f-e867-40d8-9461-589490d50e19",
     "showTitle": false,
     "tableResultSettingsMap": {},
     "title": ""
    }
   },
   "outputs": [
    {
     "output_type": "stream",
     "name": "stdout",
     "output_type": "stream",
     "text": [
      "root\n |-- employee_id: string (nullable = true)\n |-- department_id: string (nullable = true)\n |-- name: string (nullable = true)\n |-- age: string (nullable = true)\n |-- gender: string (nullable = true)\n |-- salary: string (nullable = true)\n |-- hire_date: date (nullable = true)\n\n"
     ]
    }
   ],
   "source": [
    "emp2.printSchema()"
   ]
  },
  {
   "cell_type": "code",
   "execution_count": 0,
   "metadata": {
    "application/vnd.databricks.v1+cell": {
     "cellMetadata": {
      "byteLimit": 2048000,
      "rowLimit": 10000
     },
     "inputWidgets": {},
     "nuid": "e67ff5a6-63ba-41ec-9dfa-87916a4b64d6",
     "showTitle": false,
     "tableResultSettingsMap": {},
     "title": ""
    }
   },
   "outputs": [
    {
     "output_type": "stream",
     "name": "stdout",
     "output_type": "stream",
     "text": [
      "root\n |-- employee_id: string (nullable = true)\n |-- department_id: string (nullable = true)\n |-- name: string (nullable = true)\n |-- age: string (nullable = true)\n |-- gender: string (nullable = true)\n |-- salary: string (nullable = true)\n |-- hire_date: string (nullable = true)\n\n"
     ]
    }
   ],
   "source": [
    "df_final.printSchema()"
   ]
  },
  {
   "cell_type": "markdown",
   "metadata": {
    "application/vnd.databricks.v1+cell": {
     "cellMetadata": {},
     "inputWidgets": {},
     "nuid": "10f90fd3-9845-46b4-9d5b-35894e871923",
     "showTitle": false,
     "tableResultSettingsMap": {},
     "title": ""
    }
   },
   "source": [
    "**_Sorting in PySpark_**"
   ]
  },
  {
   "cell_type": "code",
   "execution_count": 0,
   "metadata": {
    "application/vnd.databricks.v1+cell": {
     "cellMetadata": {
      "byteLimit": 2048000,
      "rowLimit": 10000
     },
     "inputWidgets": {},
     "nuid": "4a8157af-e888-426b-81da-7dbe92e6d9c5",
     "showTitle": false,
     "tableResultSettingsMap": {},
     "title": ""
    }
   },
   "outputs": [
    {
     "output_type": "stream",
     "name": "stdout",
     "output_type": "stream",
     "text": [
      "Out[30]: ['employee_id',\n 'department_id',\n 'name',\n 'age',\n 'gender',\n 'salary',\n 'hire_date']"
     ]
    }
   ],
   "source": [
    "df_final.columns"
   ]
  },
  {
   "cell_type": "code",
   "execution_count": 0,
   "metadata": {
    "application/vnd.databricks.v1+cell": {
     "cellMetadata": {
      "byteLimit": 2048000,
      "rowLimit": 10000
     },
     "inputWidgets": {},
     "nuid": "8ff0921c-a250-45a2-b35c-a8de37af680b",
     "showTitle": false,
     "tableResultSettingsMap": {},
     "title": ""
    }
   },
   "outputs": [
    {
     "output_type": "stream",
     "name": "stdout",
     "output_type": "stream",
     "text": [
      "+-----------+-------------+-------------+---+------+------+----------+\n|employee_id|department_id|         name|age|gender|salary| hire_date|\n+-----------+-------------+-------------+---+------+------+----------+\n|        013|          106|    Brian Kim| 45|  Male| 75000|2011-07-01|\n|        007|          101|James Johnson| 42|  Male| 70000|2012-03-15|\n|        011|          104|   David Park| 38|  Male| 65000|2015-11-01|\n|        015|          106|  Michael Lee| 37|  Male| 63000|2014-09-30|\n|        019|          103|  Steven Chen| 36|  Male| 62000|2015-08-01|\n|        005|          103|    Jack Chan| 40|  Male| 60000|2013-04-01|\n|        009|          103|      Tom Tan| 33|  Male| 58000|2016-06-01|\n|        017|          105|  George Wang| 34|  Male| 57000|2016-03-15|\n|        003|          102|    Bob Brown| 35|  Male| 55000|2014-05-01|\n|        012|          105|   Susan Chen| 31|Female| 54000|2017-02-15|\n|        020|          102|    Grace Kim| 32|Female| 53000|2018-11-01|\n|        020|          102|    Grace Kim| 32|Female| 53000|2018-11-01|\n|        006|          103|    Jill Wong| 32|Female| 52000|2018-07-01|\n|        008|          102|     Kate Kim| 29|Female| 51000|2019-10-01|\n|        001|          101|     John Doe| 30|  Male| 50000|2015-01-01|\n|        018|          104|    Nancy Liu| 29|      | 50000|2017-06-01|\n|        016|          107|  Kelly Zhang| 30|Female| 49000|2018-04-01|\n|        004|          102|    Alice Lee| 28|Female| 48000|2017-09-30|\n|        010|          104|     Lisa Lee| 27|Female| 47000|2018-08-01|\n|        014|          107|    Emily Lee| 26|Female| 46000|2019-01-01|\n+-----------+-------------+-------------+---+------+------+----------+\nonly showing top 20 rows\n\n"
     ]
    }
   ],
   "source": [
    "df_final.sort(desc(\"salary\")).show()"
   ]
  },
  {
   "cell_type": "code",
   "execution_count": 0,
   "metadata": {
    "application/vnd.databricks.v1+cell": {
     "cellMetadata": {
      "byteLimit": 2048000,
      "rowLimit": 10000
     },
     "inputWidgets": {},
     "nuid": "470c69bd-a9fd-4cea-856f-a3d969e5d131",
     "showTitle": false,
     "tableResultSettingsMap": {},
     "title": ""
    }
   },
   "outputs": [
    {
     "output_type": "stream",
     "name": "stdout",
     "output_type": "stream",
     "text": [
      "+-----------+-------------+-------------+---+------+------+----------+\n|employee_id|department_id|         name|age|gender|salary| hire_date|\n+-----------+-------------+-------------+---+------+------+----------+\n|        013|          106|    Brian Kim| 45|  Male| 75000|2011-07-01|\n|        007|          101|James Johnson| 42|  Male| 70000|2012-03-15|\n|        011|          104|   David Park| 38|  Male| 65000|2015-11-01|\n|        015|          106|  Michael Lee| 37|  Male| 63000|2014-09-30|\n|        019|          103|  Steven Chen| 36|  Male| 62000|2015-08-01|\n|        005|          103|    Jack Chan| 40|  Male| 60000|2013-04-01|\n|        009|          103|      Tom Tan| 33|  Male| 58000|2016-06-01|\n|        017|          105|  George Wang| 34|  Male| 57000|2016-03-15|\n|        003|          102|    Bob Brown| 35|  Male| 55000|2014-05-01|\n|        012|          105|   Susan Chen| 31|Female| 54000|2017-02-15|\n|        020|          102|    Grace Kim| 32|Female| 53000|2018-11-01|\n|        020|          102|    Grace Kim| 32|Female| 53000|2018-11-01|\n|        006|          103|    Jill Wong| 32|Female| 52000|2018-07-01|\n|        008|          102|     Kate Kim| 29|Female| 51000|2019-10-01|\n|        001|          101|     John Doe| 30|  Male| 50000|2015-01-01|\n|        018|          104|    Nancy Liu| 29|      | 50000|2017-06-01|\n|        016|          107|  Kelly Zhang| 30|Female| 49000|2018-04-01|\n|        004|          102|    Alice Lee| 28|Female| 48000|2017-09-30|\n|        010|          104|     Lisa Lee| 27|Female| 47000|2018-08-01|\n|        014|          107|    Emily Lee| 26|Female| 46000|2019-01-01|\n+-----------+-------------+-------------+---+------+------+----------+\nonly showing top 20 rows\n\n"
     ]
    }
   ],
   "source": [
    "df_final.orderBy(desc(\"salary\")).show()"
   ]
  },
  {
   "cell_type": "code",
   "execution_count": 0,
   "metadata": {
    "application/vnd.databricks.v1+cell": {
     "cellMetadata": {
      "byteLimit": 2048000,
      "rowLimit": 10000
     },
     "inputWidgets": {},
     "nuid": "fe9c6e4c-a4ae-4cf6-9d5b-98bc1bf66d4a",
     "showTitle": false,
     "tableResultSettingsMap": {},
     "title": ""
    }
   },
   "outputs": [
    {
     "output_type": "stream",
     "name": "stdout",
     "output_type": "stream",
     "text": [
      "+-----------+-------------+-------------+---+------+------+----------+\n|employee_id|department_id|         name|age|gender|salary| hire_date|\n+-----------+-------------+-------------+---+------+------+----------+\n|        018|          104|    Nancy Liu| 29|      | 50000|2017-06-01|\n|        012|          105|   Susan Chen| 31|Female| 54000|2017-02-15|\n|        020|          102|    Grace Kim| 32|Female| 53000|2018-11-01|\n|        020|          102|    Grace Kim| 32|Female| 53000|2018-11-01|\n|        006|          103|    Jill Wong| 32|Female| 52000|2018-07-01|\n|        008|          102|     Kate Kim| 29|Female| 51000|2019-10-01|\n|        016|          107|  Kelly Zhang| 30|Female| 49000|2018-04-01|\n|        004|          102|    Alice Lee| 28|Female| 48000|2017-09-30|\n|        010|          104|     Lisa Lee| 27|Female| 47000|2018-08-01|\n|        014|          107|    Emily Lee| 26|Female| 46000|2019-01-01|\n|        002|          101|   Jane Smith| 25|Female| 45000|2016-02-15|\n|        013|          106|    Brian Kim| 45|  Male| 75000|2011-07-01|\n|        007|          101|James Johnson| 42|  Male| 70000|2012-03-15|\n|        011|          104|   David Park| 38|  Male| 65000|2015-11-01|\n|        015|          106|  Michael Lee| 37|  Male| 63000|2014-09-30|\n|        019|          103|  Steven Chen| 36|  Male| 62000|2015-08-01|\n|        005|          103|    Jack Chan| 40|  Male| 60000|2013-04-01|\n|        009|          103|      Tom Tan| 33|  Male| 58000|2016-06-01|\n|        017|          105|  George Wang| 34|  Male| 57000|2016-03-15|\n|        003|          102|    Bob Brown| 35|  Male| 55000|2014-05-01|\n+-----------+-------------+-------------+---+------+------+----------+\nonly showing top 20 rows\n\n"
     ]
    }
   ],
   "source": [
    "df_final.orderBy(asc(\"gender\"), desc(\"salary\")).show()"
   ]
  },
  {
   "cell_type": "markdown",
   "metadata": {
    "application/vnd.databricks.v1+cell": {
     "cellMetadata": {},
     "inputWidgets": {},
     "nuid": "a45e2f79-1317-4d45-94bf-5cf3d59e336e",
     "showTitle": false,
     "tableResultSettingsMap": {},
     "title": ""
    }
   },
   "source": [
    "**_Aggregation in Pyspark_**"
   ]
  },
  {
   "cell_type": "code",
   "execution_count": 0,
   "metadata": {
    "application/vnd.databricks.v1+cell": {
     "cellMetadata": {},
     "inputWidgets": {},
     "nuid": "e2608b3c-5ef3-429f-85ec-41dbb4ff6d80",
     "showTitle": false,
     "tableResultSettingsMap": {},
     "title": ""
    }
   },
   "outputs": [],
   "source": [
    "#Let calculate average salary by gender"
   ]
  },
  {
   "cell_type": "code",
   "execution_count": 0,
   "metadata": {
    "application/vnd.databricks.v1+cell": {
     "cellMetadata": {
      "byteLimit": 2048000,
      "rowLimit": 10000
     },
     "inputWidgets": {},
     "nuid": "2c09bca5-2f20-4cf1-8575-b045be151dcc",
     "showTitle": false,
     "tableResultSettingsMap": {},
     "title": ""
    }
   },
   "outputs": [],
   "source": [
    "avg_sal_by_gen = df_final.groupBy(\"gender\").agg(round(avg(\"salary\")).alias(\"avg_salary\"))"
   ]
  },
  {
   "cell_type": "code",
   "execution_count": 0,
   "metadata": {
    "application/vnd.databricks.v1+cell": {
     "cellMetadata": {
      "byteLimit": 2048000,
      "rowLimit": 10000
     },
     "inputWidgets": {},
     "nuid": "208a2b63-dedb-4259-8313-d04f4b6fe1a3",
     "showTitle": false,
     "tableResultSettingsMap": {},
     "title": ""
    }
   },
   "outputs": [
    {
     "output_type": "stream",
     "name": "stdout",
     "output_type": "stream",
     "text": [
      "+------+----------+\n|gender|avg_salary|\n+------+----------+\n|  Male|   60000.0|\n|Female|   49667.0|\n|      |   50000.0|\n+------+----------+\n\n"
     ]
    }
   ],
   "source": [
    "avg_sal_by_gen.show()"
   ]
  },
  {
   "cell_type": "code",
   "execution_count": 0,
   "metadata": {
    "application/vnd.databricks.v1+cell": {
     "cellMetadata": {
      "byteLimit": 2048000,
      "rowLimit": 10000
     },
     "inputWidgets": {},
     "nuid": "ee4bc227-cc32-4645-9046-de0fb0178778",
     "showTitle": false,
     "tableResultSettingsMap": {},
     "title": ""
    }
   },
   "outputs": [],
   "source": [
    "male_avg_sal,female_avg_sal = avg_sal_by_gen.collect()[0][1],avg_sal_by_gen.collect()[1][1]"
   ]
  },
  {
   "cell_type": "code",
   "execution_count": 0,
   "metadata": {
    "application/vnd.databricks.v1+cell": {
     "cellMetadata": {
      "byteLimit": 2048000,
      "rowLimit": 10000
     },
     "inputWidgets": {},
     "nuid": "4639c8de-123d-4b60-baf0-f54577e2f636",
     "showTitle": false,
     "tableResultSettingsMap": {},
     "title": ""
    }
   },
   "outputs": [
    {
     "output_type": "stream",
     "name": "stdout",
     "output_type": "stream",
     "text": [
      "Out[56]: ['employee_id',\n 'department_id',\n 'name',\n 'age',\n 'gender',\n 'salary',\n 'hire_date']"
     ]
    }
   ],
   "source": [
    "df_final.columns"
   ]
  },
  {
   "cell_type": "code",
   "execution_count": 0,
   "metadata": {
    "application/vnd.databricks.v1+cell": {
     "cellMetadata": {
      "byteLimit": 2048000,
      "rowLimit": 10000
     },
     "inputWidgets": {},
     "nuid": "448cbdbe-34ba-486e-bf6c-e01b9b5ecacd",
     "showTitle": false,
     "tableResultSettingsMap": {},
     "title": ""
    }
   },
   "outputs": [
    {
     "output_type": "stream",
     "name": "stdout",
     "output_type": "stream",
     "text": [
      "+-----------+-------------+---------+---+------+------+----------+\n|employee_id|department_id|     name|age|gender|salary| hire_date|\n+-----------+-------------+---------+---+------+------+----------+\n|        013|          106|Brian Kim| 45|  Male|  null|2011-07-01|\n|        008|          102| Kate Kim| 29|Female|  null|2019-10-01|\n+-----------+-------------+---------+---+------+------+----------+\n\n"
     ]
    }
   ],
   "source": [
    "df_final.filter(col(\"salary\").isNull()).show()"
   ]
  },
  {
   "cell_type": "markdown",
   "metadata": {
    "application/vnd.databricks.v1+cell": {
     "cellMetadata": {},
     "inputWidgets": {},
     "nuid": "26ae6bf9-ad20-439c-84c7-2ae48409b05e",
     "showTitle": false,
     "tableResultSettingsMap": {},
     "title": ""
    }
   },
   "source": [
    "**_Filling the missing values with average based on gender_**"
   ]
  },
  {
   "cell_type": "code",
   "execution_count": 0,
   "metadata": {
    "application/vnd.databricks.v1+cell": {
     "cellMetadata": {
      "byteLimit": 2048000,
      "rowLimit": 10000
     },
     "inputWidgets": {},
     "nuid": "58498e82-1359-4a98-a25a-61ca2bf0ba66",
     "showTitle": false,
     "tableResultSettingsMap": {},
     "title": ""
    }
   },
   "outputs": [
    {
     "output_type": "stream",
     "name": "stdout",
     "output_type": "stream",
     "text": [
      "+-----------+-------------+-------------+---+------+-------+----------+\n|employee_id|department_id|         name|age|gender| salary| hire_date|\n+-----------+-------------+-------------+---+------+-------+----------+\n|        011|          104|   David Park| 38|  Male|  65000|2015-11-01|\n|        012|          105|   Susan Chen| 31|Female|  54000|2017-02-15|\n|        013|          106|    Brian Kim| 45|  Male|60000.0|2011-07-01|\n|        014|          107|    Emily Lee| 26|Female|  46000|2019-01-01|\n|        015|          106|  Michael Lee| 37|  Male|  63000|2014-09-30|\n|        016|          107|  Kelly Zhang| 30|Female|  49000|2018-04-01|\n|        017|          105|  George Wang| 34|  Male|  57000|2016-03-15|\n|        018|          104|    Nancy Liu| 29|      |  50000|2017-06-01|\n|        019|          103|  Steven Chen| 36|  Male|  62000|2015-08-01|\n|        020|          102|    Grace Kim| 32|Female|  53000|2018-11-01|\n|        001|          101|     John Doe| 30|  Male|  50000|2015-01-01|\n|        002|          101|   Jane Smith| 25|Female|  45000|2016-02-15|\n|        003|          102|    Bob Brown| 35|  Male|  55000|2014-05-01|\n|        004|          102|    Alice Lee| 28|Female|  48000|2017-09-30|\n|        005|          103|    Jack Chan| 40|  Male|  60000|2013-04-01|\n|        006|          103|    Jill Wong| 32|Female|  52000|2018-07-01|\n|        007|          101|James Johnson| 42|  Male|  70000|2012-03-15|\n|        008|          102|     Kate Kim| 29|Female|49667.0|2019-10-01|\n|        009|          103|      Tom Tan| 33|  Male|  58000|2016-06-01|\n|        010|          104|     Lisa Lee| 27|Female|  47000|2018-08-01|\n+-----------+-------------+-------------+---+------+-------+----------+\nonly showing top 20 rows\n\n"
     ]
    }
   ],
   "source": [
    "df_final.withColumn(\"salary\", when((col(\"gender\") == \"Male\") & (col(\"salary\").isNull()), lit(male_avg_sal))\\\n",
    "    .when((col(\"gender\") == \"Female\") & (col(\"salary\").isNull()), lit(female_avg_sal)).otherwise(col(\"salary\"))\n",
    "    ).show()"
   ]
  },
  {
   "cell_type": "code",
   "execution_count": 0,
   "metadata": {
    "application/vnd.databricks.v1+cell": {
     "cellMetadata": {
      "byteLimit": 2048000,
      "rowLimit": 10000
     },
     "inputWidgets": {},
     "nuid": "54f9e9c2-cb81-40e6-81c7-56ce30b3089d",
     "showTitle": false,
     "tableResultSettingsMap": {},
     "title": ""
    }
   },
   "outputs": [
    {
     "output_type": "stream",
     "name": "stdout",
     "output_type": "stream",
     "text": [
      "+-------------+-----+\n|department_id|count|\n+-------------+-----+\n|          104|    3|\n|          105|    2|\n|          106|    2|\n|          107|    2|\n|          102|    5|\n|          103|    4|\n|          101|    3|\n+-------------+-----+\n\n"
     ]
    }
   ],
   "source": [
    "#Count of employees for each department\n",
    "\n",
    "df_final.groupBy(\"department_id\").count().show()"
   ]
  }
 ],
 "metadata": {
  "application/vnd.databricks.v1+notebook": {
   "computePreferences": null,
   "dashboards": [],
   "environmentMetadata": {
    "base_environment": "",
    "environment_version": "1"
   },
   "inputWidgetPreferences": null,
   "language": "python",
   "notebookMetadata": {
    "pythonIndentUnit": 4
   },
   "notebookName": "Rb-PySpark-5 (02-09-2025)",
   "widgets": {}
  }
 },
 "nbformat": 4,
 "nbformat_minor": 0
}
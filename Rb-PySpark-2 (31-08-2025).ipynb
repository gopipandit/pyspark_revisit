{
 "cells": [
  {
   "cell_type": "code",
   "execution_count": 0,
   "metadata": {
    "application/vnd.databricks.v1+cell": {
     "cellMetadata": {
      "byteLimit": 2048000,
      "rowLimit": 10000
     },
     "inputWidgets": {},
     "nuid": "6768486e-62d5-427c-988d-4b1985667aa3",
     "showTitle": false,
     "tableResultSettingsMap": {},
     "title": ""
    }
   },
   "outputs": [],
   "source": [
    "from pyspark.sql.functions import *\n",
    "from pyspark.sql.types import *"
   ]
  },
  {
   "cell_type": "code",
   "execution_count": 0,
   "metadata": {
    "application/vnd.databricks.v1+cell": {
     "cellMetadata": {
      "byteLimit": 2048000,
      "rowLimit": 10000
     },
     "inputWidgets": {},
     "nuid": "cbff0096-0de6-4ccb-9bf2-15f274a4277c",
     "showTitle": false,
     "tableResultSettingsMap": {},
     "title": ""
    }
   },
   "outputs": [],
   "source": [
    "employees_data = [\n",
    "    (1, \"Rahul\", \"Sharma\", \"1988-05-12\", \"IT\", 75000.00, \"2015-06-10\", \"rahul.sharma@company.com\", \"9876543210\"),\n",
    "    (2, \"Ananya\", \"Iyer\", \"1990-11-23\", \"Finance\", 65000.00, \"2017-04-22\", \"ananya.iyer@company.com\", \"9123456789\"),\n",
    "    (3, \"Vikram\", \"Singh\", \"1985-03-15\", \"HR\", 58000.00, \"2018-01-05\", \"vikram.singh@company.com\", \"9988776655\"),\n",
    "    (4, \"Priya\", \"Mehta\", \"1992-07-09\", \"Marketing\", 72000.00, \"2019-07-18\", \"priya.mehta@company.com\", \"9765432109\"),\n",
    "    (5, \"Rohit\", \"Verma\", \"1987-12-30\", \"Operations\", 69000.00, \"2016-10-12\", \"rohit.verma@company.com\", \"9098765432\"),\n",
    "    (6, \"Sneha\", \"Nair\", \"1991-02-18\", \"Sales\", 60000.00, \"2020-02-20\", \"sneha.nair@company.com\", \"9345678901\"),\n",
    "    (7, \"Amit\", \"Patel\", \"1984-08-03\", \"IT\", 85000.00, \"2014-03-14\", \"amit.patel@company.com\", \"9012345678\"),\n",
    "    (8, \"Neha\", \"Kapoor\", \"1993-01-25\", \"Finance\", 56000.00, \"2021-09-09\", \"neha.kapoor@company.com\", \"9871203456\"),\n",
    "    (9, \"Karan\", \"Malhotra\", \"1989-09-10\", \"Marketing\", 70000.00, \"2018-06-11\", \"karan.malhotra@company.com\", \"9988012345\"),\n",
    "    (10, \"Divya\", \"Reddy\", \"1994-04-05\", \"HR\", 55000.00, \"2022-01-17\", \"divya.reddy@company.com\", \"9123009876\"),\n",
    "    (11, \"Arjun\", \"Joshi\", \"1986-07-20\", \"IT\", 90000.00, \"2013-08-25\", \"arjun.joshi@company.com\", \"9801234567\"),\n",
    "    (12, \"Meera\", \"Desai\", \"1991-12-12\", \"Finance\", 67000.00, \"2017-11-19\", \"meera.desai@company.com\", \"9321456789\"),\n",
    "    (13, \"Suresh\", \"Pillai\", \"1983-10-08\", \"Operations\", 78000.00, \"2012-05-29\", \"suresh.pillai@company.com\", \"9765432190\"),\n",
    "    (14, \"Ritika\", \"Gupta\", \"1995-03-27\", \"Sales\", 52000.00, \"2023-03-15\", \"ritika.gupta@company.com\", \"9887766554\"),\n",
    "    (15, \"Manoj\", \"Chopra\", \"1987-09-14\", \"IT\", 81000.00, \"2016-12-01\", \"manoj.chopra@company.com\", \"9234567810\"),\n",
    "    (16, \"Pooja\", \"Rastogi\", \"1990-05-21\", \"Finance\", 63000.00, \"2019-04-04\", \"pooja.rastogi@company.com\", \"9345671234\"),\n",
    "    (17, \"Deepak\", \"Bansal\", \"1984-11-11\", \"Marketing\", 72000.00, \"2015-09-10\", \"deepak.bansal@company.com\", \"9011223344\"),\n",
    "    (18, \"Shalini\", \"Roy\", \"1992-06-16\", \"HR\", 57000.00, \"2020-08-12\", \"shalini.roy@company.com\", \"9776655443\"),\n",
    "    (19, \"Nikhil\", \"Agarwal\", \"1988-01-30\", \"Operations\", 74000.00, \"2017-01-29\", \"nikhil.agarwal@company.com\", \"9456789012\"),\n",
    "    (20, \"Kavya\", \"Menon\", \"1993-08-08\", \"Sales\", 61000.00, \"2021-06-06\", \"kavya.menon@company.com\", \"9988772211\"),\n",
    "]"
   ]
  },
  {
   "cell_type": "code",
   "execution_count": 0,
   "metadata": {
    "application/vnd.databricks.v1+cell": {
     "cellMetadata": {
      "byteLimit": 2048000,
      "rowLimit": 10000
     },
     "inputWidgets": {},
     "nuid": "c4a60203-b60b-466f-b22c-054b80b92466",
     "showTitle": false,
     "tableResultSettingsMap": {},
     "title": ""
    }
   },
   "outputs": [],
   "source": [
    "_schema = StructType([\n",
    "    StructField(\"emp_id\", IntegerType(), False),\n",
    "    StructField(\"first_name\", StringType(), True),\n",
    "    StructField(\"last_name\", StringType(), True),\n",
    "    StructField(\"dob\", StringType(), True),\n",
    "    StructField(\"department\", StringType(), True),\n",
    "    StructField(\"salary\", DoubleType(), True),\n",
    "    StructField(\"joining_date\", StringType(), True),\n",
    "    StructField(\"email\", StringType(), True),\n",
    "    StructField(\"phone_number\", StringType(), True)\n",
    "])"
   ]
  },
  {
   "cell_type": "code",
   "execution_count": 0,
   "metadata": {
    "application/vnd.databricks.v1+cell": {
     "cellMetadata": {
      "byteLimit": 2048000,
      "rowLimit": 10000
     },
     "inputWidgets": {},
     "nuid": "c7774e3d-0ad5-4f8c-8ce1-7d9d81f2be58",
     "showTitle": false,
     "tableResultSettingsMap": {},
     "title": ""
    }
   },
   "outputs": [],
   "source": [
    "employee = spark.createDataFrame(employees_data,_schema).withColumn(\"dob\", col(\"dob\").cast(DateType())).withColumn(\"joining_date\", col(\"joining_date\").cast(DateType()))"
   ]
  },
  {
   "cell_type": "code",
   "execution_count": 0,
   "metadata": {
    "application/vnd.databricks.v1+cell": {
     "cellMetadata": {
      "byteLimit": 2048000,
      "rowLimit": 10000
     },
     "inputWidgets": {},
     "nuid": "cc51adbc-58fd-447c-bb2a-d548f0fab0c1",
     "showTitle": false,
     "tableResultSettingsMap": {},
     "title": ""
    }
   },
   "outputs": [
    {
     "output_type": "display_data",
     "data": {
      "text/html": [
       "<style scoped>\n",
       "  .table-result-container {\n",
       "    max-height: 300px;\n",
       "    overflow: auto;\n",
       "  }\n",
       "  table, th, td {\n",
       "    border: 1px solid black;\n",
       "    border-collapse: collapse;\n",
       "  }\n",
       "  th, td {\n",
       "    padding: 5px;\n",
       "  }\n",
       "  th {\n",
       "    text-align: left;\n",
       "  }\n",
       "</style><div class='table-result-container'><table class='table-result'><thead style='background-color: white'><tr><th>emp_id</th><th>first_name</th><th>last_name</th><th>dob</th><th>department</th><th>salary</th><th>joining_date</th><th>email</th><th>phone_number</th></tr></thead><tbody><tr><td>1</td><td>Rahul</td><td>Sharma</td><td>1988-05-12</td><td>IT</td><td>75000.0</td><td>2015-06-10</td><td>rahul.sharma@company.com</td><td>9876543210</td></tr><tr><td>2</td><td>Ananya</td><td>Iyer</td><td>1990-11-23</td><td>Finance</td><td>65000.0</td><td>2017-04-22</td><td>ananya.iyer@company.com</td><td>9123456789</td></tr><tr><td>3</td><td>Vikram</td><td>Singh</td><td>1985-03-15</td><td>HR</td><td>58000.0</td><td>2018-01-05</td><td>vikram.singh@company.com</td><td>9988776655</td></tr><tr><td>4</td><td>Priya</td><td>Mehta</td><td>1992-07-09</td><td>Marketing</td><td>72000.0</td><td>2019-07-18</td><td>priya.mehta@company.com</td><td>9765432109</td></tr><tr><td>5</td><td>Rohit</td><td>Verma</td><td>1987-12-30</td><td>Operations</td><td>69000.0</td><td>2016-10-12</td><td>rohit.verma@company.com</td><td>9098765432</td></tr><tr><td>6</td><td>Sneha</td><td>Nair</td><td>1991-02-18</td><td>Sales</td><td>60000.0</td><td>2020-02-20</td><td>sneha.nair@company.com</td><td>9345678901</td></tr><tr><td>7</td><td>Amit</td><td>Patel</td><td>1984-08-03</td><td>IT</td><td>85000.0</td><td>2014-03-14</td><td>amit.patel@company.com</td><td>9012345678</td></tr><tr><td>8</td><td>Neha</td><td>Kapoor</td><td>1993-01-25</td><td>Finance</td><td>56000.0</td><td>2021-09-09</td><td>neha.kapoor@company.com</td><td>9871203456</td></tr><tr><td>9</td><td>Karan</td><td>Malhotra</td><td>1989-09-10</td><td>Marketing</td><td>70000.0</td><td>2018-06-11</td><td>karan.malhotra@company.com</td><td>9988012345</td></tr><tr><td>10</td><td>Divya</td><td>Reddy</td><td>1994-04-05</td><td>HR</td><td>55000.0</td><td>2022-01-17</td><td>divya.reddy@company.com</td><td>9123009876</td></tr><tr><td>11</td><td>Arjun</td><td>Joshi</td><td>1986-07-20</td><td>IT</td><td>90000.0</td><td>2013-08-25</td><td>arjun.joshi@company.com</td><td>9801234567</td></tr><tr><td>12</td><td>Meera</td><td>Desai</td><td>1991-12-12</td><td>Finance</td><td>67000.0</td><td>2017-11-19</td><td>meera.desai@company.com</td><td>9321456789</td></tr><tr><td>13</td><td>Suresh</td><td>Pillai</td><td>1983-10-08</td><td>Operations</td><td>78000.0</td><td>2012-05-29</td><td>suresh.pillai@company.com</td><td>9765432190</td></tr><tr><td>14</td><td>Ritika</td><td>Gupta</td><td>1995-03-27</td><td>Sales</td><td>52000.0</td><td>2023-03-15</td><td>ritika.gupta@company.com</td><td>9887766554</td></tr><tr><td>15</td><td>Manoj</td><td>Chopra</td><td>1987-09-14</td><td>IT</td><td>81000.0</td><td>2016-12-01</td><td>manoj.chopra@company.com</td><td>9234567810</td></tr><tr><td>16</td><td>Pooja</td><td>Rastogi</td><td>1990-05-21</td><td>Finance</td><td>63000.0</td><td>2019-04-04</td><td>pooja.rastogi@company.com</td><td>9345671234</td></tr><tr><td>17</td><td>Deepak</td><td>Bansal</td><td>1984-11-11</td><td>Marketing</td><td>72000.0</td><td>2015-09-10</td><td>deepak.bansal@company.com</td><td>9011223344</td></tr><tr><td>18</td><td>Shalini</td><td>Roy</td><td>1992-06-16</td><td>HR</td><td>57000.0</td><td>2020-08-12</td><td>shalini.roy@company.com</td><td>9776655443</td></tr><tr><td>19</td><td>Nikhil</td><td>Agarwal</td><td>1988-01-30</td><td>Operations</td><td>74000.0</td><td>2017-01-29</td><td>nikhil.agarwal@company.com</td><td>9456789012</td></tr><tr><td>20</td><td>Kavya</td><td>Menon</td><td>1993-08-08</td><td>Sales</td><td>61000.0</td><td>2021-06-06</td><td>kavya.menon@company.com</td><td>9988772211</td></tr></tbody></table></div>"
      ]
     },
     "metadata": {
      "application/vnd.databricks.v1+output": {
       "addedWidgets": {},
       "aggData": [],
       "aggError": "",
       "aggOverflow": false,
       "aggSchema": [],
       "aggSeriesLimitReached": false,
       "aggType": "",
       "arguments": {},
       "columnCustomDisplayInfos": {},
       "data": [
        [
         1,
         "Rahul",
         "Sharma",
         "1988-05-12",
         "IT",
         75000.0,
         "2015-06-10",
         "rahul.sharma@company.com",
         "9876543210"
        ],
        [
         2,
         "Ananya",
         "Iyer",
         "1990-11-23",
         "Finance",
         65000.0,
         "2017-04-22",
         "ananya.iyer@company.com",
         "9123456789"
        ],
        [
         3,
         "Vikram",
         "Singh",
         "1985-03-15",
         "HR",
         58000.0,
         "2018-01-05",
         "vikram.singh@company.com",
         "9988776655"
        ],
        [
         4,
         "Priya",
         "Mehta",
         "1992-07-09",
         "Marketing",
         72000.0,
         "2019-07-18",
         "priya.mehta@company.com",
         "9765432109"
        ],
        [
         5,
         "Rohit",
         "Verma",
         "1987-12-30",
         "Operations",
         69000.0,
         "2016-10-12",
         "rohit.verma@company.com",
         "9098765432"
        ],
        [
         6,
         "Sneha",
         "Nair",
         "1991-02-18",
         "Sales",
         60000.0,
         "2020-02-20",
         "sneha.nair@company.com",
         "9345678901"
        ],
        [
         7,
         "Amit",
         "Patel",
         "1984-08-03",
         "IT",
         85000.0,
         "2014-03-14",
         "amit.patel@company.com",
         "9012345678"
        ],
        [
         8,
         "Neha",
         "Kapoor",
         "1993-01-25",
         "Finance",
         56000.0,
         "2021-09-09",
         "neha.kapoor@company.com",
         "9871203456"
        ],
        [
         9,
         "Karan",
         "Malhotra",
         "1989-09-10",
         "Marketing",
         70000.0,
         "2018-06-11",
         "karan.malhotra@company.com",
         "9988012345"
        ],
        [
         10,
         "Divya",
         "Reddy",
         "1994-04-05",
         "HR",
         55000.0,
         "2022-01-17",
         "divya.reddy@company.com",
         "9123009876"
        ],
        [
         11,
         "Arjun",
         "Joshi",
         "1986-07-20",
         "IT",
         90000.0,
         "2013-08-25",
         "arjun.joshi@company.com",
         "9801234567"
        ],
        [
         12,
         "Meera",
         "Desai",
         "1991-12-12",
         "Finance",
         67000.0,
         "2017-11-19",
         "meera.desai@company.com",
         "9321456789"
        ],
        [
         13,
         "Suresh",
         "Pillai",
         "1983-10-08",
         "Operations",
         78000.0,
         "2012-05-29",
         "suresh.pillai@company.com",
         "9765432190"
        ],
        [
         14,
         "Ritika",
         "Gupta",
         "1995-03-27",
         "Sales",
         52000.0,
         "2023-03-15",
         "ritika.gupta@company.com",
         "9887766554"
        ],
        [
         15,
         "Manoj",
         "Chopra",
         "1987-09-14",
         "IT",
         81000.0,
         "2016-12-01",
         "manoj.chopra@company.com",
         "9234567810"
        ],
        [
         16,
         "Pooja",
         "Rastogi",
         "1990-05-21",
         "Finance",
         63000.0,
         "2019-04-04",
         "pooja.rastogi@company.com",
         "9345671234"
        ],
        [
         17,
         "Deepak",
         "Bansal",
         "1984-11-11",
         "Marketing",
         72000.0,
         "2015-09-10",
         "deepak.bansal@company.com",
         "9011223344"
        ],
        [
         18,
         "Shalini",
         "Roy",
         "1992-06-16",
         "HR",
         57000.0,
         "2020-08-12",
         "shalini.roy@company.com",
         "9776655443"
        ],
        [
         19,
         "Nikhil",
         "Agarwal",
         "1988-01-30",
         "Operations",
         74000.0,
         "2017-01-29",
         "nikhil.agarwal@company.com",
         "9456789012"
        ],
        [
         20,
         "Kavya",
         "Menon",
         "1993-08-08",
         "Sales",
         61000.0,
         "2021-06-06",
         "kavya.menon@company.com",
         "9988772211"
        ]
       ],
       "datasetInfos": [],
       "dbfsResultPath": null,
       "isJsonSchema": true,
       "metadata": {},
       "overflow": false,
       "plotOptions": {
        "customPlotOptions": {},
        "displayType": "table",
        "pivotAggregation": null,
        "pivotColumns": null,
        "xColumns": null,
        "yColumns": null
       },
       "removedWidgets": [],
       "schema": [
        {
         "metadata": "{}",
         "name": "emp_id",
         "type": "\"integer\""
        },
        {
         "metadata": "{}",
         "name": "first_name",
         "type": "\"string\""
        },
        {
         "metadata": "{}",
         "name": "last_name",
         "type": "\"string\""
        },
        {
         "metadata": "{}",
         "name": "dob",
         "type": "\"date\""
        },
        {
         "metadata": "{}",
         "name": "department",
         "type": "\"string\""
        },
        {
         "metadata": "{}",
         "name": "salary",
         "type": "\"double\""
        },
        {
         "metadata": "{}",
         "name": "joining_date",
         "type": "\"date\""
        },
        {
         "metadata": "{}",
         "name": "email",
         "type": "\"string\""
        },
        {
         "metadata": "{}",
         "name": "phone_number",
         "type": "\"string\""
        }
       ],
       "type": "table"
      }
     },
     "output_type": "display_data"
    }
   ],
   "source": [
    "employee.display()"
   ]
  },
  {
   "cell_type": "code",
   "execution_count": 0,
   "metadata": {
    "application/vnd.databricks.v1+cell": {
     "cellMetadata": {
      "byteLimit": 2048000,
      "rowLimit": 10000
     },
     "inputWidgets": {},
     "nuid": "8ea0fd2f-c7a9-44e5-8751-a218de0427bd",
     "showTitle": false,
     "tableResultSettingsMap": {},
     "title": ""
    }
   },
   "outputs": [
    {
     "output_type": "stream",
     "name": "stdout",
     "output_type": "stream",
     "text": [
      "+------+----------+---------+----------+----------+-------+------------+--------------------+------------+------+\n|emp_id|first_name|last_name|       dob|department| salary|joining_date|               email|phone_number| bonus|\n+------+----------+---------+----------+----------+-------+------------+--------------------+------------+------+\n|     1|     Rahul|   Sharma|1988-05-12|        IT|75000.0|  2015-06-10|rahul.sharma@comp...|  9876543210|3750.0|\n|     2|    Ananya|     Iyer|1990-11-23|   Finance|65000.0|  2017-04-22|ananya.iyer@compa...|  9123456789|3250.0|\n|     3|    Vikram|    Singh|1985-03-15|        HR|58000.0|  2018-01-05|vikram.singh@comp...|  9988776655|2900.0|\n|     4|     Priya|    Mehta|1992-07-09| Marketing|72000.0|  2019-07-18|priya.mehta@compa...|  9765432109|3600.0|\n|     5|     Rohit|    Verma|1987-12-30|Operations|69000.0|  2016-10-12|rohit.verma@compa...|  9098765432|3450.0|\n|     6|     Sneha|     Nair|1991-02-18|     Sales|60000.0|  2020-02-20|sneha.nair@compan...|  9345678901|3000.0|\n|     7|      Amit|    Patel|1984-08-03|        IT|85000.0|  2014-03-14|amit.patel@compan...|  9012345678|4250.0|\n|     8|      Neha|   Kapoor|1993-01-25|   Finance|56000.0|  2021-09-09|neha.kapoor@compa...|  9871203456|2800.0|\n|     9|     Karan| Malhotra|1989-09-10| Marketing|70000.0|  2018-06-11|karan.malhotra@co...|  9988012345|3500.0|\n|    10|     Divya|    Reddy|1994-04-05|        HR|55000.0|  2022-01-17|divya.reddy@compa...|  9123009876|2750.0|\n|    11|     Arjun|    Joshi|1986-07-20|        IT|90000.0|  2013-08-25|arjun.joshi@compa...|  9801234567|4500.0|\n|    12|     Meera|    Desai|1991-12-12|   Finance|67000.0|  2017-11-19|meera.desai@compa...|  9321456789|3350.0|\n|    13|    Suresh|   Pillai|1983-10-08|Operations|78000.0|  2012-05-29|suresh.pillai@com...|  9765432190|3900.0|\n|    14|    Ritika|    Gupta|1995-03-27|     Sales|52000.0|  2023-03-15|ritika.gupta@comp...|  9887766554|2600.0|\n|    15|     Manoj|   Chopra|1987-09-14|        IT|81000.0|  2016-12-01|manoj.chopra@comp...|  9234567810|4050.0|\n|    16|     Pooja|  Rastogi|1990-05-21|   Finance|63000.0|  2019-04-04|pooja.rastogi@com...|  9345671234|3150.0|\n|    17|    Deepak|   Bansal|1984-11-11| Marketing|72000.0|  2015-09-10|deepak.bansal@com...|  9011223344|3600.0|\n|    18|   Shalini|      Roy|1992-06-16|        HR|57000.0|  2020-08-12|shalini.roy@compa...|  9776655443|2850.0|\n|    19|    Nikhil|  Agarwal|1988-01-30|Operations|74000.0|  2017-01-29|nikhil.agarwal@co...|  9456789012|3700.0|\n|    20|     Kavya|    Menon|1993-08-08|     Sales|61000.0|  2021-06-06|kavya.menon@compa...|  9988772211|3050.0|\n+------+----------+---------+----------+----------+-------+------------+--------------------+------------+------+\n\n"
     ]
    }
   ],
   "source": [
    "employee.selectExpr(\"*\", \"salary * 0.05 as bonus\").show()"
   ]
  },
  {
   "cell_type": "markdown",
   "metadata": {
    "application/vnd.databricks.v1+cell": {
     "cellMetadata": {},
     "inputWidgets": {},
     "nuid": "77d0a1fa-e5ae-4419-b37b-179f3556557f",
     "showTitle": false,
     "tableResultSettingsMap": {},
     "title": ""
    }
   },
   "source": [
    "**_1. Basic transformation_**"
   ]
  },
  {
   "cell_type": "code",
   "execution_count": 0,
   "metadata": {
    "application/vnd.databricks.v1+cell": {
     "cellMetadata": {
      "byteLimit": 2048000,
      "rowLimit": 10000
     },
     "inputWidgets": {},
     "nuid": "aadfaa71-d481-4786-92bb-4c3bd68b2567",
     "showTitle": false,
     "tableResultSettingsMap": {},
     "title": ""
    }
   },
   "outputs": [
    {
     "output_type": "stream",
     "name": "stdout",
     "output_type": "stream",
     "text": [
      "root\n |-- emp_id: integer (nullable = false)\n |-- first_name: string (nullable = true)\n |-- last_name: string (nullable = true)\n |-- dob: date (nullable = true)\n |-- department: string (nullable = true)\n |-- salary: double (nullable = true)\n |-- joining_date: date (nullable = true)\n |-- email: string (nullable = true)\n |-- phone_number: string (nullable = true)\n\n"
     ]
    }
   ],
   "source": [
    "employee.printSchema()"
   ]
  },
  {
   "cell_type": "code",
   "execution_count": 0,
   "metadata": {
    "application/vnd.databricks.v1+cell": {
     "cellMetadata": {
      "byteLimit": 2048000,
      "rowLimit": 10000
     },
     "inputWidgets": {},
     "nuid": "e9432c36-a1f1-4235-80b2-f5c92e7b3f00",
     "showTitle": false,
     "tableResultSettingsMap": {},
     "title": ""
    }
   },
   "outputs": [],
   "source": [
    "tax_cal = employee.select(\"*\", expr(\"salary * 0.02 as tax\"))"
   ]
  },
  {
   "cell_type": "code",
   "execution_count": 0,
   "metadata": {
    "application/vnd.databricks.v1+cell": {
     "cellMetadata": {
      "byteLimit": 2048000,
      "rowLimit": 10000
     },
     "inputWidgets": {},
     "nuid": "78e50d32-6b7d-448c-889f-4acbbd731d09",
     "showTitle": false,
     "tableResultSettingsMap": {},
     "title": ""
    }
   },
   "outputs": [
    {
     "output_type": "display_data",
     "data": {
      "text/html": [
       "<style scoped>\n",
       "  .table-result-container {\n",
       "    max-height: 300px;\n",
       "    overflow: auto;\n",
       "  }\n",
       "  table, th, td {\n",
       "    border: 1px solid black;\n",
       "    border-collapse: collapse;\n",
       "  }\n",
       "  th, td {\n",
       "    padding: 5px;\n",
       "  }\n",
       "  th {\n",
       "    text-align: left;\n",
       "  }\n",
       "</style><div class='table-result-container'><table class='table-result'><thead style='background-color: white'><tr><th>emp_id</th><th>first_name</th><th>last_name</th><th>dob</th><th>department</th><th>salary</th><th>joining_date</th><th>email</th><th>phone_number</th><th>tax</th></tr></thead><tbody><tr><td>1</td><td>Rahul</td><td>Sharma</td><td>1988-05-12</td><td>IT</td><td>75000.0</td><td>2015-06-10</td><td>rahul.sharma@company.com</td><td>9876543210</td><td>1500.0</td></tr><tr><td>2</td><td>Ananya</td><td>Iyer</td><td>1990-11-23</td><td>Finance</td><td>65000.0</td><td>2017-04-22</td><td>ananya.iyer@company.com</td><td>9123456789</td><td>1300.0</td></tr><tr><td>3</td><td>Vikram</td><td>Singh</td><td>1985-03-15</td><td>HR</td><td>58000.0</td><td>2018-01-05</td><td>vikram.singh@company.com</td><td>9988776655</td><td>1160.0</td></tr><tr><td>4</td><td>Priya</td><td>Mehta</td><td>1992-07-09</td><td>Marketing</td><td>72000.0</td><td>2019-07-18</td><td>priya.mehta@company.com</td><td>9765432109</td><td>1440.0</td></tr><tr><td>5</td><td>Rohit</td><td>Verma</td><td>1987-12-30</td><td>Operations</td><td>69000.0</td><td>2016-10-12</td><td>rohit.verma@company.com</td><td>9098765432</td><td>1380.0</td></tr><tr><td>6</td><td>Sneha</td><td>Nair</td><td>1991-02-18</td><td>Sales</td><td>60000.0</td><td>2020-02-20</td><td>sneha.nair@company.com</td><td>9345678901</td><td>1200.0</td></tr><tr><td>7</td><td>Amit</td><td>Patel</td><td>1984-08-03</td><td>IT</td><td>85000.0</td><td>2014-03-14</td><td>amit.patel@company.com</td><td>9012345678</td><td>1700.0</td></tr><tr><td>8</td><td>Neha</td><td>Kapoor</td><td>1993-01-25</td><td>Finance</td><td>56000.0</td><td>2021-09-09</td><td>neha.kapoor@company.com</td><td>9871203456</td><td>1120.0</td></tr><tr><td>9</td><td>Karan</td><td>Malhotra</td><td>1989-09-10</td><td>Marketing</td><td>70000.0</td><td>2018-06-11</td><td>karan.malhotra@company.com</td><td>9988012345</td><td>1400.0</td></tr><tr><td>10</td><td>Divya</td><td>Reddy</td><td>1994-04-05</td><td>HR</td><td>55000.0</td><td>2022-01-17</td><td>divya.reddy@company.com</td><td>9123009876</td><td>1100.0</td></tr><tr><td>11</td><td>Arjun</td><td>Joshi</td><td>1986-07-20</td><td>IT</td><td>90000.0</td><td>2013-08-25</td><td>arjun.joshi@company.com</td><td>9801234567</td><td>1800.0</td></tr><tr><td>12</td><td>Meera</td><td>Desai</td><td>1991-12-12</td><td>Finance</td><td>67000.0</td><td>2017-11-19</td><td>meera.desai@company.com</td><td>9321456789</td><td>1340.0</td></tr><tr><td>13</td><td>Suresh</td><td>Pillai</td><td>1983-10-08</td><td>Operations</td><td>78000.0</td><td>2012-05-29</td><td>suresh.pillai@company.com</td><td>9765432190</td><td>1560.0</td></tr><tr><td>14</td><td>Ritika</td><td>Gupta</td><td>1995-03-27</td><td>Sales</td><td>52000.0</td><td>2023-03-15</td><td>ritika.gupta@company.com</td><td>9887766554</td><td>1040.0</td></tr><tr><td>15</td><td>Manoj</td><td>Chopra</td><td>1987-09-14</td><td>IT</td><td>81000.0</td><td>2016-12-01</td><td>manoj.chopra@company.com</td><td>9234567810</td><td>1620.0</td></tr><tr><td>16</td><td>Pooja</td><td>Rastogi</td><td>1990-05-21</td><td>Finance</td><td>63000.0</td><td>2019-04-04</td><td>pooja.rastogi@company.com</td><td>9345671234</td><td>1260.0</td></tr><tr><td>17</td><td>Deepak</td><td>Bansal</td><td>1984-11-11</td><td>Marketing</td><td>72000.0</td><td>2015-09-10</td><td>deepak.bansal@company.com</td><td>9011223344</td><td>1440.0</td></tr><tr><td>18</td><td>Shalini</td><td>Roy</td><td>1992-06-16</td><td>HR</td><td>57000.0</td><td>2020-08-12</td><td>shalini.roy@company.com</td><td>9776655443</td><td>1140.0</td></tr><tr><td>19</td><td>Nikhil</td><td>Agarwal</td><td>1988-01-30</td><td>Operations</td><td>74000.0</td><td>2017-01-29</td><td>nikhil.agarwal@company.com</td><td>9456789012</td><td>1480.0</td></tr><tr><td>20</td><td>Kavya</td><td>Menon</td><td>1993-08-08</td><td>Sales</td><td>61000.0</td><td>2021-06-06</td><td>kavya.menon@company.com</td><td>9988772211</td><td>1220.0</td></tr></tbody></table></div>"
      ]
     },
     "metadata": {
      "application/vnd.databricks.v1+output": {
       "addedWidgets": {},
       "aggData": [],
       "aggError": "",
       "aggOverflow": false,
       "aggSchema": [],
       "aggSeriesLimitReached": false,
       "aggType": "",
       "arguments": {},
       "columnCustomDisplayInfos": {},
       "data": [
        [
         1,
         "Rahul",
         "Sharma",
         "1988-05-12",
         "IT",
         75000.0,
         "2015-06-10",
         "rahul.sharma@company.com",
         "9876543210",
         1500.0
        ],
        [
         2,
         "Ananya",
         "Iyer",
         "1990-11-23",
         "Finance",
         65000.0,
         "2017-04-22",
         "ananya.iyer@company.com",
         "9123456789",
         1300.0
        ],
        [
         3,
         "Vikram",
         "Singh",
         "1985-03-15",
         "HR",
         58000.0,
         "2018-01-05",
         "vikram.singh@company.com",
         "9988776655",
         1160.0
        ],
        [
         4,
         "Priya",
         "Mehta",
         "1992-07-09",
         "Marketing",
         72000.0,
         "2019-07-18",
         "priya.mehta@company.com",
         "9765432109",
         1440.0
        ],
        [
         5,
         "Rohit",
         "Verma",
         "1987-12-30",
         "Operations",
         69000.0,
         "2016-10-12",
         "rohit.verma@company.com",
         "9098765432",
         1380.0
        ],
        [
         6,
         "Sneha",
         "Nair",
         "1991-02-18",
         "Sales",
         60000.0,
         "2020-02-20",
         "sneha.nair@company.com",
         "9345678901",
         1200.0
        ],
        [
         7,
         "Amit",
         "Patel",
         "1984-08-03",
         "IT",
         85000.0,
         "2014-03-14",
         "amit.patel@company.com",
         "9012345678",
         1700.0
        ],
        [
         8,
         "Neha",
         "Kapoor",
         "1993-01-25",
         "Finance",
         56000.0,
         "2021-09-09",
         "neha.kapoor@company.com",
         "9871203456",
         1120.0
        ],
        [
         9,
         "Karan",
         "Malhotra",
         "1989-09-10",
         "Marketing",
         70000.0,
         "2018-06-11",
         "karan.malhotra@company.com",
         "9988012345",
         1400.0
        ],
        [
         10,
         "Divya",
         "Reddy",
         "1994-04-05",
         "HR",
         55000.0,
         "2022-01-17",
         "divya.reddy@company.com",
         "9123009876",
         1100.0
        ],
        [
         11,
         "Arjun",
         "Joshi",
         "1986-07-20",
         "IT",
         90000.0,
         "2013-08-25",
         "arjun.joshi@company.com",
         "9801234567",
         1800.0
        ],
        [
         12,
         "Meera",
         "Desai",
         "1991-12-12",
         "Finance",
         67000.0,
         "2017-11-19",
         "meera.desai@company.com",
         "9321456789",
         1340.0
        ],
        [
         13,
         "Suresh",
         "Pillai",
         "1983-10-08",
         "Operations",
         78000.0,
         "2012-05-29",
         "suresh.pillai@company.com",
         "9765432190",
         1560.0
        ],
        [
         14,
         "Ritika",
         "Gupta",
         "1995-03-27",
         "Sales",
         52000.0,
         "2023-03-15",
         "ritika.gupta@company.com",
         "9887766554",
         1040.0
        ],
        [
         15,
         "Manoj",
         "Chopra",
         "1987-09-14",
         "IT",
         81000.0,
         "2016-12-01",
         "manoj.chopra@company.com",
         "9234567810",
         1620.0
        ],
        [
         16,
         "Pooja",
         "Rastogi",
         "1990-05-21",
         "Finance",
         63000.0,
         "2019-04-04",
         "pooja.rastogi@company.com",
         "9345671234",
         1260.0
        ],
        [
         17,
         "Deepak",
         "Bansal",
         "1984-11-11",
         "Marketing",
         72000.0,
         "2015-09-10",
         "deepak.bansal@company.com",
         "9011223344",
         1440.0
        ],
        [
         18,
         "Shalini",
         "Roy",
         "1992-06-16",
         "HR",
         57000.0,
         "2020-08-12",
         "shalini.roy@company.com",
         "9776655443",
         1140.0
        ],
        [
         19,
         "Nikhil",
         "Agarwal",
         "1988-01-30",
         "Operations",
         74000.0,
         "2017-01-29",
         "nikhil.agarwal@company.com",
         "9456789012",
         1480.0
        ],
        [
         20,
         "Kavya",
         "Menon",
         "1993-08-08",
         "Sales",
         61000.0,
         "2021-06-06",
         "kavya.menon@company.com",
         "9988772211",
         1220.0
        ]
       ],
       "datasetInfos": [],
       "dbfsResultPath": null,
       "isJsonSchema": true,
       "metadata": {},
       "overflow": false,
       "plotOptions": {
        "customPlotOptions": {},
        "displayType": "table",
        "pivotAggregation": null,
        "pivotColumns": null,
        "xColumns": null,
        "yColumns": null
       },
       "removedWidgets": [],
       "schema": [
        {
         "metadata": "{}",
         "name": "emp_id",
         "type": "\"integer\""
        },
        {
         "metadata": "{}",
         "name": "first_name",
         "type": "\"string\""
        },
        {
         "metadata": "{}",
         "name": "last_name",
         "type": "\"string\""
        },
        {
         "metadata": "{}",
         "name": "dob",
         "type": "\"date\""
        },
        {
         "metadata": "{}",
         "name": "department",
         "type": "\"string\""
        },
        {
         "metadata": "{}",
         "name": "salary",
         "type": "\"double\""
        },
        {
         "metadata": "{}",
         "name": "joining_date",
         "type": "\"date\""
        },
        {
         "metadata": "{}",
         "name": "email",
         "type": "\"string\""
        },
        {
         "metadata": "{}",
         "name": "phone_number",
         "type": "\"string\""
        },
        {
         "metadata": "{}",
         "name": "tax",
         "type": "\"double\""
        }
       ],
       "type": "table"
      }
     },
     "output_type": "display_data"
    }
   ],
   "source": [
    "tax_cal.display()"
   ]
  },
  {
   "cell_type": "code",
   "execution_count": 0,
   "metadata": {
    "application/vnd.databricks.v1+cell": {
     "cellMetadata": {
      "byteLimit": 2048000,
      "rowLimit": 10000
     },
     "inputWidgets": {},
     "nuid": "710b749f-3f10-4960-8297-61b8c7fd263d",
     "showTitle": false,
     "tableResultSettingsMap": {},
     "title": ""
    }
   },
   "outputs": [],
   "source": [
    "tax_cal2 = employee.withColumn(\"tax\", col('salary') * 0.02)"
   ]
  },
  {
   "cell_type": "code",
   "execution_count": 0,
   "metadata": {
    "application/vnd.databricks.v1+cell": {
     "cellMetadata": {
      "byteLimit": 2048000,
      "rowLimit": 10000
     },
     "inputWidgets": {},
     "nuid": "d6b89d84-4536-4f83-a15f-54eb5a48b234",
     "showTitle": false,
     "tableResultSettingsMap": {},
     "title": ""
    }
   },
   "outputs": [
    {
     "output_type": "display_data",
     "data": {
      "text/html": [
       "<style scoped>\n",
       "  .table-result-container {\n",
       "    max-height: 300px;\n",
       "    overflow: auto;\n",
       "  }\n",
       "  table, th, td {\n",
       "    border: 1px solid black;\n",
       "    border-collapse: collapse;\n",
       "  }\n",
       "  th, td {\n",
       "    padding: 5px;\n",
       "  }\n",
       "  th {\n",
       "    text-align: left;\n",
       "  }\n",
       "</style><div class='table-result-container'><table class='table-result'><thead style='background-color: white'><tr><th>emp_id</th><th>first_name</th><th>last_name</th><th>dob</th><th>department</th><th>salary</th><th>joining_date</th><th>email</th><th>phone_number</th><th>tax</th></tr></thead><tbody><tr><td>1</td><td>Rahul</td><td>Sharma</td><td>1988-05-12</td><td>IT</td><td>75000.0</td><td>2015-06-10</td><td>rahul.sharma@company.com</td><td>9876543210</td><td>1500.0</td></tr><tr><td>2</td><td>Ananya</td><td>Iyer</td><td>1990-11-23</td><td>Finance</td><td>65000.0</td><td>2017-04-22</td><td>ananya.iyer@company.com</td><td>9123456789</td><td>1300.0</td></tr><tr><td>3</td><td>Vikram</td><td>Singh</td><td>1985-03-15</td><td>HR</td><td>58000.0</td><td>2018-01-05</td><td>vikram.singh@company.com</td><td>9988776655</td><td>1160.0</td></tr><tr><td>4</td><td>Priya</td><td>Mehta</td><td>1992-07-09</td><td>Marketing</td><td>72000.0</td><td>2019-07-18</td><td>priya.mehta@company.com</td><td>9765432109</td><td>1440.0</td></tr><tr><td>5</td><td>Rohit</td><td>Verma</td><td>1987-12-30</td><td>Operations</td><td>69000.0</td><td>2016-10-12</td><td>rohit.verma@company.com</td><td>9098765432</td><td>1380.0</td></tr><tr><td>6</td><td>Sneha</td><td>Nair</td><td>1991-02-18</td><td>Sales</td><td>60000.0</td><td>2020-02-20</td><td>sneha.nair@company.com</td><td>9345678901</td><td>1200.0</td></tr><tr><td>7</td><td>Amit</td><td>Patel</td><td>1984-08-03</td><td>IT</td><td>85000.0</td><td>2014-03-14</td><td>amit.patel@company.com</td><td>9012345678</td><td>1700.0</td></tr><tr><td>8</td><td>Neha</td><td>Kapoor</td><td>1993-01-25</td><td>Finance</td><td>56000.0</td><td>2021-09-09</td><td>neha.kapoor@company.com</td><td>9871203456</td><td>1120.0</td></tr><tr><td>9</td><td>Karan</td><td>Malhotra</td><td>1989-09-10</td><td>Marketing</td><td>70000.0</td><td>2018-06-11</td><td>karan.malhotra@company.com</td><td>9988012345</td><td>1400.0</td></tr><tr><td>10</td><td>Divya</td><td>Reddy</td><td>1994-04-05</td><td>HR</td><td>55000.0</td><td>2022-01-17</td><td>divya.reddy@company.com</td><td>9123009876</td><td>1100.0</td></tr><tr><td>11</td><td>Arjun</td><td>Joshi</td><td>1986-07-20</td><td>IT</td><td>90000.0</td><td>2013-08-25</td><td>arjun.joshi@company.com</td><td>9801234567</td><td>1800.0</td></tr><tr><td>12</td><td>Meera</td><td>Desai</td><td>1991-12-12</td><td>Finance</td><td>67000.0</td><td>2017-11-19</td><td>meera.desai@company.com</td><td>9321456789</td><td>1340.0</td></tr><tr><td>13</td><td>Suresh</td><td>Pillai</td><td>1983-10-08</td><td>Operations</td><td>78000.0</td><td>2012-05-29</td><td>suresh.pillai@company.com</td><td>9765432190</td><td>1560.0</td></tr><tr><td>14</td><td>Ritika</td><td>Gupta</td><td>1995-03-27</td><td>Sales</td><td>52000.0</td><td>2023-03-15</td><td>ritika.gupta@company.com</td><td>9887766554</td><td>1040.0</td></tr><tr><td>15</td><td>Manoj</td><td>Chopra</td><td>1987-09-14</td><td>IT</td><td>81000.0</td><td>2016-12-01</td><td>manoj.chopra@company.com</td><td>9234567810</td><td>1620.0</td></tr><tr><td>16</td><td>Pooja</td><td>Rastogi</td><td>1990-05-21</td><td>Finance</td><td>63000.0</td><td>2019-04-04</td><td>pooja.rastogi@company.com</td><td>9345671234</td><td>1260.0</td></tr><tr><td>17</td><td>Deepak</td><td>Bansal</td><td>1984-11-11</td><td>Marketing</td><td>72000.0</td><td>2015-09-10</td><td>deepak.bansal@company.com</td><td>9011223344</td><td>1440.0</td></tr><tr><td>18</td><td>Shalini</td><td>Roy</td><td>1992-06-16</td><td>HR</td><td>57000.0</td><td>2020-08-12</td><td>shalini.roy@company.com</td><td>9776655443</td><td>1140.0</td></tr><tr><td>19</td><td>Nikhil</td><td>Agarwal</td><td>1988-01-30</td><td>Operations</td><td>74000.0</td><td>2017-01-29</td><td>nikhil.agarwal@company.com</td><td>9456789012</td><td>1480.0</td></tr><tr><td>20</td><td>Kavya</td><td>Menon</td><td>1993-08-08</td><td>Sales</td><td>61000.0</td><td>2021-06-06</td><td>kavya.menon@company.com</td><td>9988772211</td><td>1220.0</td></tr></tbody></table></div>"
      ]
     },
     "metadata": {
      "application/vnd.databricks.v1+output": {
       "addedWidgets": {},
       "aggData": [],
       "aggError": "",
       "aggOverflow": false,
       "aggSchema": [],
       "aggSeriesLimitReached": false,
       "aggType": "",
       "arguments": {},
       "columnCustomDisplayInfos": {},
       "data": [
        [
         1,
         "Rahul",
         "Sharma",
         "1988-05-12",
         "IT",
         75000.0,
         "2015-06-10",
         "rahul.sharma@company.com",
         "9876543210",
         1500.0
        ],
        [
         2,
         "Ananya",
         "Iyer",
         "1990-11-23",
         "Finance",
         65000.0,
         "2017-04-22",
         "ananya.iyer@company.com",
         "9123456789",
         1300.0
        ],
        [
         3,
         "Vikram",
         "Singh",
         "1985-03-15",
         "HR",
         58000.0,
         "2018-01-05",
         "vikram.singh@company.com",
         "9988776655",
         1160.0
        ],
        [
         4,
         "Priya",
         "Mehta",
         "1992-07-09",
         "Marketing",
         72000.0,
         "2019-07-18",
         "priya.mehta@company.com",
         "9765432109",
         1440.0
        ],
        [
         5,
         "Rohit",
         "Verma",
         "1987-12-30",
         "Operations",
         69000.0,
         "2016-10-12",
         "rohit.verma@company.com",
         "9098765432",
         1380.0
        ],
        [
         6,
         "Sneha",
         "Nair",
         "1991-02-18",
         "Sales",
         60000.0,
         "2020-02-20",
         "sneha.nair@company.com",
         "9345678901",
         1200.0
        ],
        [
         7,
         "Amit",
         "Patel",
         "1984-08-03",
         "IT",
         85000.0,
         "2014-03-14",
         "amit.patel@company.com",
         "9012345678",
         1700.0
        ],
        [
         8,
         "Neha",
         "Kapoor",
         "1993-01-25",
         "Finance",
         56000.0,
         "2021-09-09",
         "neha.kapoor@company.com",
         "9871203456",
         1120.0
        ],
        [
         9,
         "Karan",
         "Malhotra",
         "1989-09-10",
         "Marketing",
         70000.0,
         "2018-06-11",
         "karan.malhotra@company.com",
         "9988012345",
         1400.0
        ],
        [
         10,
         "Divya",
         "Reddy",
         "1994-04-05",
         "HR",
         55000.0,
         "2022-01-17",
         "divya.reddy@company.com",
         "9123009876",
         1100.0
        ],
        [
         11,
         "Arjun",
         "Joshi",
         "1986-07-20",
         "IT",
         90000.0,
         "2013-08-25",
         "arjun.joshi@company.com",
         "9801234567",
         1800.0
        ],
        [
         12,
         "Meera",
         "Desai",
         "1991-12-12",
         "Finance",
         67000.0,
         "2017-11-19",
         "meera.desai@company.com",
         "9321456789",
         1340.0
        ],
        [
         13,
         "Suresh",
         "Pillai",
         "1983-10-08",
         "Operations",
         78000.0,
         "2012-05-29",
         "suresh.pillai@company.com",
         "9765432190",
         1560.0
        ],
        [
         14,
         "Ritika",
         "Gupta",
         "1995-03-27",
         "Sales",
         52000.0,
         "2023-03-15",
         "ritika.gupta@company.com",
         "9887766554",
         1040.0
        ],
        [
         15,
         "Manoj",
         "Chopra",
         "1987-09-14",
         "IT",
         81000.0,
         "2016-12-01",
         "manoj.chopra@company.com",
         "9234567810",
         1620.0
        ],
        [
         16,
         "Pooja",
         "Rastogi",
         "1990-05-21",
         "Finance",
         63000.0,
         "2019-04-04",
         "pooja.rastogi@company.com",
         "9345671234",
         1260.0
        ],
        [
         17,
         "Deepak",
         "Bansal",
         "1984-11-11",
         "Marketing",
         72000.0,
         "2015-09-10",
         "deepak.bansal@company.com",
         "9011223344",
         1440.0
        ],
        [
         18,
         "Shalini",
         "Roy",
         "1992-06-16",
         "HR",
         57000.0,
         "2020-08-12",
         "shalini.roy@company.com",
         "9776655443",
         1140.0
        ],
        [
         19,
         "Nikhil",
         "Agarwal",
         "1988-01-30",
         "Operations",
         74000.0,
         "2017-01-29",
         "nikhil.agarwal@company.com",
         "9456789012",
         1480.0
        ],
        [
         20,
         "Kavya",
         "Menon",
         "1993-08-08",
         "Sales",
         61000.0,
         "2021-06-06",
         "kavya.menon@company.com",
         "9988772211",
         1220.0
        ]
       ],
       "datasetInfos": [],
       "dbfsResultPath": null,
       "isJsonSchema": true,
       "metadata": {},
       "overflow": false,
       "plotOptions": {
        "customPlotOptions": {},
        "displayType": "table",
        "pivotAggregation": null,
        "pivotColumns": null,
        "xColumns": null,
        "yColumns": null
       },
       "removedWidgets": [],
       "schema": [
        {
         "metadata": "{}",
         "name": "emp_id",
         "type": "\"integer\""
        },
        {
         "metadata": "{}",
         "name": "first_name",
         "type": "\"string\""
        },
        {
         "metadata": "{}",
         "name": "last_name",
         "type": "\"string\""
        },
        {
         "metadata": "{}",
         "name": "dob",
         "type": "\"date\""
        },
        {
         "metadata": "{}",
         "name": "department",
         "type": "\"string\""
        },
        {
         "metadata": "{}",
         "name": "salary",
         "type": "\"double\""
        },
        {
         "metadata": "{}",
         "name": "joining_date",
         "type": "\"date\""
        },
        {
         "metadata": "{}",
         "name": "email",
         "type": "\"string\""
        },
        {
         "metadata": "{}",
         "name": "phone_number",
         "type": "\"string\""
        },
        {
         "metadata": "{}",
         "name": "tax",
         "type": "\"double\""
        }
       ],
       "type": "table"
      }
     },
     "output_type": "display_data"
    }
   ],
   "source": [
    "tax_cal2.display()"
   ]
  },
  {
   "cell_type": "markdown",
   "metadata": {
    "application/vnd.databricks.v1+cell": {
     "cellMetadata": {},
     "inputWidgets": {},
     "nuid": "436b7a7a-6f91-460d-ad7c-7a635895e952",
     "showTitle": false,
     "tableResultSettingsMap": {},
     "title": ""
    }
   },
   "source": [
    "Static value in a columns"
   ]
  },
  {
   "cell_type": "code",
   "execution_count": 0,
   "metadata": {
    "application/vnd.databricks.v1+cell": {
     "cellMetadata": {
      "byteLimit": 2048000,
      "rowLimit": 10000
     },
     "inputWidgets": {},
     "nuid": "6d5e9e10-8f05-485c-8f4a-82b16e40df8f",
     "showTitle": false,
     "tableResultSettingsMap": {},
     "title": ""
    }
   },
   "outputs": [],
   "source": [
    "tax_cal2 = tax_cal2.withColumn(\"FY\", lit(\"2025-26\"))"
   ]
  },
  {
   "cell_type": "code",
   "execution_count": 0,
   "metadata": {
    "application/vnd.databricks.v1+cell": {
     "cellMetadata": {
      "byteLimit": 2048000,
      "rowLimit": 10000
     },
     "inputWidgets": {},
     "nuid": "f651b16c-4bf1-4c73-8428-44c0e3ed8ac6",
     "showTitle": false,
     "tableResultSettingsMap": {},
     "title": ""
    }
   },
   "outputs": [
    {
     "output_type": "display_data",
     "data": {
      "text/html": [
       "<style scoped>\n",
       "  .table-result-container {\n",
       "    max-height: 300px;\n",
       "    overflow: auto;\n",
       "  }\n",
       "  table, th, td {\n",
       "    border: 1px solid black;\n",
       "    border-collapse: collapse;\n",
       "  }\n",
       "  th, td {\n",
       "    padding: 5px;\n",
       "  }\n",
       "  th {\n",
       "    text-align: left;\n",
       "  }\n",
       "</style><div class='table-result-container'><table class='table-result'><thead style='background-color: white'><tr><th>emp_id</th><th>first_name</th><th>last_name</th><th>dob</th><th>department</th><th>salary</th><th>joining_date</th><th>email</th><th>phone_number</th><th>tax</th><th>FY</th></tr></thead><tbody><tr><td>1</td><td>Rahul</td><td>Sharma</td><td>1988-05-12</td><td>IT</td><td>75000.0</td><td>2015-06-10</td><td>rahul.sharma@company.com</td><td>9876543210</td><td>1500.0</td><td>2025-26</td></tr><tr><td>2</td><td>Ananya</td><td>Iyer</td><td>1990-11-23</td><td>Finance</td><td>65000.0</td><td>2017-04-22</td><td>ananya.iyer@company.com</td><td>9123456789</td><td>1300.0</td><td>2025-26</td></tr><tr><td>3</td><td>Vikram</td><td>Singh</td><td>1985-03-15</td><td>HR</td><td>58000.0</td><td>2018-01-05</td><td>vikram.singh@company.com</td><td>9988776655</td><td>1160.0</td><td>2025-26</td></tr><tr><td>4</td><td>Priya</td><td>Mehta</td><td>1992-07-09</td><td>Marketing</td><td>72000.0</td><td>2019-07-18</td><td>priya.mehta@company.com</td><td>9765432109</td><td>1440.0</td><td>2025-26</td></tr><tr><td>5</td><td>Rohit</td><td>Verma</td><td>1987-12-30</td><td>Operations</td><td>69000.0</td><td>2016-10-12</td><td>rohit.verma@company.com</td><td>9098765432</td><td>1380.0</td><td>2025-26</td></tr><tr><td>6</td><td>Sneha</td><td>Nair</td><td>1991-02-18</td><td>Sales</td><td>60000.0</td><td>2020-02-20</td><td>sneha.nair@company.com</td><td>9345678901</td><td>1200.0</td><td>2025-26</td></tr><tr><td>7</td><td>Amit</td><td>Patel</td><td>1984-08-03</td><td>IT</td><td>85000.0</td><td>2014-03-14</td><td>amit.patel@company.com</td><td>9012345678</td><td>1700.0</td><td>2025-26</td></tr><tr><td>8</td><td>Neha</td><td>Kapoor</td><td>1993-01-25</td><td>Finance</td><td>56000.0</td><td>2021-09-09</td><td>neha.kapoor@company.com</td><td>9871203456</td><td>1120.0</td><td>2025-26</td></tr><tr><td>9</td><td>Karan</td><td>Malhotra</td><td>1989-09-10</td><td>Marketing</td><td>70000.0</td><td>2018-06-11</td><td>karan.malhotra@company.com</td><td>9988012345</td><td>1400.0</td><td>2025-26</td></tr><tr><td>10</td><td>Divya</td><td>Reddy</td><td>1994-04-05</td><td>HR</td><td>55000.0</td><td>2022-01-17</td><td>divya.reddy@company.com</td><td>9123009876</td><td>1100.0</td><td>2025-26</td></tr><tr><td>11</td><td>Arjun</td><td>Joshi</td><td>1986-07-20</td><td>IT</td><td>90000.0</td><td>2013-08-25</td><td>arjun.joshi@company.com</td><td>9801234567</td><td>1800.0</td><td>2025-26</td></tr><tr><td>12</td><td>Meera</td><td>Desai</td><td>1991-12-12</td><td>Finance</td><td>67000.0</td><td>2017-11-19</td><td>meera.desai@company.com</td><td>9321456789</td><td>1340.0</td><td>2025-26</td></tr><tr><td>13</td><td>Suresh</td><td>Pillai</td><td>1983-10-08</td><td>Operations</td><td>78000.0</td><td>2012-05-29</td><td>suresh.pillai@company.com</td><td>9765432190</td><td>1560.0</td><td>2025-26</td></tr><tr><td>14</td><td>Ritika</td><td>Gupta</td><td>1995-03-27</td><td>Sales</td><td>52000.0</td><td>2023-03-15</td><td>ritika.gupta@company.com</td><td>9887766554</td><td>1040.0</td><td>2025-26</td></tr><tr><td>15</td><td>Manoj</td><td>Chopra</td><td>1987-09-14</td><td>IT</td><td>81000.0</td><td>2016-12-01</td><td>manoj.chopra@company.com</td><td>9234567810</td><td>1620.0</td><td>2025-26</td></tr><tr><td>16</td><td>Pooja</td><td>Rastogi</td><td>1990-05-21</td><td>Finance</td><td>63000.0</td><td>2019-04-04</td><td>pooja.rastogi@company.com</td><td>9345671234</td><td>1260.0</td><td>2025-26</td></tr><tr><td>17</td><td>Deepak</td><td>Bansal</td><td>1984-11-11</td><td>Marketing</td><td>72000.0</td><td>2015-09-10</td><td>deepak.bansal@company.com</td><td>9011223344</td><td>1440.0</td><td>2025-26</td></tr><tr><td>18</td><td>Shalini</td><td>Roy</td><td>1992-06-16</td><td>HR</td><td>57000.0</td><td>2020-08-12</td><td>shalini.roy@company.com</td><td>9776655443</td><td>1140.0</td><td>2025-26</td></tr><tr><td>19</td><td>Nikhil</td><td>Agarwal</td><td>1988-01-30</td><td>Operations</td><td>74000.0</td><td>2017-01-29</td><td>nikhil.agarwal@company.com</td><td>9456789012</td><td>1480.0</td><td>2025-26</td></tr><tr><td>20</td><td>Kavya</td><td>Menon</td><td>1993-08-08</td><td>Sales</td><td>61000.0</td><td>2021-06-06</td><td>kavya.menon@company.com</td><td>9988772211</td><td>1220.0</td><td>2025-26</td></tr></tbody></table></div>"
      ]
     },
     "metadata": {
      "application/vnd.databricks.v1+output": {
       "addedWidgets": {},
       "aggData": [],
       "aggError": "",
       "aggOverflow": false,
       "aggSchema": [],
       "aggSeriesLimitReached": false,
       "aggType": "",
       "arguments": {},
       "columnCustomDisplayInfos": {},
       "data": [
        [
         1,
         "Rahul",
         "Sharma",
         "1988-05-12",
         "IT",
         75000.0,
         "2015-06-10",
         "rahul.sharma@company.com",
         "9876543210",
         1500.0,
         "2025-26"
        ],
        [
         2,
         "Ananya",
         "Iyer",
         "1990-11-23",
         "Finance",
         65000.0,
         "2017-04-22",
         "ananya.iyer@company.com",
         "9123456789",
         1300.0,
         "2025-26"
        ],
        [
         3,
         "Vikram",
         "Singh",
         "1985-03-15",
         "HR",
         58000.0,
         "2018-01-05",
         "vikram.singh@company.com",
         "9988776655",
         1160.0,
         "2025-26"
        ],
        [
         4,
         "Priya",
         "Mehta",
         "1992-07-09",
         "Marketing",
         72000.0,
         "2019-07-18",
         "priya.mehta@company.com",
         "9765432109",
         1440.0,
         "2025-26"
        ],
        [
         5,
         "Rohit",
         "Verma",
         "1987-12-30",
         "Operations",
         69000.0,
         "2016-10-12",
         "rohit.verma@company.com",
         "9098765432",
         1380.0,
         "2025-26"
        ],
        [
         6,
         "Sneha",
         "Nair",
         "1991-02-18",
         "Sales",
         60000.0,
         "2020-02-20",
         "sneha.nair@company.com",
         "9345678901",
         1200.0,
         "2025-26"
        ],
        [
         7,
         "Amit",
         "Patel",
         "1984-08-03",
         "IT",
         85000.0,
         "2014-03-14",
         "amit.patel@company.com",
         "9012345678",
         1700.0,
         "2025-26"
        ],
        [
         8,
         "Neha",
         "Kapoor",
         "1993-01-25",
         "Finance",
         56000.0,
         "2021-09-09",
         "neha.kapoor@company.com",
         "9871203456",
         1120.0,
         "2025-26"
        ],
        [
         9,
         "Karan",
         "Malhotra",
         "1989-09-10",
         "Marketing",
         70000.0,
         "2018-06-11",
         "karan.malhotra@company.com",
         "9988012345",
         1400.0,
         "2025-26"
        ],
        [
         10,
         "Divya",
         "Reddy",
         "1994-04-05",
         "HR",
         55000.0,
         "2022-01-17",
         "divya.reddy@company.com",
         "9123009876",
         1100.0,
         "2025-26"
        ],
        [
         11,
         "Arjun",
         "Joshi",
         "1986-07-20",
         "IT",
         90000.0,
         "2013-08-25",
         "arjun.joshi@company.com",
         "9801234567",
         1800.0,
         "2025-26"
        ],
        [
         12,
         "Meera",
         "Desai",
         "1991-12-12",
         "Finance",
         67000.0,
         "2017-11-19",
         "meera.desai@company.com",
         "9321456789",
         1340.0,
         "2025-26"
        ],
        [
         13,
         "Suresh",
         "Pillai",
         "1983-10-08",
         "Operations",
         78000.0,
         "2012-05-29",
         "suresh.pillai@company.com",
         "9765432190",
         1560.0,
         "2025-26"
        ],
        [
         14,
         "Ritika",
         "Gupta",
         "1995-03-27",
         "Sales",
         52000.0,
         "2023-03-15",
         "ritika.gupta@company.com",
         "9887766554",
         1040.0,
         "2025-26"
        ],
        [
         15,
         "Manoj",
         "Chopra",
         "1987-09-14",
         "IT",
         81000.0,
         "2016-12-01",
         "manoj.chopra@company.com",
         "9234567810",
         1620.0,
         "2025-26"
        ],
        [
         16,
         "Pooja",
         "Rastogi",
         "1990-05-21",
         "Finance",
         63000.0,
         "2019-04-04",
         "pooja.rastogi@company.com",
         "9345671234",
         1260.0,
         "2025-26"
        ],
        [
         17,
         "Deepak",
         "Bansal",
         "1984-11-11",
         "Marketing",
         72000.0,
         "2015-09-10",
         "deepak.bansal@company.com",
         "9011223344",
         1440.0,
         "2025-26"
        ],
        [
         18,
         "Shalini",
         "Roy",
         "1992-06-16",
         "HR",
         57000.0,
         "2020-08-12",
         "shalini.roy@company.com",
         "9776655443",
         1140.0,
         "2025-26"
        ],
        [
         19,
         "Nikhil",
         "Agarwal",
         "1988-01-30",
         "Operations",
         74000.0,
         "2017-01-29",
         "nikhil.agarwal@company.com",
         "9456789012",
         1480.0,
         "2025-26"
        ],
        [
         20,
         "Kavya",
         "Menon",
         "1993-08-08",
         "Sales",
         61000.0,
         "2021-06-06",
         "kavya.menon@company.com",
         "9988772211",
         1220.0,
         "2025-26"
        ]
       ],
       "datasetInfos": [],
       "dbfsResultPath": null,
       "isJsonSchema": true,
       "metadata": {},
       "overflow": false,
       "plotOptions": {
        "customPlotOptions": {},
        "displayType": "table",
        "pivotAggregation": null,
        "pivotColumns": null,
        "xColumns": null,
        "yColumns": null
       },
       "removedWidgets": [],
       "schema": [
        {
         "metadata": "{}",
         "name": "emp_id",
         "type": "\"integer\""
        },
        {
         "metadata": "{}",
         "name": "first_name",
         "type": "\"string\""
        },
        {
         "metadata": "{}",
         "name": "last_name",
         "type": "\"string\""
        },
        {
         "metadata": "{}",
         "name": "dob",
         "type": "\"date\""
        },
        {
         "metadata": "{}",
         "name": "department",
         "type": "\"string\""
        },
        {
         "metadata": "{}",
         "name": "salary",
         "type": "\"double\""
        },
        {
         "metadata": "{}",
         "name": "joining_date",
         "type": "\"date\""
        },
        {
         "metadata": "{}",
         "name": "email",
         "type": "\"string\""
        },
        {
         "metadata": "{}",
         "name": "phone_number",
         "type": "\"string\""
        },
        {
         "metadata": "{}",
         "name": "tax",
         "type": "\"double\""
        },
        {
         "metadata": "{}",
         "name": "FY",
         "type": "\"string\""
        }
       ],
       "type": "table"
      }
     },
     "output_type": "display_data"
    }
   ],
   "source": [
    "tax_cal2.display()"
   ]
  },
  {
   "cell_type": "markdown",
   "metadata": {
    "application/vnd.databricks.v1+cell": {
     "cellMetadata": {},
     "inputWidgets": {},
     "nuid": "5fd4dde5-7f27-464a-9b74-d0a1feca721e",
     "showTitle": false,
     "tableResultSettingsMap": {},
     "title": ""
    }
   },
   "source": [
    "Renaming a column"
   ]
  },
  {
   "cell_type": "code",
   "execution_count": 0,
   "metadata": {
    "application/vnd.databricks.v1+cell": {
     "cellMetadata": {
      "byteLimit": 2048000,
      "rowLimit": 10000
     },
     "inputWidgets": {},
     "nuid": "2eaca53b-e396-4a49-be7e-6e27b21e40cf",
     "showTitle": false,
     "tableResultSettingsMap": {},
     "title": ""
    }
   },
   "outputs": [],
   "source": [
    "tax_cal2 = tax_cal2.withColumnRenamed(\"FY\", \"Financial Year\")"
   ]
  },
  {
   "cell_type": "code",
   "execution_count": 0,
   "metadata": {
    "application/vnd.databricks.v1+cell": {
     "cellMetadata": {
      "byteLimit": 2048000,
      "rowLimit": 10000
     },
     "inputWidgets": {},
     "nuid": "68f70ed6-2283-44d6-b3f5-9ff6e961456a",
     "showTitle": false,
     "tableResultSettingsMap": {},
     "title": ""
    }
   },
   "outputs": [
    {
     "output_type": "display_data",
     "data": {
      "text/html": [
       "<style scoped>\n",
       "  .table-result-container {\n",
       "    max-height: 300px;\n",
       "    overflow: auto;\n",
       "  }\n",
       "  table, th, td {\n",
       "    border: 1px solid black;\n",
       "    border-collapse: collapse;\n",
       "  }\n",
       "  th, td {\n",
       "    padding: 5px;\n",
       "  }\n",
       "  th {\n",
       "    text-align: left;\n",
       "  }\n",
       "</style><div class='table-result-container'><table class='table-result'><thead style='background-color: white'><tr><th>emp_id</th><th>first_name</th><th>last_name</th><th>dob</th><th>department</th><th>salary</th><th>joining_date</th><th>email</th><th>phone_number</th><th>tax</th><th>Financial Year</th></tr></thead><tbody><tr><td>1</td><td>Rahul</td><td>Sharma</td><td>1988-05-12</td><td>IT</td><td>75000.0</td><td>2015-06-10</td><td>rahul.sharma@company.com</td><td>9876543210</td><td>1500.0</td><td>2025-26</td></tr><tr><td>2</td><td>Ananya</td><td>Iyer</td><td>1990-11-23</td><td>Finance</td><td>65000.0</td><td>2017-04-22</td><td>ananya.iyer@company.com</td><td>9123456789</td><td>1300.0</td><td>2025-26</td></tr><tr><td>3</td><td>Vikram</td><td>Singh</td><td>1985-03-15</td><td>HR</td><td>58000.0</td><td>2018-01-05</td><td>vikram.singh@company.com</td><td>9988776655</td><td>1160.0</td><td>2025-26</td></tr><tr><td>4</td><td>Priya</td><td>Mehta</td><td>1992-07-09</td><td>Marketing</td><td>72000.0</td><td>2019-07-18</td><td>priya.mehta@company.com</td><td>9765432109</td><td>1440.0</td><td>2025-26</td></tr><tr><td>5</td><td>Rohit</td><td>Verma</td><td>1987-12-30</td><td>Operations</td><td>69000.0</td><td>2016-10-12</td><td>rohit.verma@company.com</td><td>9098765432</td><td>1380.0</td><td>2025-26</td></tr><tr><td>6</td><td>Sneha</td><td>Nair</td><td>1991-02-18</td><td>Sales</td><td>60000.0</td><td>2020-02-20</td><td>sneha.nair@company.com</td><td>9345678901</td><td>1200.0</td><td>2025-26</td></tr><tr><td>7</td><td>Amit</td><td>Patel</td><td>1984-08-03</td><td>IT</td><td>85000.0</td><td>2014-03-14</td><td>amit.patel@company.com</td><td>9012345678</td><td>1700.0</td><td>2025-26</td></tr><tr><td>8</td><td>Neha</td><td>Kapoor</td><td>1993-01-25</td><td>Finance</td><td>56000.0</td><td>2021-09-09</td><td>neha.kapoor@company.com</td><td>9871203456</td><td>1120.0</td><td>2025-26</td></tr><tr><td>9</td><td>Karan</td><td>Malhotra</td><td>1989-09-10</td><td>Marketing</td><td>70000.0</td><td>2018-06-11</td><td>karan.malhotra@company.com</td><td>9988012345</td><td>1400.0</td><td>2025-26</td></tr><tr><td>10</td><td>Divya</td><td>Reddy</td><td>1994-04-05</td><td>HR</td><td>55000.0</td><td>2022-01-17</td><td>divya.reddy@company.com</td><td>9123009876</td><td>1100.0</td><td>2025-26</td></tr><tr><td>11</td><td>Arjun</td><td>Joshi</td><td>1986-07-20</td><td>IT</td><td>90000.0</td><td>2013-08-25</td><td>arjun.joshi@company.com</td><td>9801234567</td><td>1800.0</td><td>2025-26</td></tr><tr><td>12</td><td>Meera</td><td>Desai</td><td>1991-12-12</td><td>Finance</td><td>67000.0</td><td>2017-11-19</td><td>meera.desai@company.com</td><td>9321456789</td><td>1340.0</td><td>2025-26</td></tr><tr><td>13</td><td>Suresh</td><td>Pillai</td><td>1983-10-08</td><td>Operations</td><td>78000.0</td><td>2012-05-29</td><td>suresh.pillai@company.com</td><td>9765432190</td><td>1560.0</td><td>2025-26</td></tr><tr><td>14</td><td>Ritika</td><td>Gupta</td><td>1995-03-27</td><td>Sales</td><td>52000.0</td><td>2023-03-15</td><td>ritika.gupta@company.com</td><td>9887766554</td><td>1040.0</td><td>2025-26</td></tr><tr><td>15</td><td>Manoj</td><td>Chopra</td><td>1987-09-14</td><td>IT</td><td>81000.0</td><td>2016-12-01</td><td>manoj.chopra@company.com</td><td>9234567810</td><td>1620.0</td><td>2025-26</td></tr><tr><td>16</td><td>Pooja</td><td>Rastogi</td><td>1990-05-21</td><td>Finance</td><td>63000.0</td><td>2019-04-04</td><td>pooja.rastogi@company.com</td><td>9345671234</td><td>1260.0</td><td>2025-26</td></tr><tr><td>17</td><td>Deepak</td><td>Bansal</td><td>1984-11-11</td><td>Marketing</td><td>72000.0</td><td>2015-09-10</td><td>deepak.bansal@company.com</td><td>9011223344</td><td>1440.0</td><td>2025-26</td></tr><tr><td>18</td><td>Shalini</td><td>Roy</td><td>1992-06-16</td><td>HR</td><td>57000.0</td><td>2020-08-12</td><td>shalini.roy@company.com</td><td>9776655443</td><td>1140.0</td><td>2025-26</td></tr><tr><td>19</td><td>Nikhil</td><td>Agarwal</td><td>1988-01-30</td><td>Operations</td><td>74000.0</td><td>2017-01-29</td><td>nikhil.agarwal@company.com</td><td>9456789012</td><td>1480.0</td><td>2025-26</td></tr><tr><td>20</td><td>Kavya</td><td>Menon</td><td>1993-08-08</td><td>Sales</td><td>61000.0</td><td>2021-06-06</td><td>kavya.menon@company.com</td><td>9988772211</td><td>1220.0</td><td>2025-26</td></tr></tbody></table></div>"
      ]
     },
     "metadata": {
      "application/vnd.databricks.v1+output": {
       "addedWidgets": {},
       "aggData": [],
       "aggError": "",
       "aggOverflow": false,
       "aggSchema": [],
       "aggSeriesLimitReached": false,
       "aggType": "",
       "arguments": {},
       "columnCustomDisplayInfos": {},
       "data": [
        [
         1,
         "Rahul",
         "Sharma",
         "1988-05-12",
         "IT",
         75000.0,
         "2015-06-10",
         "rahul.sharma@company.com",
         "9876543210",
         1500.0,
         "2025-26"
        ],
        [
         2,
         "Ananya",
         "Iyer",
         "1990-11-23",
         "Finance",
         65000.0,
         "2017-04-22",
         "ananya.iyer@company.com",
         "9123456789",
         1300.0,
         "2025-26"
        ],
        [
         3,
         "Vikram",
         "Singh",
         "1985-03-15",
         "HR",
         58000.0,
         "2018-01-05",
         "vikram.singh@company.com",
         "9988776655",
         1160.0,
         "2025-26"
        ],
        [
         4,
         "Priya",
         "Mehta",
         "1992-07-09",
         "Marketing",
         72000.0,
         "2019-07-18",
         "priya.mehta@company.com",
         "9765432109",
         1440.0,
         "2025-26"
        ],
        [
         5,
         "Rohit",
         "Verma",
         "1987-12-30",
         "Operations",
         69000.0,
         "2016-10-12",
         "rohit.verma@company.com",
         "9098765432",
         1380.0,
         "2025-26"
        ],
        [
         6,
         "Sneha",
         "Nair",
         "1991-02-18",
         "Sales",
         60000.0,
         "2020-02-20",
         "sneha.nair@company.com",
         "9345678901",
         1200.0,
         "2025-26"
        ],
        [
         7,
         "Amit",
         "Patel",
         "1984-08-03",
         "IT",
         85000.0,
         "2014-03-14",
         "amit.patel@company.com",
         "9012345678",
         1700.0,
         "2025-26"
        ],
        [
         8,
         "Neha",
         "Kapoor",
         "1993-01-25",
         "Finance",
         56000.0,
         "2021-09-09",
         "neha.kapoor@company.com",
         "9871203456",
         1120.0,
         "2025-26"
        ],
        [
         9,
         "Karan",
         "Malhotra",
         "1989-09-10",
         "Marketing",
         70000.0,
         "2018-06-11",
         "karan.malhotra@company.com",
         "9988012345",
         1400.0,
         "2025-26"
        ],
        [
         10,
         "Divya",
         "Reddy",
         "1994-04-05",
         "HR",
         55000.0,
         "2022-01-17",
         "divya.reddy@company.com",
         "9123009876",
         1100.0,
         "2025-26"
        ],
        [
         11,
         "Arjun",
         "Joshi",
         "1986-07-20",
         "IT",
         90000.0,
         "2013-08-25",
         "arjun.joshi@company.com",
         "9801234567",
         1800.0,
         "2025-26"
        ],
        [
         12,
         "Meera",
         "Desai",
         "1991-12-12",
         "Finance",
         67000.0,
         "2017-11-19",
         "meera.desai@company.com",
         "9321456789",
         1340.0,
         "2025-26"
        ],
        [
         13,
         "Suresh",
         "Pillai",
         "1983-10-08",
         "Operations",
         78000.0,
         "2012-05-29",
         "suresh.pillai@company.com",
         "9765432190",
         1560.0,
         "2025-26"
        ],
        [
         14,
         "Ritika",
         "Gupta",
         "1995-03-27",
         "Sales",
         52000.0,
         "2023-03-15",
         "ritika.gupta@company.com",
         "9887766554",
         1040.0,
         "2025-26"
        ],
        [
         15,
         "Manoj",
         "Chopra",
         "1987-09-14",
         "IT",
         81000.0,
         "2016-12-01",
         "manoj.chopra@company.com",
         "9234567810",
         1620.0,
         "2025-26"
        ],
        [
         16,
         "Pooja",
         "Rastogi",
         "1990-05-21",
         "Finance",
         63000.0,
         "2019-04-04",
         "pooja.rastogi@company.com",
         "9345671234",
         1260.0,
         "2025-26"
        ],
        [
         17,
         "Deepak",
         "Bansal",
         "1984-11-11",
         "Marketing",
         72000.0,
         "2015-09-10",
         "deepak.bansal@company.com",
         "9011223344",
         1440.0,
         "2025-26"
        ],
        [
         18,
         "Shalini",
         "Roy",
         "1992-06-16",
         "HR",
         57000.0,
         "2020-08-12",
         "shalini.roy@company.com",
         "9776655443",
         1140.0,
         "2025-26"
        ],
        [
         19,
         "Nikhil",
         "Agarwal",
         "1988-01-30",
         "Operations",
         74000.0,
         "2017-01-29",
         "nikhil.agarwal@company.com",
         "9456789012",
         1480.0,
         "2025-26"
        ],
        [
         20,
         "Kavya",
         "Menon",
         "1993-08-08",
         "Sales",
         61000.0,
         "2021-06-06",
         "kavya.menon@company.com",
         "9988772211",
         1220.0,
         "2025-26"
        ]
       ],
       "datasetInfos": [],
       "dbfsResultPath": null,
       "isJsonSchema": true,
       "metadata": {},
       "overflow": false,
       "plotOptions": {
        "customPlotOptions": {},
        "displayType": "table",
        "pivotAggregation": null,
        "pivotColumns": null,
        "xColumns": null,
        "yColumns": null
       },
       "removedWidgets": [],
       "schema": [
        {
         "metadata": "{}",
         "name": "emp_id",
         "type": "\"integer\""
        },
        {
         "metadata": "{}",
         "name": "first_name",
         "type": "\"string\""
        },
        {
         "metadata": "{}",
         "name": "last_name",
         "type": "\"string\""
        },
        {
         "metadata": "{}",
         "name": "dob",
         "type": "\"date\""
        },
        {
         "metadata": "{}",
         "name": "department",
         "type": "\"string\""
        },
        {
         "metadata": "{}",
         "name": "salary",
         "type": "\"double\""
        },
        {
         "metadata": "{}",
         "name": "joining_date",
         "type": "\"date\""
        },
        {
         "metadata": "{}",
         "name": "email",
         "type": "\"string\""
        },
        {
         "metadata": "{}",
         "name": "phone_number",
         "type": "\"string\""
        },
        {
         "metadata": "{}",
         "name": "tax",
         "type": "\"double\""
        },
        {
         "metadata": "{}",
         "name": "Financial Year",
         "type": "\"string\""
        }
       ],
       "type": "table"
      }
     },
     "output_type": "display_data"
    }
   ],
   "source": [
    "tax_cal2.display()"
   ]
  },
  {
   "cell_type": "markdown",
   "metadata": {
    "application/vnd.databricks.v1+cell": {
     "cellMetadata": {},
     "inputWidgets": {},
     "nuid": "6c8702e4-eae8-4e4a-847a-9ca7ced7dcca",
     "showTitle": false,
     "tableResultSettingsMap": {},
     "title": ""
    }
   },
   "source": [
    "Replace a text (using regular expression)"
   ]
  },
  {
   "cell_type": "code",
   "execution_count": 0,
   "metadata": {
    "application/vnd.databricks.v1+cell": {
     "cellMetadata": {
      "byteLimit": 2048000,
      "rowLimit": 10000
     },
     "inputWidgets": {},
     "nuid": "a6d0146d-8044-43f6-9e55-005db7b0cf73",
     "showTitle": false,
     "tableResultSettingsMap": {},
     "title": ""
    }
   },
   "outputs": [],
   "source": [
    "tax_cal2 = tax_cal2.withColumn(\"email\", regexp_replace(col(\"email\"), \"company\", \"pandit\"))"
   ]
  },
  {
   "cell_type": "code",
   "execution_count": 0,
   "metadata": {
    "application/vnd.databricks.v1+cell": {
     "cellMetadata": {
      "byteLimit": 2048000,
      "rowLimit": 10000
     },
     "inputWidgets": {},
     "nuid": "628e5109-8140-47c1-b122-c341226ce593",
     "showTitle": false,
     "tableResultSettingsMap": {},
     "title": ""
    }
   },
   "outputs": [
    {
     "output_type": "stream",
     "name": "stdout",
     "output_type": "stream",
     "text": [
      "+--------------------+\n|               email|\n+--------------------+\n|rahul.sharma@pand...|\n|ananya.iyer@pandi...|\n|vikram.singh@pand...|\n|priya.mehta@pandi...|\n|rohit.verma@pandi...|\n+--------------------+\n\n"
     ]
    }
   ],
   "source": [
    "tax_cal2.select(\"email\").limit(5).show()"
   ]
  },
  {
   "cell_type": "code",
   "execution_count": 0,
   "metadata": {
    "application/vnd.databricks.v1+cell": {
     "cellMetadata": {
      "byteLimit": 2048000,
      "rowLimit": 10000
     },
     "inputWidgets": {},
     "nuid": "63b2c554-1b88-447d-9a70-050899a26267",
     "showTitle": false,
     "tableResultSettingsMap": {},
     "title": ""
    }
   },
   "outputs": [
    {
     "output_type": "stream",
     "name": "stdout",
     "output_type": "stream",
     "text": [
      "+-----------------------+\n|email                  |\n+-----------------------+\n|rahul.sharma@pandit.com|\n|ananya.iyer@pandit.com |\n|vikram.singh@pandit.com|\n|priya.mehta@pandit.com |\n|rohit.verma@pandit.com |\n+-----------------------+\nonly showing top 5 rows\n\n"
     ]
    }
   ],
   "source": [
    "tax_cal2.select(\"email\").show(5, False)"
   ]
  },
  {
   "cell_type": "markdown",
   "metadata": {
    "application/vnd.databricks.v1+cell": {
     "cellMetadata": {},
     "inputWidgets": {},
     "nuid": "19dab136-b043-4c00-803b-70bb765a04eb",
     "showTitle": false,
     "tableResultSettingsMap": {},
     "title": ""
    }
   },
   "source": [
    "Adding 3 columns at once"
   ]
  },
  {
   "cell_type": "code",
   "execution_count": 0,
   "metadata": {
    "application/vnd.databricks.v1+cell": {
     "cellMetadata": {
      "byteLimit": 2048000,
      "rowLimit": 10000
     },
     "inputWidgets": {},
     "nuid": "fa81a831-e669-4c74-acc3-61f099a18fc6",
     "showTitle": false,
     "tableResultSettingsMap": {},
     "title": ""
    }
   },
   "outputs": [],
   "source": [
    "cols = {\"tax_rate\": lit(0.2),\n",
    "        \"tax\": col(\"salary\") * 0.2,\n",
    "        \"net_pay\": col(\"salary\") - col(\"tax\")}"
   ]
  },
  {
   "cell_type": "code",
   "execution_count": 0,
   "metadata": {
    "application/vnd.databricks.v1+cell": {
     "cellMetadata": {
      "byteLimit": 2048000,
      "rowLimit": 10000
     },
     "inputWidgets": {},
     "nuid": "ca62dde0-fb73-498c-8552-753f869604f8",
     "showTitle": false,
     "tableResultSettingsMap": {},
     "title": ""
    }
   },
   "outputs": [],
   "source": [
    "employee2 = employee.withColumns(cols)"
   ]
  },
  {
   "cell_type": "code",
   "execution_count": 0,
   "metadata": {
    "application/vnd.databricks.v1+cell": {
     "cellMetadata": {
      "byteLimit": 2048000,
      "rowLimit": 10000
     },
     "inputWidgets": {},
     "nuid": "b2847d48-b6aa-42b5-8ee2-d0db93980d7a",
     "showTitle": false,
     "tableResultSettingsMap": {},
     "title": ""
    }
   },
   "outputs": [
    {
     "output_type": "display_data",
     "data": {
      "text/html": [
       "<style scoped>\n",
       "  .table-result-container {\n",
       "    max-height: 300px;\n",
       "    overflow: auto;\n",
       "  }\n",
       "  table, th, td {\n",
       "    border: 1px solid black;\n",
       "    border-collapse: collapse;\n",
       "  }\n",
       "  th, td {\n",
       "    padding: 5px;\n",
       "  }\n",
       "  th {\n",
       "    text-align: left;\n",
       "  }\n",
       "</style><div class='table-result-container'><table class='table-result'><thead style='background-color: white'><tr><th>emp_id</th><th>first_name</th><th>last_name</th><th>dob</th><th>department</th><th>salary</th><th>joining_date</th><th>email</th><th>phone_number</th><th>tax_rate</th><th>tax</th><th>net_pay</th></tr></thead><tbody><tr><td>1</td><td>Rahul</td><td>Sharma</td><td>1988-05-12</td><td>IT</td><td>75000.0</td><td>2015-06-10</td><td>rahul.sharma@company.com</td><td>9876543210</td><td>0.2</td><td>15000.0</td><td>60000.0</td></tr><tr><td>2</td><td>Ananya</td><td>Iyer</td><td>1990-11-23</td><td>Finance</td><td>65000.0</td><td>2017-04-22</td><td>ananya.iyer@company.com</td><td>9123456789</td><td>0.2</td><td>13000.0</td><td>52000.0</td></tr><tr><td>3</td><td>Vikram</td><td>Singh</td><td>1985-03-15</td><td>HR</td><td>58000.0</td><td>2018-01-05</td><td>vikram.singh@company.com</td><td>9988776655</td><td>0.2</td><td>11600.0</td><td>46400.0</td></tr><tr><td>4</td><td>Priya</td><td>Mehta</td><td>1992-07-09</td><td>Marketing</td><td>72000.0</td><td>2019-07-18</td><td>priya.mehta@company.com</td><td>9765432109</td><td>0.2</td><td>14400.0</td><td>57600.0</td></tr><tr><td>5</td><td>Rohit</td><td>Verma</td><td>1987-12-30</td><td>Operations</td><td>69000.0</td><td>2016-10-12</td><td>rohit.verma@company.com</td><td>9098765432</td><td>0.2</td><td>13800.0</td><td>55200.0</td></tr><tr><td>6</td><td>Sneha</td><td>Nair</td><td>1991-02-18</td><td>Sales</td><td>60000.0</td><td>2020-02-20</td><td>sneha.nair@company.com</td><td>9345678901</td><td>0.2</td><td>12000.0</td><td>48000.0</td></tr><tr><td>7</td><td>Amit</td><td>Patel</td><td>1984-08-03</td><td>IT</td><td>85000.0</td><td>2014-03-14</td><td>amit.patel@company.com</td><td>9012345678</td><td>0.2</td><td>17000.0</td><td>68000.0</td></tr><tr><td>8</td><td>Neha</td><td>Kapoor</td><td>1993-01-25</td><td>Finance</td><td>56000.0</td><td>2021-09-09</td><td>neha.kapoor@company.com</td><td>9871203456</td><td>0.2</td><td>11200.0</td><td>44800.0</td></tr><tr><td>9</td><td>Karan</td><td>Malhotra</td><td>1989-09-10</td><td>Marketing</td><td>70000.0</td><td>2018-06-11</td><td>karan.malhotra@company.com</td><td>9988012345</td><td>0.2</td><td>14000.0</td><td>56000.0</td></tr><tr><td>10</td><td>Divya</td><td>Reddy</td><td>1994-04-05</td><td>HR</td><td>55000.0</td><td>2022-01-17</td><td>divya.reddy@company.com</td><td>9123009876</td><td>0.2</td><td>11000.0</td><td>44000.0</td></tr><tr><td>11</td><td>Arjun</td><td>Joshi</td><td>1986-07-20</td><td>IT</td><td>90000.0</td><td>2013-08-25</td><td>arjun.joshi@company.com</td><td>9801234567</td><td>0.2</td><td>18000.0</td><td>72000.0</td></tr><tr><td>12</td><td>Meera</td><td>Desai</td><td>1991-12-12</td><td>Finance</td><td>67000.0</td><td>2017-11-19</td><td>meera.desai@company.com</td><td>9321456789</td><td>0.2</td><td>13400.0</td><td>53600.0</td></tr><tr><td>13</td><td>Suresh</td><td>Pillai</td><td>1983-10-08</td><td>Operations</td><td>78000.0</td><td>2012-05-29</td><td>suresh.pillai@company.com</td><td>9765432190</td><td>0.2</td><td>15600.0</td><td>62400.0</td></tr><tr><td>14</td><td>Ritika</td><td>Gupta</td><td>1995-03-27</td><td>Sales</td><td>52000.0</td><td>2023-03-15</td><td>ritika.gupta@company.com</td><td>9887766554</td><td>0.2</td><td>10400.0</td><td>41600.0</td></tr><tr><td>15</td><td>Manoj</td><td>Chopra</td><td>1987-09-14</td><td>IT</td><td>81000.0</td><td>2016-12-01</td><td>manoj.chopra@company.com</td><td>9234567810</td><td>0.2</td><td>16200.0</td><td>64800.0</td></tr><tr><td>16</td><td>Pooja</td><td>Rastogi</td><td>1990-05-21</td><td>Finance</td><td>63000.0</td><td>2019-04-04</td><td>pooja.rastogi@company.com</td><td>9345671234</td><td>0.2</td><td>12600.0</td><td>50400.0</td></tr><tr><td>17</td><td>Deepak</td><td>Bansal</td><td>1984-11-11</td><td>Marketing</td><td>72000.0</td><td>2015-09-10</td><td>deepak.bansal@company.com</td><td>9011223344</td><td>0.2</td><td>14400.0</td><td>57600.0</td></tr><tr><td>18</td><td>Shalini</td><td>Roy</td><td>1992-06-16</td><td>HR</td><td>57000.0</td><td>2020-08-12</td><td>shalini.roy@company.com</td><td>9776655443</td><td>0.2</td><td>11400.0</td><td>45600.0</td></tr><tr><td>19</td><td>Nikhil</td><td>Agarwal</td><td>1988-01-30</td><td>Operations</td><td>74000.0</td><td>2017-01-29</td><td>nikhil.agarwal@company.com</td><td>9456789012</td><td>0.2</td><td>14800.0</td><td>59200.0</td></tr><tr><td>20</td><td>Kavya</td><td>Menon</td><td>1993-08-08</td><td>Sales</td><td>61000.0</td><td>2021-06-06</td><td>kavya.menon@company.com</td><td>9988772211</td><td>0.2</td><td>12200.0</td><td>48800.0</td></tr></tbody></table></div>"
      ]
     },
     "metadata": {
      "application/vnd.databricks.v1+output": {
       "addedWidgets": {},
       "aggData": [],
       "aggError": "",
       "aggOverflow": false,
       "aggSchema": [],
       "aggSeriesLimitReached": false,
       "aggType": "",
       "arguments": {},
       "columnCustomDisplayInfos": {},
       "data": [
        [
         1,
         "Rahul",
         "Sharma",
         "1988-05-12",
         "IT",
         75000.0,
         "2015-06-10",
         "rahul.sharma@company.com",
         "9876543210",
         0.2,
         15000.0,
         60000.0
        ],
        [
         2,
         "Ananya",
         "Iyer",
         "1990-11-23",
         "Finance",
         65000.0,
         "2017-04-22",
         "ananya.iyer@company.com",
         "9123456789",
         0.2,
         13000.0,
         52000.0
        ],
        [
         3,
         "Vikram",
         "Singh",
         "1985-03-15",
         "HR",
         58000.0,
         "2018-01-05",
         "vikram.singh@company.com",
         "9988776655",
         0.2,
         11600.0,
         46400.0
        ],
        [
         4,
         "Priya",
         "Mehta",
         "1992-07-09",
         "Marketing",
         72000.0,
         "2019-07-18",
         "priya.mehta@company.com",
         "9765432109",
         0.2,
         14400.0,
         57600.0
        ],
        [
         5,
         "Rohit",
         "Verma",
         "1987-12-30",
         "Operations",
         69000.0,
         "2016-10-12",
         "rohit.verma@company.com",
         "9098765432",
         0.2,
         13800.0,
         55200.0
        ],
        [
         6,
         "Sneha",
         "Nair",
         "1991-02-18",
         "Sales",
         60000.0,
         "2020-02-20",
         "sneha.nair@company.com",
         "9345678901",
         0.2,
         12000.0,
         48000.0
        ],
        [
         7,
         "Amit",
         "Patel",
         "1984-08-03",
         "IT",
         85000.0,
         "2014-03-14",
         "amit.patel@company.com",
         "9012345678",
         0.2,
         17000.0,
         68000.0
        ],
        [
         8,
         "Neha",
         "Kapoor",
         "1993-01-25",
         "Finance",
         56000.0,
         "2021-09-09",
         "neha.kapoor@company.com",
         "9871203456",
         0.2,
         11200.0,
         44800.0
        ],
        [
         9,
         "Karan",
         "Malhotra",
         "1989-09-10",
         "Marketing",
         70000.0,
         "2018-06-11",
         "karan.malhotra@company.com",
         "9988012345",
         0.2,
         14000.0,
         56000.0
        ],
        [
         10,
         "Divya",
         "Reddy",
         "1994-04-05",
         "HR",
         55000.0,
         "2022-01-17",
         "divya.reddy@company.com",
         "9123009876",
         0.2,
         11000.0,
         44000.0
        ],
        [
         11,
         "Arjun",
         "Joshi",
         "1986-07-20",
         "IT",
         90000.0,
         "2013-08-25",
         "arjun.joshi@company.com",
         "9801234567",
         0.2,
         18000.0,
         72000.0
        ],
        [
         12,
         "Meera",
         "Desai",
         "1991-12-12",
         "Finance",
         67000.0,
         "2017-11-19",
         "meera.desai@company.com",
         "9321456789",
         0.2,
         13400.0,
         53600.0
        ],
        [
         13,
         "Suresh",
         "Pillai",
         "1983-10-08",
         "Operations",
         78000.0,
         "2012-05-29",
         "suresh.pillai@company.com",
         "9765432190",
         0.2,
         15600.0,
         62400.0
        ],
        [
         14,
         "Ritika",
         "Gupta",
         "1995-03-27",
         "Sales",
         52000.0,
         "2023-03-15",
         "ritika.gupta@company.com",
         "9887766554",
         0.2,
         10400.0,
         41600.0
        ],
        [
         15,
         "Manoj",
         "Chopra",
         "1987-09-14",
         "IT",
         81000.0,
         "2016-12-01",
         "manoj.chopra@company.com",
         "9234567810",
         0.2,
         16200.0,
         64800.0
        ],
        [
         16,
         "Pooja",
         "Rastogi",
         "1990-05-21",
         "Finance",
         63000.0,
         "2019-04-04",
         "pooja.rastogi@company.com",
         "9345671234",
         0.2,
         12600.0,
         50400.0
        ],
        [
         17,
         "Deepak",
         "Bansal",
         "1984-11-11",
         "Marketing",
         72000.0,
         "2015-09-10",
         "deepak.bansal@company.com",
         "9011223344",
         0.2,
         14400.0,
         57600.0
        ],
        [
         18,
         "Shalini",
         "Roy",
         "1992-06-16",
         "HR",
         57000.0,
         "2020-08-12",
         "shalini.roy@company.com",
         "9776655443",
         0.2,
         11400.0,
         45600.0
        ],
        [
         19,
         "Nikhil",
         "Agarwal",
         "1988-01-30",
         "Operations",
         74000.0,
         "2017-01-29",
         "nikhil.agarwal@company.com",
         "9456789012",
         0.2,
         14800.0,
         59200.0
        ],
        [
         20,
         "Kavya",
         "Menon",
         "1993-08-08",
         "Sales",
         61000.0,
         "2021-06-06",
         "kavya.menon@company.com",
         "9988772211",
         0.2,
         12200.0,
         48800.0
        ]
       ],
       "datasetInfos": [],
       "dbfsResultPath": null,
       "isJsonSchema": true,
       "metadata": {},
       "overflow": false,
       "plotOptions": {
        "customPlotOptions": {},
        "displayType": "table",
        "pivotAggregation": null,
        "pivotColumns": null,
        "xColumns": null,
        "yColumns": null
       },
       "removedWidgets": [],
       "schema": [
        {
         "metadata": "{}",
         "name": "emp_id",
         "type": "\"integer\""
        },
        {
         "metadata": "{}",
         "name": "first_name",
         "type": "\"string\""
        },
        {
         "metadata": "{}",
         "name": "last_name",
         "type": "\"string\""
        },
        {
         "metadata": "{}",
         "name": "dob",
         "type": "\"date\""
        },
        {
         "metadata": "{}",
         "name": "department",
         "type": "\"string\""
        },
        {
         "metadata": "{}",
         "name": "salary",
         "type": "\"double\""
        },
        {
         "metadata": "{}",
         "name": "joining_date",
         "type": "\"date\""
        },
        {
         "metadata": "{}",
         "name": "email",
         "type": "\"string\""
        },
        {
         "metadata": "{}",
         "name": "phone_number",
         "type": "\"string\""
        },
        {
         "metadata": "{}",
         "name": "tax_rate",
         "type": "\"double\""
        },
        {
         "metadata": "{}",
         "name": "tax",
         "type": "\"double\""
        },
        {
         "metadata": "{}",
         "name": "net_pay",
         "type": "\"double\""
        }
       ],
       "type": "table"
      }
     },
     "output_type": "display_data"
    }
   ],
   "source": [
    "employee2.display()"
   ]
  },
  {
   "cell_type": "markdown",
   "metadata": {
    "application/vnd.databricks.v1+cell": {
     "cellMetadata": {},
     "inputWidgets": {},
     "nuid": "d4652599-1fbc-4f9b-bcfc-89185ddcd951",
     "showTitle": false,
     "tableResultSettingsMap": {},
     "title": ""
    }
   },
   "source": [
    "Case statement (referred as when and otherwise in spark API)"
   ]
  },
  {
   "cell_type": "code",
   "execution_count": 0,
   "metadata": {
    "application/vnd.databricks.v1+cell": {
     "cellMetadata": {},
     "inputWidgets": {},
     "nuid": "06fc9089-126f-4e1b-be3f-a71ed42095fb",
     "showTitle": false,
     "tableResultSettingsMap": {},
     "title": ""
    }
   },
   "outputs": [],
   "source": [
    "#eg- Assume Finance and Marketing seats in Mumbai, Sales and HR in Noida and IT and Operations in Bangalore. Need to add the location column"
   ]
  },
  {
   "cell_type": "code",
   "execution_count": 0,
   "metadata": {
    "application/vnd.databricks.v1+cell": {
     "cellMetadata": {
      "byteLimit": 2048000,
      "rowLimit": 10000
     },
     "inputWidgets": {},
     "nuid": "5bae9b50-e050-4b72-aa1b-05fb3334b27b",
     "showTitle": false,
     "tableResultSettingsMap": {},
     "title": ""
    }
   },
   "outputs": [],
   "source": [
    "employee_with_location = employee.withColumn(\"location\", when(col(\"department\").isin(\"Finance\",\"Marketing\"),\"Mumbai\")\\\n",
    "    .when(col(\"department\").isin(\"Sales\",\"HR\"),\"Noida\")\\\n",
    "    .when(col(\"department\").isin(\"IT\",\"Operations\"),\"Bangalore\")\\\n",
    "    .otherwise(None))"
   ]
  },
  {
   "cell_type": "code",
   "execution_count": 0,
   "metadata": {
    "application/vnd.databricks.v1+cell": {
     "cellMetadata": {
      "byteLimit": 2048000,
      "rowLimit": 10000
     },
     "inputWidgets": {},
     "nuid": "939d8d89-8f7e-482b-9e7d-67ab088c24fe",
     "showTitle": false,
     "tableResultSettingsMap": {},
     "title": ""
    }
   },
   "outputs": [
    {
     "output_type": "stream",
     "name": "stdout",
     "output_type": "stream",
     "text": [
      "+------+----------+---------+----------+----------+-------+------------+--------------------+------------+---------+\n|emp_id|first_name|last_name|       dob|department| salary|joining_date|               email|phone_number| location|\n+------+----------+---------+----------+----------+-------+------------+--------------------+------------+---------+\n|     1|     Rahul|   Sharma|1988-05-12|        IT|75000.0|  2015-06-10|rahul.sharma@comp...|  9876543210|Bangalore|\n|     2|    Ananya|     Iyer|1990-11-23|   Finance|65000.0|  2017-04-22|ananya.iyer@compa...|  9123456789|   Mumbai|\n|     3|    Vikram|    Singh|1985-03-15|        HR|58000.0|  2018-01-05|vikram.singh@comp...|  9988776655|    Noida|\n|     4|     Priya|    Mehta|1992-07-09| Marketing|72000.0|  2019-07-18|priya.mehta@compa...|  9765432109|   Mumbai|\n|     5|     Rohit|    Verma|1987-12-30|Operations|69000.0|  2016-10-12|rohit.verma@compa...|  9098765432|Bangalore|\n|     6|     Sneha|     Nair|1991-02-18|     Sales|60000.0|  2020-02-20|sneha.nair@compan...|  9345678901|    Noida|\n|     7|      Amit|    Patel|1984-08-03|        IT|85000.0|  2014-03-14|amit.patel@compan...|  9012345678|Bangalore|\n|     8|      Neha|   Kapoor|1993-01-25|   Finance|56000.0|  2021-09-09|neha.kapoor@compa...|  9871203456|   Mumbai|\n|     9|     Karan| Malhotra|1989-09-10| Marketing|70000.0|  2018-06-11|karan.malhotra@co...|  9988012345|   Mumbai|\n|    10|     Divya|    Reddy|1994-04-05|        HR|55000.0|  2022-01-17|divya.reddy@compa...|  9123009876|    Noida|\n|    11|     Arjun|    Joshi|1986-07-20|        IT|90000.0|  2013-08-25|arjun.joshi@compa...|  9801234567|Bangalore|\n|    12|     Meera|    Desai|1991-12-12|   Finance|67000.0|  2017-11-19|meera.desai@compa...|  9321456789|   Mumbai|\n|    13|    Suresh|   Pillai|1983-10-08|Operations|78000.0|  2012-05-29|suresh.pillai@com...|  9765432190|Bangalore|\n|    14|    Ritika|    Gupta|1995-03-27|     Sales|52000.0|  2023-03-15|ritika.gupta@comp...|  9887766554|    Noida|\n|    15|     Manoj|   Chopra|1987-09-14|        IT|81000.0|  2016-12-01|manoj.chopra@comp...|  9234567810|Bangalore|\n|    16|     Pooja|  Rastogi|1990-05-21|   Finance|63000.0|  2019-04-04|pooja.rastogi@com...|  9345671234|   Mumbai|\n|    17|    Deepak|   Bansal|1984-11-11| Marketing|72000.0|  2015-09-10|deepak.bansal@com...|  9011223344|   Mumbai|\n|    18|   Shalini|      Roy|1992-06-16|        HR|57000.0|  2020-08-12|shalini.roy@compa...|  9776655443|    Noida|\n|    19|    Nikhil|  Agarwal|1988-01-30|Operations|74000.0|  2017-01-29|nikhil.agarwal@co...|  9456789012|Bangalore|\n|    20|     Kavya|    Menon|1993-08-08|     Sales|61000.0|  2021-06-06|kavya.menon@compa...|  9988772211|    Noida|\n+------+----------+---------+----------+----------+-------+------------+--------------------+------------+---------+\n\n"
     ]
    }
   ],
   "source": [
    "employee_with_location.show()"
   ]
  }
 ],
 "metadata": {
  "application/vnd.databricks.v1+notebook": {
   "computePreferences": null,
   "dashboards": [],
   "environmentMetadata": {
    "base_environment": "",
    "environment_version": "1"
   },
   "inputWidgetPreferences": null,
   "language": "python",
   "notebookMetadata": {
    "pythonIndentUnit": 4
   },
   "notebookName": "Rb-PySpark-2 (31-08-2025)",
   "widgets": {}
  }
 },
 "nbformat": 4,
 "nbformat_minor": 0
}